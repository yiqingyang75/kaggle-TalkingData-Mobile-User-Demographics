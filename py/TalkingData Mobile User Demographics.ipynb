{
 "cells": [
  {
   "cell_type": "code",
   "execution_count": 1,
   "metadata": {
    "collapsed": true
   },
   "outputs": [],
   "source": [
    "import pandas as pd\n",
    "import numpy as np\n",
    "import matplotlib.pyplot as plt \n",
    "import seaborn as sns\n",
    "%matplotlib inline\n",
    "\n",
    "from IPython.core.interactiveshell import InteractiveShell\n",
    "InteractiveShell.ast_node_interactivity = \"all\"\n",
    "\n",
    "plt.rcParams['font.sans-serif'] = ['SimHei']\n",
    "plt.rcParams['font.serif'] = ['SimHei']\n",
    "sns.set_style(\"darkgrid\",{\"font.sans-serif\":['simhei', 'Arial']})"
   ]
  },
  {
   "cell_type": "code",
   "execution_count": 2,
   "metadata": {
    "collapsed": false
   },
   "outputs": [
    {
     "name": "stderr",
     "output_type": "stream",
     "text": [
      "C:\\Users\\yiqin\\Anaconda3\\lib\\site-packages\\numpy\\lib\\arraysetops.py:466: FutureWarning: elementwise comparison failed; returning scalar instead, but in the future will perform elementwise comparison\n",
      "  mask |= (ar1 == a)\n"
     ]
    }
   ],
   "source": [
    "train = pd.read_csv('../input/gender_age_train.csv',index_col='device_id')\n",
    "test = pd.read_csv('../input/gender_age_test.csv',index_col='device_id')\n",
    "phone = pd.read_csv('../input/phone_brand_device_model.csv',encoding='utf-8')\n",
    "phone = phone.drop_duplicates('device_id',keep='first').set_index('device_id') #drop duplicate phone\n",
    "events = pd.read_csv('../input/events.csv', parse_dates=['timestamp'], index_col='event_id')\n",
    "appevents = pd.read_csv('../input/app_events.csv', usecols=['event_id','app_id','is_active'], dtype={'is_active':bool})\n",
    "applabels = pd.read_csv('../input/app_labels.csv') #one app can have multiple labels\n",
    "labelcat = pd.read_csv('../input/label_categories.csv')"
   ]
  },
  {
   "cell_type": "code",
   "execution_count": 6,
   "metadata": {
    "collapsed": false,
    "scrolled": true
   },
   "outputs": [
    {
     "data": {
      "text/html": [
       "<div>\n",
       "<style scoped>\n",
       "    .dataframe tbody tr th:only-of-type {\n",
       "        vertical-align: middle;\n",
       "    }\n",
       "\n",
       "    .dataframe tbody tr th {\n",
       "        vertical-align: top;\n",
       "    }\n",
       "\n",
       "    .dataframe thead th {\n",
       "        text-align: right;\n",
       "    }\n",
       "</style>\n",
       "<table border=\"1\" class=\"dataframe\">\n",
       "  <thead>\n",
       "    <tr style=\"text-align: right;\">\n",
       "      <th></th>\n",
       "      <th>gender</th>\n",
       "      <th>age</th>\n",
       "      <th>group</th>\n",
       "    </tr>\n",
       "    <tr>\n",
       "      <th>device_id</th>\n",
       "      <th></th>\n",
       "      <th></th>\n",
       "      <th></th>\n",
       "    </tr>\n",
       "  </thead>\n",
       "  <tbody>\n",
       "    <tr>\n",
       "      <th>-8076087639492063270</th>\n",
       "      <td>M</td>\n",
       "      <td>35</td>\n",
       "      <td>M32-38</td>\n",
       "    </tr>\n",
       "    <tr>\n",
       "      <th>-2897161552818060146</th>\n",
       "      <td>M</td>\n",
       "      <td>35</td>\n",
       "      <td>M32-38</td>\n",
       "    </tr>\n",
       "    <tr>\n",
       "      <th>-8260683887967679142</th>\n",
       "      <td>M</td>\n",
       "      <td>35</td>\n",
       "      <td>M32-38</td>\n",
       "    </tr>\n",
       "  </tbody>\n",
       "</table>\n",
       "</div>"
      ],
      "text/plain": [
       "                     gender  age   group\n",
       "device_id                               \n",
       "-8076087639492063270      M   35  M32-38\n",
       "-2897161552818060146      M   35  M32-38\n",
       "-8260683887967679142      M   35  M32-38"
      ]
     },
     "execution_count": 6,
     "metadata": {},
     "output_type": "execute_result"
    },
    {
     "data": {
      "text/html": [
       "<div>\n",
       "<style scoped>\n",
       "    .dataframe tbody tr th:only-of-type {\n",
       "        vertical-align: middle;\n",
       "    }\n",
       "\n",
       "    .dataframe tbody tr th {\n",
       "        vertical-align: top;\n",
       "    }\n",
       "\n",
       "    .dataframe thead th {\n",
       "        text-align: right;\n",
       "    }\n",
       "</style>\n",
       "<table border=\"1\" class=\"dataframe\">\n",
       "  <thead>\n",
       "    <tr style=\"text-align: right;\">\n",
       "      <th></th>\n",
       "      <th>device_id</th>\n",
       "      <th>phone_brand</th>\n",
       "      <th>device_model</th>\n",
       "    </tr>\n",
       "  </thead>\n",
       "  <tbody>\n",
       "    <tr>\n",
       "      <th>0</th>\n",
       "      <td>-8890648629457979026</td>\n",
       "      <td>小米</td>\n",
       "      <td>红米</td>\n",
       "    </tr>\n",
       "    <tr>\n",
       "      <th>1</th>\n",
       "      <td>1277779817574759137</td>\n",
       "      <td>小米</td>\n",
       "      <td>MI 2</td>\n",
       "    </tr>\n",
       "    <tr>\n",
       "      <th>2</th>\n",
       "      <td>5137427614288105724</td>\n",
       "      <td>三星</td>\n",
       "      <td>Galaxy S4</td>\n",
       "    </tr>\n",
       "  </tbody>\n",
       "</table>\n",
       "</div>"
      ],
      "text/plain": [
       "             device_id phone_brand device_model\n",
       "0 -8890648629457979026          小米           红米\n",
       "1  1277779817574759137          小米         MI 2\n",
       "2  5137427614288105724          三星    Galaxy S4"
      ]
     },
     "execution_count": 6,
     "metadata": {},
     "output_type": "execute_result"
    },
    {
     "data": {
      "text/html": [
       "<div>\n",
       "<style scoped>\n",
       "    .dataframe tbody tr th:only-of-type {\n",
       "        vertical-align: middle;\n",
       "    }\n",
       "\n",
       "    .dataframe tbody tr th {\n",
       "        vertical-align: top;\n",
       "    }\n",
       "\n",
       "    .dataframe thead th {\n",
       "        text-align: right;\n",
       "    }\n",
       "</style>\n",
       "<table border=\"1\" class=\"dataframe\">\n",
       "  <thead>\n",
       "    <tr style=\"text-align: right;\">\n",
       "      <th></th>\n",
       "      <th>device_id</th>\n",
       "      <th>timestamp</th>\n",
       "      <th>longitude</th>\n",
       "      <th>latitude</th>\n",
       "    </tr>\n",
       "    <tr>\n",
       "      <th>event_id</th>\n",
       "      <th></th>\n",
       "      <th></th>\n",
       "      <th></th>\n",
       "      <th></th>\n",
       "    </tr>\n",
       "  </thead>\n",
       "  <tbody>\n",
       "    <tr>\n",
       "      <th>1</th>\n",
       "      <td>29182687948017175</td>\n",
       "      <td>2016-05-01 00:55:25</td>\n",
       "      <td>121.38</td>\n",
       "      <td>31.24</td>\n",
       "    </tr>\n",
       "    <tr>\n",
       "      <th>2</th>\n",
       "      <td>-6401643145415154744</td>\n",
       "      <td>2016-05-01 00:54:12</td>\n",
       "      <td>103.65</td>\n",
       "      <td>30.97</td>\n",
       "    </tr>\n",
       "    <tr>\n",
       "      <th>3</th>\n",
       "      <td>-4833982096941402721</td>\n",
       "      <td>2016-05-01 00:08:05</td>\n",
       "      <td>106.60</td>\n",
       "      <td>29.70</td>\n",
       "    </tr>\n",
       "  </tbody>\n",
       "</table>\n",
       "</div>"
      ],
      "text/plain": [
       "                    device_id           timestamp  longitude  latitude\n",
       "event_id                                                              \n",
       "1           29182687948017175 2016-05-01 00:55:25     121.38     31.24\n",
       "2        -6401643145415154744 2016-05-01 00:54:12     103.65     30.97\n",
       "3        -4833982096941402721 2016-05-01 00:08:05     106.60     29.70"
      ]
     },
     "execution_count": 6,
     "metadata": {},
     "output_type": "execute_result"
    },
    {
     "data": {
      "text/html": [
       "<div>\n",
       "<style scoped>\n",
       "    .dataframe tbody tr th:only-of-type {\n",
       "        vertical-align: middle;\n",
       "    }\n",
       "\n",
       "    .dataframe tbody tr th {\n",
       "        vertical-align: top;\n",
       "    }\n",
       "\n",
       "    .dataframe thead th {\n",
       "        text-align: right;\n",
       "    }\n",
       "</style>\n",
       "<table border=\"1\" class=\"dataframe\">\n",
       "  <thead>\n",
       "    <tr style=\"text-align: right;\">\n",
       "      <th></th>\n",
       "      <th>event_id</th>\n",
       "      <th>app_id</th>\n",
       "      <th>is_active</th>\n",
       "    </tr>\n",
       "  </thead>\n",
       "  <tbody>\n",
       "    <tr>\n",
       "      <th>0</th>\n",
       "      <td>2</td>\n",
       "      <td>5927333115845830913</td>\n",
       "      <td>True</td>\n",
       "    </tr>\n",
       "    <tr>\n",
       "      <th>1</th>\n",
       "      <td>2</td>\n",
       "      <td>-5720078949152207372</td>\n",
       "      <td>False</td>\n",
       "    </tr>\n",
       "    <tr>\n",
       "      <th>2</th>\n",
       "      <td>2</td>\n",
       "      <td>-1633887856876571208</td>\n",
       "      <td>False</td>\n",
       "    </tr>\n",
       "  </tbody>\n",
       "</table>\n",
       "</div>"
      ],
      "text/plain": [
       "   event_id               app_id  is_active\n",
       "0         2  5927333115845830913       True\n",
       "1         2 -5720078949152207372      False\n",
       "2         2 -1633887856876571208      False"
      ]
     },
     "execution_count": 6,
     "metadata": {},
     "output_type": "execute_result"
    },
    {
     "data": {
      "text/html": [
       "<div>\n",
       "<style scoped>\n",
       "    .dataframe tbody tr th:only-of-type {\n",
       "        vertical-align: middle;\n",
       "    }\n",
       "\n",
       "    .dataframe tbody tr th {\n",
       "        vertical-align: top;\n",
       "    }\n",
       "\n",
       "    .dataframe thead th {\n",
       "        text-align: right;\n",
       "    }\n",
       "</style>\n",
       "<table border=\"1\" class=\"dataframe\">\n",
       "  <thead>\n",
       "    <tr style=\"text-align: right;\">\n",
       "      <th></th>\n",
       "      <th>app_id</th>\n",
       "      <th>label_id</th>\n",
       "    </tr>\n",
       "  </thead>\n",
       "  <tbody>\n",
       "    <tr>\n",
       "      <th>0</th>\n",
       "      <td>7324884708820027918</td>\n",
       "      <td>251</td>\n",
       "    </tr>\n",
       "    <tr>\n",
       "      <th>1</th>\n",
       "      <td>-4494216993218550286</td>\n",
       "      <td>251</td>\n",
       "    </tr>\n",
       "    <tr>\n",
       "      <th>2</th>\n",
       "      <td>6058196446775239644</td>\n",
       "      <td>406</td>\n",
       "    </tr>\n",
       "  </tbody>\n",
       "</table>\n",
       "</div>"
      ],
      "text/plain": [
       "                app_id  label_id\n",
       "0  7324884708820027918       251\n",
       "1 -4494216993218550286       251\n",
       "2  6058196446775239644       406"
      ]
     },
     "execution_count": 6,
     "metadata": {},
     "output_type": "execute_result"
    },
    {
     "data": {
      "text/html": [
       "<div>\n",
       "<style scoped>\n",
       "    .dataframe tbody tr th:only-of-type {\n",
       "        vertical-align: middle;\n",
       "    }\n",
       "\n",
       "    .dataframe tbody tr th {\n",
       "        vertical-align: top;\n",
       "    }\n",
       "\n",
       "    .dataframe thead th {\n",
       "        text-align: right;\n",
       "    }\n",
       "</style>\n",
       "<table border=\"1\" class=\"dataframe\">\n",
       "  <thead>\n",
       "    <tr style=\"text-align: right;\">\n",
       "      <th></th>\n",
       "      <th>label_id</th>\n",
       "      <th>category</th>\n",
       "    </tr>\n",
       "  </thead>\n",
       "  <tbody>\n",
       "    <tr>\n",
       "      <th>0</th>\n",
       "      <td>1</td>\n",
       "      <td>NaN</td>\n",
       "    </tr>\n",
       "    <tr>\n",
       "      <th>1</th>\n",
       "      <td>2</td>\n",
       "      <td>game-game type</td>\n",
       "    </tr>\n",
       "    <tr>\n",
       "      <th>2</th>\n",
       "      <td>3</td>\n",
       "      <td>game-Game themes</td>\n",
       "    </tr>\n",
       "  </tbody>\n",
       "</table>\n",
       "</div>"
      ],
      "text/plain": [
       "   label_id          category\n",
       "0         1               NaN\n",
       "1         2    game-game type\n",
       "2         3  game-Game themes"
      ]
     },
     "execution_count": 6,
     "metadata": {},
     "output_type": "execute_result"
    }
   ],
   "source": [
    "train.head(3)\n",
    "phone.head(3)\n",
    "events.head(3)\n",
    "appevents.head(3)\n",
    "applabels.head(3)\n",
    "labelcat.head(3)"
   ]
  },
  {
   "cell_type": "code",
   "execution_count": 58,
   "metadata": {
    "collapsed": false
   },
   "outputs": [
    {
     "data": {
      "text/plain": [
       "(74645, 4)"
      ]
     },
     "execution_count": 58,
     "metadata": {},
     "output_type": "execute_result"
    },
    {
     "data": {
      "text/plain": [
       "(112071, 1)"
      ]
     },
     "execution_count": 58,
     "metadata": {},
     "output_type": "execute_result"
    },
    {
     "data": {
      "text/plain": [
       "(186716, 4)"
      ]
     },
     "execution_count": 58,
     "metadata": {},
     "output_type": "execute_result"
    },
    {
     "data": {
      "text/plain": [
       "(3252950, 4)"
      ]
     },
     "execution_count": 58,
     "metadata": {},
     "output_type": "execute_result"
    },
    {
     "data": {
      "text/plain": [
       "(32473067, 4)"
      ]
     },
     "execution_count": 58,
     "metadata": {},
     "output_type": "execute_result"
    },
    {
     "data": {
      "text/plain": [
       "(78204, 5)"
      ]
     },
     "execution_count": 58,
     "metadata": {},
     "output_type": "execute_result"
    },
    {
     "data": {
      "text/plain": [
       "(930, 2)"
      ]
     },
     "execution_count": 58,
     "metadata": {},
     "output_type": "execute_result"
    }
   ],
   "source": [
    "train.shape\n",
    "test.shape\n",
    "phone.shape\n",
    "events.shape\n",
    "appevents.shape\n",
    "applabels.shape\n",
    "labelcat.shape"
   ]
  },
  {
   "cell_type": "code",
   "execution_count": 75,
   "metadata": {
    "collapsed": false
   },
   "outputs": [
    {
     "data": {
      "text/plain": [
       "gender      0\n",
       "age         0\n",
       "group       0\n",
       "trainrow    0\n",
       "dtype: int64"
      ]
     },
     "execution_count": 75,
     "metadata": {},
     "output_type": "execute_result"
    },
    {
     "data": {
      "text/plain": [
       "testrow    0\n",
       "dtype: int64"
      ]
     },
     "execution_count": 75,
     "metadata": {},
     "output_type": "execute_result"
    },
    {
     "data": {
      "text/plain": [
       "phone_brand           0\n",
       "device_model          0\n",
       "eng_phone_brand    1184\n",
       "brand                 0\n",
       "dtype: int64"
      ]
     },
     "execution_count": 75,
     "metadata": {},
     "output_type": "execute_result"
    },
    {
     "data": {
      "text/plain": [
       "device_id    0\n",
       "timestamp    0\n",
       "longitude    0\n",
       "latitude     0\n",
       "dtype: int64"
      ]
     },
     "execution_count": 75,
     "metadata": {},
     "output_type": "execute_result"
    },
    {
     "data": {
      "text/plain": [
       "event_id     0\n",
       "app_id       0\n",
       "is_active    0\n",
       "app          0\n",
       "dtype: int64"
      ]
     },
     "execution_count": 75,
     "metadata": {},
     "output_type": "execute_result"
    },
    {
     "data": {
      "text/plain": [
       "app_id      0\n",
       "label_id    0\n",
       "app         0\n",
       "label       0\n",
       "category    0\n",
       "dtype: int64"
      ]
     },
     "execution_count": 75,
     "metadata": {},
     "output_type": "execute_result"
    },
    {
     "data": {
      "text/plain": [
       "label_id    0\n",
       "category    3\n",
       "dtype: int64"
      ]
     },
     "execution_count": 75,
     "metadata": {},
     "output_type": "execute_result"
    }
   ],
   "source": [
    "train.isnull().sum()\n",
    "test.isnull().sum()\n",
    "phone.isnull().sum()\n",
    "events.isnull().sum()\n",
    "appevents.isnull().sum()\n",
    "applabels.isnull().sum()\n",
    "labelcat.isnull().sum()"
   ]
  },
  {
   "cell_type": "markdown",
   "metadata": {
    "collapsed": false
   },
   "source": [
    "# Data Processing & EDA"
   ]
  },
  {
   "cell_type": "code",
   "execution_count": 4,
   "metadata": {
    "collapsed": true
   },
   "outputs": [],
   "source": [
    "from sklearn.preprocessing import LabelEncoder\n",
    "from scipy.sparse import csr_matrix, hstack"
   ]
  },
  {
   "cell_type": "code",
   "execution_count": 5,
   "metadata": {
    "collapsed": false
   },
   "outputs": [],
   "source": [
    "train['trainrow'] = np.arange(train.shape[0])\n",
    "test['testrow'] = np.arange(test.shape[0])"
   ]
  },
  {
   "cell_type": "markdown",
   "metadata": {},
   "source": [
    "#### phone brand"
   ]
  },
  {
   "cell_type": "code",
   "execution_count": 6,
   "metadata": {
    "collapsed": false,
    "scrolled": true
   },
   "outputs": [
    {
     "data": {
      "text/html": [
       "<div>\n",
       "<style scoped>\n",
       "    .dataframe tbody tr th:only-of-type {\n",
       "        vertical-align: middle;\n",
       "    }\n",
       "\n",
       "    .dataframe tbody tr th {\n",
       "        vertical-align: top;\n",
       "    }\n",
       "\n",
       "    .dataframe thead th {\n",
       "        text-align: right;\n",
       "    }\n",
       "</style>\n",
       "<table border=\"1\" class=\"dataframe\">\n",
       "  <thead>\n",
       "    <tr style=\"text-align: right;\">\n",
       "      <th></th>\n",
       "      <th>phone_brand</th>\n",
       "      <th>device_model</th>\n",
       "      <th>eng_phone_brand</th>\n",
       "      <th>brand</th>\n",
       "    </tr>\n",
       "    <tr>\n",
       "      <th>device_id</th>\n",
       "      <th></th>\n",
       "      <th></th>\n",
       "      <th></th>\n",
       "      <th></th>\n",
       "    </tr>\n",
       "  </thead>\n",
       "  <tbody>\n",
       "    <tr>\n",
       "      <th>-8890648629457979026</th>\n",
       "      <td>小米</td>\n",
       "      <td>红米</td>\n",
       "      <td>MI</td>\n",
       "      <td>51</td>\n",
       "    </tr>\n",
       "    <tr>\n",
       "      <th>1277779817574759137</th>\n",
       "      <td>小米</td>\n",
       "      <td>MI 2</td>\n",
       "      <td>MI</td>\n",
       "      <td>51</td>\n",
       "    </tr>\n",
       "    <tr>\n",
       "      <th>5137427614288105724</th>\n",
       "      <td>三星</td>\n",
       "      <td>Galaxy S4</td>\n",
       "      <td>samsung</td>\n",
       "      <td>15</td>\n",
       "    </tr>\n",
       "  </tbody>\n",
       "</table>\n",
       "</div>"
      ],
      "text/plain": [
       "                     phone_brand device_model eng_phone_brand  brand\n",
       "device_id                                                           \n",
       "-8890648629457979026          小米           红米              MI     51\n",
       " 1277779817574759137          小米         MI 2              MI     51\n",
       " 5137427614288105724          三星    Galaxy S4         samsung     15"
      ]
     },
     "execution_count": 6,
     "metadata": {},
     "output_type": "execute_result"
    }
   ],
   "source": [
    "#add english name to phone brand\n",
    "phone_brand = list([\"索尼\", \"中兴\", \"金立\", \"魅族\", \"华为\", \"酷派\", \"小米\", \"MIL\", \"PPTV\", \"ZOYE\", \"Lovme\", \"SUGAR\", \"LOGO\", \"TCL\", \"ZUK\", \"LG\", \"HTC\", \"vivo\", \"OPPO\", \"E派\", \"一加\", \"三星\",\"中国移动\",\"乐视\",\"乡米\",\"优米\",\"优购\",\"努比亚\",\"华硕\",\"唯米\",\"基伍\",\"夏新\",\"大可乐\",\"天语\",\"富可视\",\"小杨树\",\"尼比鲁\",\"德赛\",\"摩乐\",\"摩托罗拉\",\"昂达\",\"易派\",\"普耐尔\",\"朵唯\",\"梦米\",\"欧新\",\"欧比\",\"沃普丰\",\"波导\",\"海信\",\"海尔\",\"爱派尔\",\"神舟\",\"米奇\",\"米歌\",\"糖葫芦\",\"糯米\",\"纽曼\",\"维图\",\"美图\",\"聆韵\",\"联想\",\"艾优尼\",\"西米\",\"语信\",\"诺基亚\",\"谷歌\",\"邦华\",\"酷比魔方\",\"酷珀\",\"锤子\",\"青橙\",\"飞秒\",\"黑米\"])\n",
    "eng_phone_brand = list([\"Sony\", \"ZTE\", \"gionee\", \"meizu\", \"huawei\", \"coolpad\", \"MI\", \"MIL\", \"PPTV\", \"ZOYE\", \"Lovme\", \"SUGAR\", \"LOGO\", \"TCL\", \"ZUK\", \"LG\", \"HTC\", \"vivo\", \"OPPO\", \"epai\",\"oneplus\", \"samsung\", \"ccmc\", \"lshi\", \"xiangmi\", \"youmi\", \"yougo\", \"nubia\", \"asus\", \"weimi\", \"kiwu\", \"panosonic\", \"bigcola\", \"Ktouch\", \"fks\", \"smallt\", \"nibilu\", \"desci\", \"mole\", \"moto\", \"ada\", \"epai\", \"pner\", \"dowe\", \"mengmi\", \"ouxin\", \"obi\", \"wpf\", \"bodao\", \"hisense\", \"haier\", \"ipair\", \"hasse\", \"micky\", \"mige\", \"candy\", \"nuomi\", \"newman\", \"weitu\", \"meitu\", \"lingyun\", \"lenovo\", \"aiyouni\", \"ximi\", \"yuxin\", \"nokia\", \"google\", \"banghua\", \"koobee\", \"kupo\", \"hammer\", \"greeno\", \"fs\", \"heymi\"])\n",
    "phone_brand_trans = pd.DataFrame({'phone_brand': phone_brand, 'eng_phone_brand': eng_phone_brand})\n",
    "phone = phone.merge(phone_brand_trans,how = \"left\", on = \"phone_brand\").set_index(phone.index)\n",
    "\n",
    "#encode brand\n",
    "brandencoder = LabelEncoder().fit(phone.phone_brand)\n",
    "phone['brand'] = brandencoder.transform(phone['phone_brand'])\n",
    "phone.head(3)"
   ]
  },
  {
   "cell_type": "code",
   "execution_count": 7,
   "metadata": {
    "collapsed": false,
    "scrolled": true
   },
   "outputs": [
    {
     "data": {
      "text/html": [
       "<div>\n",
       "<style scoped>\n",
       "    .dataframe tbody tr th:only-of-type {\n",
       "        vertical-align: middle;\n",
       "    }\n",
       "\n",
       "    .dataframe tbody tr th {\n",
       "        vertical-align: top;\n",
       "    }\n",
       "\n",
       "    .dataframe thead th {\n",
       "        text-align: right;\n",
       "    }\n",
       "</style>\n",
       "<table border=\"1\" class=\"dataframe\">\n",
       "  <thead>\n",
       "    <tr style=\"text-align: right;\">\n",
       "      <th></th>\n",
       "      <th>gender</th>\n",
       "      <th>age</th>\n",
       "      <th>group</th>\n",
       "      <th>trainrow</th>\n",
       "      <th>phone_brand</th>\n",
       "      <th>device_model</th>\n",
       "      <th>eng_phone_brand</th>\n",
       "      <th>brand</th>\n",
       "    </tr>\n",
       "    <tr>\n",
       "      <th>device_id</th>\n",
       "      <th></th>\n",
       "      <th></th>\n",
       "      <th></th>\n",
       "      <th></th>\n",
       "      <th></th>\n",
       "      <th></th>\n",
       "      <th></th>\n",
       "      <th></th>\n",
       "    </tr>\n",
       "  </thead>\n",
       "  <tbody>\n",
       "    <tr>\n",
       "      <th>-8076087639492063270</th>\n",
       "      <td>M</td>\n",
       "      <td>35</td>\n",
       "      <td>M32-38</td>\n",
       "      <td>0</td>\n",
       "      <td>小米</td>\n",
       "      <td>MI 2</td>\n",
       "      <td>MI</td>\n",
       "      <td>51</td>\n",
       "    </tr>\n",
       "    <tr>\n",
       "      <th>-2897161552818060146</th>\n",
       "      <td>M</td>\n",
       "      <td>35</td>\n",
       "      <td>M32-38</td>\n",
       "      <td>1</td>\n",
       "      <td>小米</td>\n",
       "      <td>MI 2</td>\n",
       "      <td>MI</td>\n",
       "      <td>51</td>\n",
       "    </tr>\n",
       "    <tr>\n",
       "      <th>-8260683887967679142</th>\n",
       "      <td>M</td>\n",
       "      <td>35</td>\n",
       "      <td>M32-38</td>\n",
       "      <td>2</td>\n",
       "      <td>小米</td>\n",
       "      <td>MI 2</td>\n",
       "      <td>MI</td>\n",
       "      <td>51</td>\n",
       "    </tr>\n",
       "  </tbody>\n",
       "</table>\n",
       "</div>"
      ],
      "text/plain": [
       "                     gender  age   group  trainrow phone_brand device_model  \\\n",
       "device_id                                                                     \n",
       "-8076087639492063270      M   35  M32-38         0          小米         MI 2   \n",
       "-2897161552818060146      M   35  M32-38         1          小米         MI 2   \n",
       "-8260683887967679142      M   35  M32-38         2          小米         MI 2   \n",
       "\n",
       "                     eng_phone_brand  brand  \n",
       "device_id                                    \n",
       "-8076087639492063270              MI     51  \n",
       "-2897161552818060146              MI     51  \n",
       "-8260683887967679142              MI     51  "
      ]
     },
     "execution_count": 7,
     "metadata": {},
     "output_type": "execute_result"
    },
    {
     "data": {
      "text/html": [
       "<div>\n",
       "<style scoped>\n",
       "    .dataframe tbody tr th:only-of-type {\n",
       "        vertical-align: middle;\n",
       "    }\n",
       "\n",
       "    .dataframe tbody tr th {\n",
       "        vertical-align: top;\n",
       "    }\n",
       "\n",
       "    .dataframe thead th {\n",
       "        text-align: right;\n",
       "    }\n",
       "</style>\n",
       "<table border=\"1\" class=\"dataframe\">\n",
       "  <thead>\n",
       "    <tr style=\"text-align: right;\">\n",
       "      <th></th>\n",
       "      <th>testrow</th>\n",
       "      <th>phone_brand</th>\n",
       "      <th>device_model</th>\n",
       "      <th>eng_phone_brand</th>\n",
       "      <th>brand</th>\n",
       "    </tr>\n",
       "    <tr>\n",
       "      <th>device_id</th>\n",
       "      <th></th>\n",
       "      <th></th>\n",
       "      <th></th>\n",
       "      <th></th>\n",
       "      <th></th>\n",
       "    </tr>\n",
       "  </thead>\n",
       "  <tbody>\n",
       "    <tr>\n",
       "      <th>1002079943728939269</th>\n",
       "      <td>0</td>\n",
       "      <td>小米</td>\n",
       "      <td>小米note</td>\n",
       "      <td>MI</td>\n",
       "      <td>51</td>\n",
       "    </tr>\n",
       "    <tr>\n",
       "      <th>-1547860181818787117</th>\n",
       "      <td>1</td>\n",
       "      <td>小米</td>\n",
       "      <td>红米2</td>\n",
       "      <td>MI</td>\n",
       "      <td>51</td>\n",
       "    </tr>\n",
       "    <tr>\n",
       "      <th>7374582448058474277</th>\n",
       "      <td>2</td>\n",
       "      <td>华为</td>\n",
       "      <td>Y523-L176</td>\n",
       "      <td>huawei</td>\n",
       "      <td>31</td>\n",
       "    </tr>\n",
       "  </tbody>\n",
       "</table>\n",
       "</div>"
      ],
      "text/plain": [
       "                      testrow phone_brand device_model eng_phone_brand  brand\n",
       "device_id                                                                    \n",
       " 1002079943728939269        0          小米       小米note              MI     51\n",
       "-1547860181818787117        1          小米          红米2              MI     51\n",
       " 7374582448058474277        2          华为    Y523-L176          huawei     31"
      ]
     },
     "execution_count": 7,
     "metadata": {},
     "output_type": "execute_result"
    }
   ],
   "source": [
    "train_phone = pd.merge(train,phone,how = \"left\", left_index=True, right_index=True)\n",
    "test_phone = pd.merge(test,phone,how = \"left\", left_index=True, right_index=True)\n",
    "train_phone.head(3)\n",
    "test_phone.head(3)"
   ]
  },
  {
   "cell_type": "markdown",
   "metadata": {},
   "source": [
    "10 most popular brands account for more than 90% of devices. "
   ]
  },
  {
   "cell_type": "code",
   "execution_count": 8,
   "metadata": {
    "collapsed": false
   },
   "outputs": [
    {
     "data": {
      "text/plain": [
       "[<matplotlib.lines.Line2D at 0x27828549a90>]"
      ]
     },
     "execution_count": 8,
     "metadata": {},
     "output_type": "execute_result"
    },
    {
     "data": {
      "text/plain": [
       "(0, 30)"
      ]
     },
     "execution_count": 8,
     "metadata": {},
     "output_type": "execute_result"
    },
    {
     "data": {
      "text/plain": [
       "Text(0.5,0,'N most popular brands')"
      ]
     },
     "execution_count": 8,
     "metadata": {},
     "output_type": "execute_result"
    },
    {
     "data": {
      "text/plain": [
       "Text(0,0.5,'% of devices')"
      ]
     },
     "execution_count": 8,
     "metadata": {},
     "output_type": "execute_result"
    },
    {
     "name": "stderr",
     "output_type": "stream",
     "text": [
      "C:\\Users\\yiqin\\Anaconda3\\lib\\site-packages\\seaborn\\categorical.py:1424: FutureWarning: remove_na is deprecated and is a private function. Do not use.\n",
      "  stat_data = remove_na(group_data)\n"
     ]
    },
    {
     "data": {
      "text/plain": [
       "Text(0.5,0,'count of brand')"
      ]
     },
     "execution_count": 8,
     "metadata": {},
     "output_type": "execute_result"
    },
    {
     "data": {
      "image/png": "[encoded data removed]",
      "text/plain": [
       "<matplotlib.figure.Figure at 0x27828549f98>"
      ]
     },
     "metadata": {},
     "output_type": "display_data"
    }
   ],
   "source": [
    "c = phone.brand.value_counts()\n",
    "s = c.cumsum()/c.sum()\n",
    "fig, (ax1,ax2) = plt.subplots(1,2,sharey=False,figsize=(10,4))\n",
    "ax1.plot(np.arange(s.shape[0])+1, s.values*100)\n",
    "ax1.set_xlim(0,30)\n",
    "ax1.set_xlabel('N most popular brands')\n",
    "ax1.set_ylabel('% of devices')\n",
    "\n",
    "brand_count = phone[\"eng_phone_brand\"].value_counts().reset_index().head(10)\n",
    "ax2 = sns.barplot(y = brand_count[\"index\"],x = brand_count[\"eng_phone_brand\"])\n",
    "ax2.set_xlabel('count of brand')"
   ]
  },
  {
   "cell_type": "markdown",
   "metadata": {},
   "source": [
    "top 10 phone brand in each group"
   ]
  },
  {
   "cell_type": "code",
   "execution_count": 9,
   "metadata": {
    "collapsed": false,
    "scrolled": true
   },
   "outputs": [
    {
     "data": {
      "text/plain": [
       "<matplotlib.figure.Figure at 0x2782a041b38>"
      ]
     },
     "execution_count": 9,
     "metadata": {},
     "output_type": "execute_result"
    },
    {
     "name": "stderr",
     "output_type": "stream",
     "text": [
      "C:\\Users\\yiqin\\Anaconda3\\lib\\site-packages\\seaborn\\categorical.py:1464: FutureWarning: remove_na is deprecated and is a private function. Do not use.\n",
      "  stat_data = remove_na(group_data[hue_mask])\n"
     ]
    },
    {
     "data": {
      "text/plain": [
       "<matplotlib.axes._subplots.AxesSubplot at 0x27812fbde48>"
      ]
     },
     "execution_count": 9,
     "metadata": {},
     "output_type": "execute_result"
    },
    {
     "data": {
      "image/png": "[encoded data removed]",
      "text/plain": [
       "<matplotlib.figure.Figure at 0x2782a041b38>"
      ]
     },
     "metadata": {},
     "output_type": "display_data"
    }
   ],
   "source": [
    "d1 = train_phone.groupby([\"eng_phone_brand\",\"group\"])[\"age\"].count().reset_index().sort_values(by = [\"age\"],ascending = False)\n",
    "d2 = d1.groupby('group').apply(lambda dfg: dfg.nlargest(10,'age')).reset_index(drop=True)\n",
    "\n",
    "plt.figure(figsize=(10,30))  \n",
    "sns.barplot(y = d2[\"group\"],x = d2[\"age\"],hue = d2[\"eng_phone_brand\"],edgecolor=\"black\")"
   ]
  },
  {
   "cell_type": "markdown",
   "metadata": {},
   "source": [
    "Median age in top 10 phone brand. User of Samsung, Huawei and lenova are relativly older."
   ]
  },
  {
   "cell_type": "code",
   "execution_count": 10,
   "metadata": {
    "collapsed": false,
    "scrolled": false
   },
   "outputs": [
    {
     "data": {
      "text/plain": [
       "<matplotlib.figure.Figure at 0x2782852a0f0>"
      ]
     },
     "execution_count": 10,
     "metadata": {},
     "output_type": "execute_result"
    },
    {
     "name": "stderr",
     "output_type": "stream",
     "text": [
      "C:\\Users\\yiqin\\Anaconda3\\lib\\site-packages\\seaborn\\categorical.py:478: FutureWarning: remove_na is deprecated and is a private function. Do not use.\n",
      "  box_data = remove_na(group_data[hue_mask])\n"
     ]
    },
    {
     "data": {
      "text/plain": [
       "<matplotlib.axes._subplots.AxesSubplot at 0x27812ccce10>"
      ]
     },
     "execution_count": 10,
     "metadata": {},
     "output_type": "execute_result"
    },
    {
     "data": {
      "text/plain": [
       "<matplotlib.lines.Line2D at 0x27808262f98>"
      ]
     },
     "execution_count": 10,
     "metadata": {},
     "output_type": "execute_result"
    },
    {
     "data": {
      "text/plain": [
       "(0, 60)"
      ]
     },
     "execution_count": 10,
     "metadata": {},
     "output_type": "execute_result"
    },
    {
     "data": {
      "image/png": "[encoded data removed]",
      "text/plain": [
       "<matplotlib.figure.Figure at 0x2782852a0f0>"
      ]
     },
     "metadata": {},
     "output_type": "display_data"
    }
   ],
   "source": [
    "plt.figure(figsize=(10,6))\n",
    "sns.boxplot(x = \"eng_phone_brand\", y = \"age\", hue = \"gender\",palette='rainbow',\n",
    "            data=train_phone.loc[train_phone[\"eng_phone_brand\"].isin(list(brand_count[\"index\"]))])\n",
    "plt.axhline(train_phone[\"age\"].median(),color = \"red\")\n",
    "plt.ylim(0,60)"
   ]
  },
  {
   "cell_type": "markdown",
   "metadata": {},
   "source": [
    "OPPO, Samsung, and Vivo are preffered by female than male"
   ]
  },
  {
   "cell_type": "code",
   "execution_count": 11,
   "metadata": {
    "collapsed": false,
    "scrolled": true
   },
   "outputs": [
    {
     "data": {
      "text/plain": [
       "<matplotlib.axes._subplots.AxesSubplot at 0x27814a87748>"
      ]
     },
     "execution_count": 11,
     "metadata": {},
     "output_type": "execute_result"
    },
    {
     "data": {
      "text/plain": [
       "<matplotlib.lines.Line2D at 0x27812e539e8>"
      ]
     },
     "execution_count": 11,
     "metadata": {},
     "output_type": "execute_result"
    },
    {
     "data": {
      "text/plain": [
       "Text(0.5,0,'brand')"
      ]
     },
     "execution_count": 11,
     "metadata": {},
     "output_type": "execute_result"
    },
    {
     "data": {
      "text/plain": [
       "Text(0,0.5,'percentage')"
      ]
     },
     "execution_count": 11,
     "metadata": {},
     "output_type": "execute_result"
    },
    {
     "data": {
      "image/png": "[encoded data removed]",
      "text/plain": [
       "<matplotlib.figure.Figure at 0x27815435710>"
      ]
     },
     "metadata": {},
     "output_type": "display_data"
    }
   ],
   "source": [
    "d1 = train_phone.loc[train_phone[\"eng_phone_brand\"].isin(list(brand_count[\"index\"]))].groupby(\n",
    "    [\"eng_phone_brand\",\"gender\"])[\"age\"].count()\n",
    "d2 = d1.groupby(level=0).apply(lambda x: 100 * x / float(x.sum()))\n",
    "d2.unstack().plot(kind='bar',stacked=True)\n",
    "plt.axhline(d2.unstack()[\"F\"].mean(),color = \"red\")\n",
    "plt.xlabel(\"brand\")\n",
    "plt.ylabel(\"percentage\")"
   ]
  },
  {
   "cell_type": "code",
   "execution_count": 77,
   "metadata": {
    "collapsed": false,
    "scrolled": true
   },
   "outputs": [
    {
     "data": {
      "text/html": [
       "<div>\n",
       "<style scoped>\n",
       "    .dataframe tbody tr th:only-of-type {\n",
       "        vertical-align: middle;\n",
       "    }\n",
       "\n",
       "    .dataframe tbody tr th {\n",
       "        vertical-align: top;\n",
       "    }\n",
       "\n",
       "    .dataframe thead th {\n",
       "        text-align: right;\n",
       "    }\n",
       "</style>\n",
       "<table border=\"1\" class=\"dataframe\">\n",
       "  <thead>\n",
       "    <tr style=\"text-align: right;\">\n",
       "      <th></th>\n",
       "      <th>phone_brand</th>\n",
       "      <th>device_model</th>\n",
       "      <th>eng_phone_brand</th>\n",
       "      <th>brand</th>\n",
       "      <th>eng_phone_brand_sub</th>\n",
       "      <th>brand_sub</th>\n",
       "    </tr>\n",
       "    <tr>\n",
       "      <th>device_id</th>\n",
       "      <th></th>\n",
       "      <th></th>\n",
       "      <th></th>\n",
       "      <th></th>\n",
       "      <th></th>\n",
       "      <th></th>\n",
       "    </tr>\n",
       "  </thead>\n",
       "  <tbody>\n",
       "    <tr>\n",
       "      <th>-8890648629457979026</th>\n",
       "      <td>小米</td>\n",
       "      <td>红米</td>\n",
       "      <td>MI</td>\n",
       "      <td>51</td>\n",
       "      <td>MI</td>\n",
       "      <td>1</td>\n",
       "    </tr>\n",
       "    <tr>\n",
       "      <th>1277779817574759137</th>\n",
       "      <td>小米</td>\n",
       "      <td>MI 2</td>\n",
       "      <td>MI</td>\n",
       "      <td>51</td>\n",
       "      <td>MI</td>\n",
       "      <td>1</td>\n",
       "    </tr>\n",
       "    <tr>\n",
       "      <th>5137427614288105724</th>\n",
       "      <td>三星</td>\n",
       "      <td>Galaxy S4</td>\n",
       "      <td>samsung</td>\n",
       "      <td>15</td>\n",
       "      <td>samsung</td>\n",
       "      <td>9</td>\n",
       "    </tr>\n",
       "  </tbody>\n",
       "</table>\n",
       "</div>"
      ],
      "text/plain": [
       "                     phone_brand device_model eng_phone_brand  brand  \\\n",
       "device_id                                                              \n",
       "-8890648629457979026          小米           红米              MI     51   \n",
       " 1277779817574759137          小米         MI 2              MI     51   \n",
       " 5137427614288105724          三星    Galaxy S4         samsung     15   \n",
       "\n",
       "                     eng_phone_brand_sub  brand_sub  \n",
       "device_id                                            \n",
       "-8890648629457979026                  MI          1  \n",
       " 1277779817574759137                  MI          1  \n",
       " 5137427614288105724             samsung          9  "
      ]
     },
     "execution_count": 77,
     "metadata": {},
     "output_type": "execute_result"
    },
    {
     "data": {
      "text/html": [
       "<div>\n",
       "<style scoped>\n",
       "    .dataframe tbody tr th:only-of-type {\n",
       "        vertical-align: middle;\n",
       "    }\n",
       "\n",
       "    .dataframe tbody tr th {\n",
       "        vertical-align: top;\n",
       "    }\n",
       "\n",
       "    .dataframe thead th {\n",
       "        text-align: right;\n",
       "    }\n",
       "</style>\n",
       "<table border=\"1\" class=\"dataframe\">\n",
       "  <thead>\n",
       "    <tr style=\"text-align: right;\">\n",
       "      <th></th>\n",
       "      <th>gender</th>\n",
       "      <th>age</th>\n",
       "      <th>group</th>\n",
       "      <th>trainrow</th>\n",
       "      <th>phone_brand</th>\n",
       "      <th>device_model</th>\n",
       "      <th>eng_phone_brand</th>\n",
       "      <th>brand</th>\n",
       "      <th>eng_phone_brand_sub</th>\n",
       "      <th>brand_sub</th>\n",
       "    </tr>\n",
       "    <tr>\n",
       "      <th>device_id</th>\n",
       "      <th></th>\n",
       "      <th></th>\n",
       "      <th></th>\n",
       "      <th></th>\n",
       "      <th></th>\n",
       "      <th></th>\n",
       "      <th></th>\n",
       "      <th></th>\n",
       "      <th></th>\n",
       "      <th></th>\n",
       "    </tr>\n",
       "  </thead>\n",
       "  <tbody>\n",
       "    <tr>\n",
       "      <th>-8076087639492063270</th>\n",
       "      <td>M</td>\n",
       "      <td>35</td>\n",
       "      <td>M32-38</td>\n",
       "      <td>0</td>\n",
       "      <td>小米</td>\n",
       "      <td>MI 2</td>\n",
       "      <td>MI</td>\n",
       "      <td>51</td>\n",
       "      <td>MI</td>\n",
       "      <td>1</td>\n",
       "    </tr>\n",
       "    <tr>\n",
       "      <th>-2897161552818060146</th>\n",
       "      <td>M</td>\n",
       "      <td>35</td>\n",
       "      <td>M32-38</td>\n",
       "      <td>1</td>\n",
       "      <td>小米</td>\n",
       "      <td>MI 2</td>\n",
       "      <td>MI</td>\n",
       "      <td>51</td>\n",
       "      <td>MI</td>\n",
       "      <td>1</td>\n",
       "    </tr>\n",
       "    <tr>\n",
       "      <th>-8260683887967679142</th>\n",
       "      <td>M</td>\n",
       "      <td>35</td>\n",
       "      <td>M32-38</td>\n",
       "      <td>2</td>\n",
       "      <td>小米</td>\n",
       "      <td>MI 2</td>\n",
       "      <td>MI</td>\n",
       "      <td>51</td>\n",
       "      <td>MI</td>\n",
       "      <td>1</td>\n",
       "    </tr>\n",
       "  </tbody>\n",
       "</table>\n",
       "</div>"
      ],
      "text/plain": [
       "                     gender  age   group  trainrow phone_brand device_model  \\\n",
       "device_id                                                                     \n",
       "-8076087639492063270      M   35  M32-38         0          小米         MI 2   \n",
       "-2897161552818060146      M   35  M32-38         1          小米         MI 2   \n",
       "-8260683887967679142      M   35  M32-38         2          小米         MI 2   \n",
       "\n",
       "                     eng_phone_brand  brand eng_phone_brand_sub  brand_sub  \n",
       "device_id                                                                   \n",
       "-8076087639492063270              MI     51                  MI          1  \n",
       "-2897161552818060146              MI     51                  MI          1  \n",
       "-8260683887967679142              MI     51                  MI          1  "
      ]
     },
     "execution_count": 77,
     "metadata": {},
     "output_type": "execute_result"
    },
    {
     "data": {
      "text/html": [
       "<div>\n",
       "<style scoped>\n",
       "    .dataframe tbody tr th:only-of-type {\n",
       "        vertical-align: middle;\n",
       "    }\n",
       "\n",
       "    .dataframe tbody tr th {\n",
       "        vertical-align: top;\n",
       "    }\n",
       "\n",
       "    .dataframe thead th {\n",
       "        text-align: right;\n",
       "    }\n",
       "</style>\n",
       "<table border=\"1\" class=\"dataframe\">\n",
       "  <thead>\n",
       "    <tr style=\"text-align: right;\">\n",
       "      <th></th>\n",
       "      <th>testrow</th>\n",
       "      <th>phone_brand</th>\n",
       "      <th>device_model</th>\n",
       "      <th>eng_phone_brand</th>\n",
       "      <th>brand</th>\n",
       "      <th>eng_phone_brand_sub</th>\n",
       "      <th>brand_sub</th>\n",
       "    </tr>\n",
       "    <tr>\n",
       "      <th>device_id</th>\n",
       "      <th></th>\n",
       "      <th></th>\n",
       "      <th></th>\n",
       "      <th></th>\n",
       "      <th></th>\n",
       "      <th></th>\n",
       "      <th></th>\n",
       "    </tr>\n",
       "  </thead>\n",
       "  <tbody>\n",
       "    <tr>\n",
       "      <th>1002079943728939269</th>\n",
       "      <td>0</td>\n",
       "      <td>小米</td>\n",
       "      <td>小米note</td>\n",
       "      <td>MI</td>\n",
       "      <td>51</td>\n",
       "      <td>MI</td>\n",
       "      <td>1</td>\n",
       "    </tr>\n",
       "    <tr>\n",
       "      <th>-1547860181818787117</th>\n",
       "      <td>1</td>\n",
       "      <td>小米</td>\n",
       "      <td>红米2</td>\n",
       "      <td>MI</td>\n",
       "      <td>51</td>\n",
       "      <td>MI</td>\n",
       "      <td>1</td>\n",
       "    </tr>\n",
       "    <tr>\n",
       "      <th>7374582448058474277</th>\n",
       "      <td>2</td>\n",
       "      <td>华为</td>\n",
       "      <td>Y523-L176</td>\n",
       "      <td>huawei</td>\n",
       "      <td>31</td>\n",
       "      <td>huawei</td>\n",
       "      <td>6</td>\n",
       "    </tr>\n",
       "  </tbody>\n",
       "</table>\n",
       "</div>"
      ],
      "text/plain": [
       "                      testrow phone_brand device_model eng_phone_brand  brand  \\\n",
       "device_id                                                                       \n",
       " 1002079943728939269        0          小米       小米note              MI     51   \n",
       "-1547860181818787117        1          小米          红米2              MI     51   \n",
       " 7374582448058474277        2          华为    Y523-L176          huawei     31   \n",
       "\n",
       "                     eng_phone_brand_sub  brand_sub  \n",
       "device_id                                            \n",
       " 1002079943728939269                  MI          1  \n",
       "-1547860181818787117                  MI          1  \n",
       " 7374582448058474277              huawei          6  "
      ]
     },
     "execution_count": 77,
     "metadata": {},
     "output_type": "execute_result"
    }
   ],
   "source": [
    "#change the brand that is not in the list of top 10 into 'others'\n",
    "phone[\"eng_phone_brand_sub\"] = phone[\"eng_phone_brand\"].apply(lambda x: x if x in list(brand_count[\"index\"]) else \"Others\")\n",
    "#encode sub brand\n",
    "brandencoder = LabelEncoder().fit(phone.eng_phone_brand_sub)\n",
    "phone['brand_sub'] = brandencoder.transform(phone['eng_phone_brand_sub'])\n",
    "\n",
    "#merge in to train and test\n",
    "train_phone = pd.merge(train,phone,how = \"left\", left_index=True, right_index=True)\n",
    "test_phone = pd.merge(test,phone,how = \"left\", left_index=True, right_index=True)\n",
    "train_phone.head(3)\n",
    "test_phone.head(3)"
   ]
  },
  {
   "cell_type": "markdown",
   "metadata": {},
   "source": [
    "Change whole brand data into csr_matrix"
   ]
  },
  {
   "cell_type": "code",
   "execution_count": 12,
   "metadata": {
    "collapsed": false,
    "scrolled": true
   },
   "outputs": [
    {
     "name": "stdout",
     "output_type": "stream",
     "text": [
      "Brand data: train shape (74645, 131), test shape (112071, 131)\n"
     ]
    },
    {
     "data": {
      "text/plain": [
       "array([[0., 0., 0., ..., 0., 0., 0.],\n",
       "       [0., 0., 0., ..., 0., 0., 0.],\n",
       "       [0., 0., 0., ..., 0., 0., 0.],\n",
       "       ...,\n",
       "       [0., 0., 0., ..., 0., 0., 0.],\n",
       "       [0., 0., 0., ..., 0., 0., 0.],\n",
       "       [0., 0., 0., ..., 0., 0., 0.]])"
      ]
     },
     "execution_count": 12,
     "metadata": {},
     "output_type": "execute_result"
    }
   ],
   "source": [
    "Xtr_brand = csr_matrix((np.ones(train_phone.shape[0]), \n",
    "                       (train_phone.trainrow, train_phone.brand)))\n",
    "Xte_brand = csr_matrix((np.ones(test_phone.shape[0]), \n",
    "                       (test_phone.testrow, test_phone.brand)))\n",
    "print('Brand data: train shape {}, test shape {}'.format(Xtr_brand.shape, Xte_brand.shape))\n",
    "Xtr_brand.toarray()"
   ]
  },
  {
   "cell_type": "markdown",
   "metadata": {},
   "source": [
    "change sub brand data (top 10 and others) into csr_matrix"
   ]
  },
  {
   "cell_type": "code",
   "execution_count": 78,
   "metadata": {
    "collapsed": false
   },
   "outputs": [
    {
     "name": "stdout",
     "output_type": "stream",
     "text": [
      "Brand data: train shape (74645, 11), test shape (112071, 11)\n"
     ]
    }
   ],
   "source": [
    "Xtr_brand_top10 = csr_matrix((np.ones(train_phone.shape[0]), \n",
    "                       (train_phone.trainrow, train_phone.brand_sub)))\n",
    "Xte_brand_top10 = csr_matrix((np.ones(test_phone.shape[0]), \n",
    "                       (test_phone.testrow, test_phone.brand_sub)))\n",
    "print('Brand data: train shape {}, test shape {}'.format(Xtr_brand_top10.shape, Xte_brand_top10.shape))"
   ]
  },
  {
   "cell_type": "markdown",
   "metadata": {},
   "source": [
    "#### APP Count"
   ]
  },
  {
   "cell_type": "code",
   "execution_count": 14,
   "metadata": {
    "collapsed": false,
    "scrolled": true
   },
   "outputs": [
    {
     "data": {
      "text/plain": [
       "\"\\ndeviceapps = (appevents.merge(events[['device_id']], how='left',left_on='event_id',right_index=True)\\n                       .groupby(['device_id','app'])['is_active'].agg(['sum'])\\n                       .merge(train, how='left', left_index=True, right_index=True)\\n                       .merge(test, how='left', left_index=True, right_index=True)\\n                       .reset_index())\\n\""
      ]
     },
     "execution_count": 14,
     "metadata": {},
     "output_type": "execute_result"
    },
    {
     "data": {
      "text/html": [
       "<div>\n",
       "<style scoped>\n",
       "    .dataframe tbody tr th:only-of-type {\n",
       "        vertical-align: middle;\n",
       "    }\n",
       "\n",
       "    .dataframe tbody tr th {\n",
       "        vertical-align: top;\n",
       "    }\n",
       "\n",
       "    .dataframe thead th {\n",
       "        text-align: right;\n",
       "    }\n",
       "</style>\n",
       "<table border=\"1\" class=\"dataframe\">\n",
       "  <thead>\n",
       "    <tr style=\"text-align: right;\">\n",
       "      <th></th>\n",
       "      <th>device_id</th>\n",
       "      <th>app</th>\n",
       "      <th>size</th>\n",
       "      <th>gender</th>\n",
       "      <th>age</th>\n",
       "      <th>group</th>\n",
       "      <th>trainrow</th>\n",
       "      <th>testrow</th>\n",
       "    </tr>\n",
       "  </thead>\n",
       "  <tbody>\n",
       "    <tr>\n",
       "      <th>0</th>\n",
       "      <td>-9222956879900151005</td>\n",
       "      <td>548</td>\n",
       "      <td>18</td>\n",
       "      <td>M</td>\n",
       "      <td>36.0</td>\n",
       "      <td>M32-38</td>\n",
       "      <td>21594.0</td>\n",
       "      <td>NaN</td>\n",
       "    </tr>\n",
       "    <tr>\n",
       "      <th>1</th>\n",
       "      <td>-9222956879900151005</td>\n",
       "      <td>1096</td>\n",
       "      <td>18</td>\n",
       "      <td>M</td>\n",
       "      <td>36.0</td>\n",
       "      <td>M32-38</td>\n",
       "      <td>21594.0</td>\n",
       "      <td>NaN</td>\n",
       "    </tr>\n",
       "    <tr>\n",
       "      <th>2</th>\n",
       "      <td>-9222956879900151005</td>\n",
       "      <td>1248</td>\n",
       "      <td>26</td>\n",
       "      <td>M</td>\n",
       "      <td>36.0</td>\n",
       "      <td>M32-38</td>\n",
       "      <td>21594.0</td>\n",
       "      <td>NaN</td>\n",
       "    </tr>\n",
       "    <tr>\n",
       "      <th>3</th>\n",
       "      <td>-9222956879900151005</td>\n",
       "      <td>1545</td>\n",
       "      <td>12</td>\n",
       "      <td>M</td>\n",
       "      <td>36.0</td>\n",
       "      <td>M32-38</td>\n",
       "      <td>21594.0</td>\n",
       "      <td>NaN</td>\n",
       "    </tr>\n",
       "    <tr>\n",
       "      <th>4</th>\n",
       "      <td>-9222956879900151005</td>\n",
       "      <td>1664</td>\n",
       "      <td>18</td>\n",
       "      <td>M</td>\n",
       "      <td>36.0</td>\n",
       "      <td>M32-38</td>\n",
       "      <td>21594.0</td>\n",
       "      <td>NaN</td>\n",
       "    </tr>\n",
       "  </tbody>\n",
       "</table>\n",
       "</div>"
      ],
      "text/plain": [
       "             device_id   app  size gender   age   group  trainrow  testrow\n",
       "0 -9222956879900151005   548    18      M  36.0  M32-38   21594.0      NaN\n",
       "1 -9222956879900151005  1096    18      M  36.0  M32-38   21594.0      NaN\n",
       "2 -9222956879900151005  1248    26      M  36.0  M32-38   21594.0      NaN\n",
       "3 -9222956879900151005  1545    12      M  36.0  M32-38   21594.0      NaN\n",
       "4 -9222956879900151005  1664    18      M  36.0  M32-38   21594.0      NaN"
      ]
     },
     "execution_count": 14,
     "metadata": {},
     "output_type": "execute_result"
    }
   ],
   "source": [
    "appencoder = LabelEncoder().fit(appevents.app_id)\n",
    "appevents['app'] = appencoder.transform(appevents.app_id)\n",
    "napps = len(appencoder.classes_)\n",
    "deviceapps = (appevents.merge(events[['device_id']], how='left',left_on='event_id',right_index=True)\n",
    "                       .groupby(['device_id','app'])['app'].agg(['size'])\n",
    "                       .merge(train, how='left', left_index=True, right_index=True)\n",
    "                       .merge(test, how='left', left_index=True, right_index=True)\n",
    "                       .reset_index())\n",
    "\"\"\"\n",
    "deviceapps = (appevents.merge(events[['device_id']], how='left',left_on='event_id',right_index=True)\n",
    "                       .groupby(['device_id','app'])['is_active'].agg(['sum'])\n",
    "                       .merge(train, how='left', left_index=True, right_index=True)\n",
    "                       .merge(test, how='left', left_index=True, right_index=True)\n",
    "                       .reset_index())\n",
    "\"\"\"\n",
    "deviceapps.head()"
   ]
  },
  {
   "cell_type": "code",
   "execution_count": 17,
   "metadata": {
    "collapsed": false
   },
   "outputs": [
    {
     "name": "stdout",
     "output_type": "stream",
     "text": [
      "Apps data: train shape (74645, 19237), test shape (112071, 19237)\n"
     ]
    }
   ],
   "source": [
    "d = deviceapps.dropna(subset=['trainrow'])\n",
    "Xtr_app = csr_matrix((np.ones(d.shape[0]), (d.trainrow, d.app)), \n",
    "                      shape=(train.shape[0],napps))\n",
    "d = deviceapps.dropna(subset=['testrow'])\n",
    "Xte_app = csr_matrix((np.ones(d.shape[0]), (d.testrow, d.app)), \n",
    "                      shape=(test.shape[0],napps))\n",
    "print('Apps data: train shape {}, test shape {}'.format(Xtr_app.shape, Xte_app.shape))"
   ]
  },
  {
   "cell_type": "markdown",
   "metadata": {},
   "source": [
    "#### APP Label"
   ]
  },
  {
   "cell_type": "code",
   "execution_count": 23,
   "metadata": {
    "collapsed": false,
    "scrolled": true
   },
   "outputs": [
    {
     "data": {
      "text/html": [
       "<div>\n",
       "<style scoped>\n",
       "    .dataframe tbody tr th:only-of-type {\n",
       "        vertical-align: middle;\n",
       "    }\n",
       "\n",
       "    .dataframe tbody tr th {\n",
       "        vertical-align: top;\n",
       "    }\n",
       "\n",
       "    .dataframe thead th {\n",
       "        text-align: right;\n",
       "    }\n",
       "</style>\n",
       "<table border=\"1\" class=\"dataframe\">\n",
       "  <thead>\n",
       "    <tr style=\"text-align: right;\">\n",
       "      <th></th>\n",
       "      <th>app_id</th>\n",
       "      <th>label_id</th>\n",
       "      <th>app</th>\n",
       "      <th>label</th>\n",
       "      <th>category</th>\n",
       "    </tr>\n",
       "  </thead>\n",
       "  <tbody>\n",
       "    <tr>\n",
       "      <th>0</th>\n",
       "      <td>7324884708820027918</td>\n",
       "      <td>251</td>\n",
       "      <td>17355</td>\n",
       "      <td>207</td>\n",
       "      <td>Finance</td>\n",
       "    </tr>\n",
       "    <tr>\n",
       "      <th>1</th>\n",
       "      <td>-4494216993218550286</td>\n",
       "      <td>251</td>\n",
       "      <td>4618</td>\n",
       "      <td>207</td>\n",
       "      <td>Finance</td>\n",
       "    </tr>\n",
       "    <tr>\n",
       "      <th>2</th>\n",
       "      <td>8756705988821000489</td>\n",
       "      <td>251</td>\n",
       "      <td>18741</td>\n",
       "      <td>207</td>\n",
       "      <td>Finance</td>\n",
       "    </tr>\n",
       "  </tbody>\n",
       "</table>\n",
       "</div>"
      ],
      "text/plain": [
       "                app_id  label_id    app  label category\n",
       "0  7324884708820027918       251  17355    207  Finance\n",
       "1 -4494216993218550286       251   4618    207  Finance\n",
       "2  8756705988821000489       251  18741    207  Finance"
      ]
     },
     "execution_count": 23,
     "metadata": {},
     "output_type": "execute_result"
    }
   ],
   "source": [
    "applabels = applabels.loc[applabels.app_id.isin(appevents.app_id.unique())]\n",
    "applabels['app'] = appencoder.transform(applabels.app_id)\n",
    "labelencoder = LabelEncoder().fit(applabels.label_id)\n",
    "applabels['label'] = labelencoder.transform(applabels.label_id)\n",
    "nlabels = len(labelencoder.classes_)\n",
    "applabels = applabels.merge(labelcat,on=\"label_id\")\n",
    "applabels.head(3)"
   ]
  },
  {
   "cell_type": "code",
   "execution_count": 24,
   "metadata": {
    "collapsed": false,
    "scrolled": true
   },
   "outputs": [
    {
     "data": {
      "text/html": [
       "<div>\n",
       "<style scoped>\n",
       "    .dataframe tbody tr th:only-of-type {\n",
       "        vertical-align: middle;\n",
       "    }\n",
       "\n",
       "    .dataframe tbody tr th {\n",
       "        vertical-align: top;\n",
       "    }\n",
       "\n",
       "    .dataframe thead th {\n",
       "        text-align: right;\n",
       "    }\n",
       "</style>\n",
       "<table border=\"1\" class=\"dataframe\">\n",
       "  <thead>\n",
       "    <tr style=\"text-align: right;\">\n",
       "      <th></th>\n",
       "      <th>device_id</th>\n",
       "      <th>label</th>\n",
       "      <th>category</th>\n",
       "      <th>size</th>\n",
       "      <th>gender</th>\n",
       "      <th>age</th>\n",
       "      <th>group</th>\n",
       "      <th>trainrow</th>\n",
       "      <th>testrow</th>\n",
       "    </tr>\n",
       "  </thead>\n",
       "  <tbody>\n",
       "    <tr>\n",
       "      <th>0</th>\n",
       "      <td>-9222956879900151005</td>\n",
       "      <td>117</td>\n",
       "      <td>magazine and journal</td>\n",
       "      <td>1</td>\n",
       "      <td>M</td>\n",
       "      <td>36.0</td>\n",
       "      <td>M32-38</td>\n",
       "      <td>21594.0</td>\n",
       "      <td>NaN</td>\n",
       "    </tr>\n",
       "    <tr>\n",
       "      <th>1</th>\n",
       "      <td>-9222956879900151005</td>\n",
       "      <td>120</td>\n",
       "      <td>reading platform</td>\n",
       "      <td>1</td>\n",
       "      <td>M</td>\n",
       "      <td>36.0</td>\n",
       "      <td>M32-38</td>\n",
       "      <td>21594.0</td>\n",
       "      <td>NaN</td>\n",
       "    </tr>\n",
       "    <tr>\n",
       "      <th>2</th>\n",
       "      <td>-9222956879900151005</td>\n",
       "      <td>126</td>\n",
       "      <td>news</td>\n",
       "      <td>1</td>\n",
       "      <td>M</td>\n",
       "      <td>36.0</td>\n",
       "      <td>M32-38</td>\n",
       "      <td>21594.0</td>\n",
       "      <td>NaN</td>\n",
       "    </tr>\n",
       "    <tr>\n",
       "      <th>3</th>\n",
       "      <td>-9222956879900151005</td>\n",
       "      <td>138</td>\n",
       "      <td>IM</td>\n",
       "      <td>2</td>\n",
       "      <td>M</td>\n",
       "      <td>36.0</td>\n",
       "      <td>M32-38</td>\n",
       "      <td>21594.0</td>\n",
       "      <td>NaN</td>\n",
       "    </tr>\n",
       "    <tr>\n",
       "      <th>4</th>\n",
       "      <td>-9222956879900151005</td>\n",
       "      <td>147</td>\n",
       "      <td>map</td>\n",
       "      <td>2</td>\n",
       "      <td>M</td>\n",
       "      <td>36.0</td>\n",
       "      <td>M32-38</td>\n",
       "      <td>21594.0</td>\n",
       "      <td>NaN</td>\n",
       "    </tr>\n",
       "  </tbody>\n",
       "</table>\n",
       "</div>"
      ],
      "text/plain": [
       "             device_id  label              category  size gender   age  \\\n",
       "0 -9222956879900151005    117  magazine and journal     1      M  36.0   \n",
       "1 -9222956879900151005    120      reading platform     1      M  36.0   \n",
       "2 -9222956879900151005    126                  news     1      M  36.0   \n",
       "3 -9222956879900151005    138                    IM     2      M  36.0   \n",
       "4 -9222956879900151005    147                   map     2      M  36.0   \n",
       "\n",
       "    group  trainrow  testrow  \n",
       "0  M32-38   21594.0      NaN  \n",
       "1  M32-38   21594.0      NaN  \n",
       "2  M32-38   21594.0      NaN  \n",
       "3  M32-38   21594.0      NaN  \n",
       "4  M32-38   21594.0      NaN  "
      ]
     },
     "execution_count": 24,
     "metadata": {},
     "output_type": "execute_result"
    }
   ],
   "source": [
    "devicelabels = (deviceapps[['device_id','app']]\n",
    "                .merge(applabels[['app','label','category']])\n",
    "                .groupby(['device_id','label','category'])['app'].agg(['size'])\n",
    "                .merge(train, how='left', left_index=True, right_index=True)\n",
    "                .merge(test, how='left', left_index=True, right_index=True)\n",
    "                .reset_index())\n",
    "devicelabels.head()"
   ]
  },
  {
   "cell_type": "markdown",
   "metadata": {},
   "source": [
    "Plot the categories that have top and bottom 10 median age and count larger than medium count (enough sample) <br>\n",
    "APPs realted to vehicles, finance, stock, health, security, heritage etc have older users. <br>\n",
    "APPs realted to class, game, weibo, animation, Japanness and korean etc have younger user. <br>"
   ]
  },
  {
   "cell_type": "code",
   "execution_count": 127,
   "metadata": {
    "collapsed": false,
    "scrolled": false
   },
   "outputs": [
    {
     "data": {
      "text/plain": [
       "<matplotlib.figure.Figure at 0x2783b857470>"
      ]
     },
     "execution_count": 127,
     "metadata": {},
     "output_type": "execute_result"
    },
    {
     "name": "stderr",
     "output_type": "stream",
     "text": [
      "C:\\Users\\yiqin\\Anaconda3\\lib\\site-packages\\seaborn\\categorical.py:450: FutureWarning: remove_na is deprecated and is a private function. Do not use.\n",
      "  box_data = remove_na(group_data)\n"
     ]
    },
    {
     "data": {
      "text/plain": [
       "<matplotlib.axes._subplots.AxesSubplot at 0x2783c0e7438>"
      ]
     },
     "execution_count": 127,
     "metadata": {},
     "output_type": "execute_result"
    },
    {
     "data": {
      "image/png": "[encoded data removed]",
      "text/plain": [
       "<matplotlib.figure.Figure at 0x2783b857470>"
      ]
     },
     "metadata": {},
     "output_type": "display_data"
    }
   ],
   "source": [
    "age_by_cat = devicelabels.groupby([\"category\"])[\"age\"].agg(['median','count']).dropna().\\\n",
    "reset_index().loc[lambda df:df[\"count\"]>df[\"count\"].median()].sort_values(by=\"median\")\n",
    "age_by_cat = pd.concat([age_by_cat.head(10),age_by_cat.tail(10)])\n",
    "\n",
    "plt.figure(figsize=(10,8))\n",
    "sns.boxplot(x = \"age\", y = \"category\", \\\n",
    "            data = devicelabels[devicelabels[\"category\"].isin(age_by_cat[\"category\"].values)])\n",
    "#sns.barplot(y = age_by_cat[\"category\"],x = age_by_cat[\"mean\"],edgecolor=\"black\")"
   ]
  },
  {
   "cell_type": "markdown",
   "metadata": {},
   "source": [
    "create csr_matrix based on whole app_label data"
   ]
  },
  {
   "cell_type": "code",
   "execution_count": 125,
   "metadata": {
    "collapsed": false,
    "scrolled": true
   },
   "outputs": [
    {
     "name": "stdout",
     "output_type": "stream",
     "text": [
      "Labels data: train shape (74645, 492), test shape (112071, 492)\n"
     ]
    }
   ],
   "source": [
    "d = devicelabels.dropna(subset=['trainrow'])\n",
    "Xtr_label = csr_matrix((np.ones(d.shape[0]), (d.trainrow, d.label)), \n",
    "                      shape=(train.shape[0],nlabels))\n",
    "d = devicelabels.dropna(subset=['testrow'])\n",
    "Xte_label = csr_matrix((np.ones(d.shape[0]), (d.testrow, d.label)), \n",
    "                      shape=(test.shape[0],nlabels))\n",
    "print('Labels data: train shape {}, test shape {}'.format(Xtr_label.shape, Xte_label.shape))"
   ]
  },
  {
   "cell_type": "markdown",
   "metadata": {},
   "source": [
    "create csr_matrix based on sub app_label data"
   ]
  },
  {
   "cell_type": "code",
   "execution_count": 129,
   "metadata": {
    "collapsed": false
   },
   "outputs": [
    {
     "data": {
      "text/html": [
       "<div>\n",
       "<style scoped>\n",
       "    .dataframe tbody tr th:only-of-type {\n",
       "        vertical-align: middle;\n",
       "    }\n",
       "\n",
       "    .dataframe tbody tr th {\n",
       "        vertical-align: top;\n",
       "    }\n",
       "\n",
       "    .dataframe thead th {\n",
       "        text-align: right;\n",
       "    }\n",
       "</style>\n",
       "<table border=\"1\" class=\"dataframe\">\n",
       "  <thead>\n",
       "    <tr style=\"text-align: right;\">\n",
       "      <th></th>\n",
       "      <th>device_id</th>\n",
       "      <th>label_sub</th>\n",
       "      <th>category</th>\n",
       "      <th>size</th>\n",
       "      <th>gender</th>\n",
       "      <th>age</th>\n",
       "      <th>group</th>\n",
       "      <th>trainrow</th>\n",
       "      <th>testrow</th>\n",
       "    </tr>\n",
       "  </thead>\n",
       "  <tbody>\n",
       "    <tr>\n",
       "      <th>0</th>\n",
       "      <td>-9222956879900151005</td>\n",
       "      <td>2</td>\n",
       "      <td>Condition of the vehicles</td>\n",
       "      <td>1</td>\n",
       "      <td>M</td>\n",
       "      <td>36.0</td>\n",
       "      <td>M32-38</td>\n",
       "      <td>21594.0</td>\n",
       "      <td>NaN</td>\n",
       "    </tr>\n",
       "    <tr>\n",
       "      <th>1</th>\n",
       "      <td>-9222956879900151005</td>\n",
       "      <td>7</td>\n",
       "      <td>1 reputation</td>\n",
       "      <td>1</td>\n",
       "      <td>M</td>\n",
       "      <td>36.0</td>\n",
       "      <td>M32-38</td>\n",
       "      <td>21594.0</td>\n",
       "      <td>NaN</td>\n",
       "    </tr>\n",
       "    <tr>\n",
       "      <th>2</th>\n",
       "      <td>-9222956879900151005</td>\n",
       "      <td>7</td>\n",
       "      <td>Accounting</td>\n",
       "      <td>1</td>\n",
       "      <td>M</td>\n",
       "      <td>36.0</td>\n",
       "      <td>M32-38</td>\n",
       "      <td>21594.0</td>\n",
       "      <td>NaN</td>\n",
       "    </tr>\n",
       "  </tbody>\n",
       "</table>\n",
       "</div>"
      ],
      "text/plain": [
       "             device_id  label_sub                   category  size gender  \\\n",
       "0 -9222956879900151005          2  Condition of the vehicles     1      M   \n",
       "1 -9222956879900151005          7               1 reputation     1      M   \n",
       "2 -9222956879900151005          7                 Accounting     1      M   \n",
       "\n",
       "    age   group  trainrow  testrow  \n",
       "0  36.0  M32-38   21594.0      NaN  \n",
       "1  36.0  M32-38   21594.0      NaN  \n",
       "2  36.0  M32-38   21594.0      NaN  "
      ]
     },
     "execution_count": 129,
     "metadata": {},
     "output_type": "execute_result"
    }
   ],
   "source": [
    "#change the category that is not in the list of top and bottom 10 into 'others'\n",
    "applabels[\"cat_sub\"] = applabels[\"category\"].apply(lambda x: x if x in list(age_by_cat[\"category\"].values) else \"Others\")\n",
    "#encode sub category\n",
    "labelencoder = LabelEncoder().fit(applabels.cat_sub)\n",
    "applabels['label_sub'] = labelencoder.transform(applabels.cat_sub)\n",
    "nlabels = len(labelencoder.classes_)\n",
    "#calculate using label_sub\n",
    "devicelabels_sub = (deviceapps[['device_id','app']]\n",
    "                .merge(applabels[['app','label_sub','category']])\n",
    "                .groupby(['device_id','label_sub','category'])['app'].agg(['size'])\n",
    "                .merge(train, how='left', left_index=True, right_index=True)\n",
    "                .merge(test, how='left', left_index=True, right_index=True)\n",
    "                .reset_index())\n",
    "devicelabels_sub.head(3)"
   ]
  },
  {
   "cell_type": "code",
   "execution_count": 134,
   "metadata": {
    "collapsed": false,
    "scrolled": true
   },
   "outputs": [
    {
     "name": "stdout",
     "output_type": "stream",
     "text": [
      "Labels data: train shape (74645, 21), test shape (112071, 21)\n"
     ]
    }
   ],
   "source": [
    "d = devicelabels_sub.dropna(subset=['trainrow'])\n",
    "Xtr_label_topbot10 = csr_matrix((np.ones(d.shape[0]), (d.trainrow, d.label_sub)), \n",
    "                      shape=(train.shape[0],nlabels))\n",
    "d = devicelabels_sub.dropna(subset=['testrow'])\n",
    "Xte_label_topbot10 = csr_matrix((np.ones(d.shape[0]), (d.testrow, d.label_sub)), \n",
    "                      shape=(test.shape[0],nlabels))\n",
    "print('Labels data: train shape {}, test shape {}'.format(Xtr_label_topbot10.shape, Xte_label_topbot10.shape))"
   ]
  },
  {
   "cell_type": "markdown",
   "metadata": {},
   "source": [
    "#### event trigger time"
   ]
  },
  {
   "cell_type": "code",
   "execution_count": 143,
   "metadata": {
    "collapsed": false,
    "scrolled": true
   },
   "outputs": [
    {
     "data": {
      "text/html": [
       "<div>\n",
       "<style scoped>\n",
       "    .dataframe tbody tr th:only-of-type {\n",
       "        vertical-align: middle;\n",
       "    }\n",
       "\n",
       "    .dataframe tbody tr th {\n",
       "        vertical-align: top;\n",
       "    }\n",
       "\n",
       "    .dataframe thead th {\n",
       "        text-align: right;\n",
       "    }\n",
       "</style>\n",
       "<table border=\"1\" class=\"dataframe\">\n",
       "  <thead>\n",
       "    <tr style=\"text-align: right;\">\n",
       "      <th></th>\n",
       "      <th>device_id</th>\n",
       "      <th>timestamp</th>\n",
       "      <th>longitude</th>\n",
       "      <th>latitude</th>\n",
       "      <th>hour</th>\n",
       "      <th>wkend</th>\n",
       "    </tr>\n",
       "    <tr>\n",
       "      <th>event_id</th>\n",
       "      <th></th>\n",
       "      <th></th>\n",
       "      <th></th>\n",
       "      <th></th>\n",
       "      <th></th>\n",
       "      <th></th>\n",
       "    </tr>\n",
       "  </thead>\n",
       "  <tbody>\n",
       "    <tr>\n",
       "      <th>1</th>\n",
       "      <td>29182687948017175</td>\n",
       "      <td>2016-05-01 00:55:25</td>\n",
       "      <td>121.38</td>\n",
       "      <td>31.24</td>\n",
       "      <td>0</td>\n",
       "      <td>6</td>\n",
       "    </tr>\n",
       "    <tr>\n",
       "      <th>2</th>\n",
       "      <td>-6401643145415154744</td>\n",
       "      <td>2016-05-01 00:54:12</td>\n",
       "      <td>103.65</td>\n",
       "      <td>30.97</td>\n",
       "      <td>0</td>\n",
       "      <td>6</td>\n",
       "    </tr>\n",
       "    <tr>\n",
       "      <th>3</th>\n",
       "      <td>-4833982096941402721</td>\n",
       "      <td>2016-05-01 00:08:05</td>\n",
       "      <td>106.60</td>\n",
       "      <td>29.70</td>\n",
       "      <td>0</td>\n",
       "      <td>6</td>\n",
       "    </tr>\n",
       "  </tbody>\n",
       "</table>\n",
       "</div>"
      ],
      "text/plain": [
       "                    device_id           timestamp  longitude  latitude  hour  \\\n",
       "event_id                                                                       \n",
       "1           29182687948017175 2016-05-01 00:55:25     121.38     31.24     0   \n",
       "2        -6401643145415154744 2016-05-01 00:54:12     103.65     30.97     0   \n",
       "3        -4833982096941402721 2016-05-01 00:08:05     106.60     29.70     0   \n",
       "\n",
       "          wkend  \n",
       "event_id         \n",
       "1             6  \n",
       "2             6  \n",
       "3             6  "
      ]
     },
     "execution_count": 143,
     "metadata": {},
     "output_type": "execute_result"
    }
   ],
   "source": [
    "events[\"hour\"] = events['timestamp'].apply(lambda x : x.hour)\n",
    "events[\"wkend\"] = events[\"timestamp\"].apply(lambda x: 1 if x.dayofweek>4 else 0)\n",
    "events.head(3)"
   ]
  },
  {
   "cell_type": "markdown",
   "metadata": {},
   "source": [
    "# Modeling"
   ]
  },
  {
   "cell_type": "code",
   "execution_count": 79,
   "metadata": {
    "collapsed": false,
    "scrolled": true
   },
   "outputs": [
    {
     "name": "stderr",
     "output_type": "stream",
     "text": [
      "C:\\Users\\yiqin\\Anaconda3\\lib\\site-packages\\sklearn\\cross_validation.py:44: DeprecationWarning: This module was deprecated in version 0.18 in favor of the model_selection module into which all the refactored classes and functions are moved. Also note that the interface of the new CV iterators are different from that of this module. This module will be removed in 0.20.\n",
      "  \"This module will be removed in 0.20.\", DeprecationWarning)\n"
     ]
    }
   ],
   "source": [
    "from sklearn.model_selection import train_test_split\n",
    "from sklearn.linear_model import LogisticRegression\n",
    "from sklearn.cross_validation import StratifiedKFold\n",
    "from sklearn.metrics import log_loss"
   ]
  },
  {
   "cell_type": "code",
   "execution_count": 80,
   "metadata": {
    "collapsed": false
   },
   "outputs": [
    {
     "data": {
      "text/plain": [
       "array([10, 10, 10, ...,  6, 10,  7], dtype=int64)"
      ]
     },
     "execution_count": 80,
     "metadata": {},
     "output_type": "execute_result"
    },
    {
     "data": {
      "text/plain": [
       "12"
      ]
     },
     "execution_count": 80,
     "metadata": {},
     "output_type": "execute_result"
    }
   ],
   "source": [
    "targetencoder = LabelEncoder().fit(train.group)\n",
    "Ytrain = targetencoder.transform(train.group)\n",
    "Ytrain\n",
    "nclasses = len(targetencoder.classes_)\n",
    "nclasses"
   ]
  },
  {
   "cell_type": "code",
   "execution_count": 104,
   "metadata": {
    "collapsed": false,
    "scrolled": true
   },
   "outputs": [
    {
     "name": "stdout",
     "output_type": "stream",
     "text": [
      "All features: train shape (74645, 19740), test shape (112071, 19740)\n"
     ]
    }
   ],
   "source": [
    "#Xtrain = hstack((Xtr_brand, Xtr_app, Xtr_label), format='csr')\n",
    "#Xtest =  hstack((Xte_brand, Xte_app, Xte_label), format='csr')\n",
    "Xtrain = hstack((Xtr_brand_top10, Xtr_app, Xtr_label), format='csr')\n",
    "Xtest =  hstack((Xte_brand_top10, Xte_app, Xte_label), format='csr')\n",
    "print('All features: train shape {}, test shape {}'.format(Xtrain.shape, Xtest.shape))"
   ]
  },
  {
   "cell_type": "markdown",
   "metadata": {},
   "source": [
    "split train into train and test(validation) in stratified way"
   ]
  },
  {
   "cell_type": "code",
   "execution_count": 105,
   "metadata": {
    "collapsed": false,
    "scrolled": true
   },
   "outputs": [
    {
     "name": "stdout",
     "output_type": "stream",
     "text": [
      "All features: train shape (59716, 19740), test shape (14929, 19740)\n"
     ]
    }
   ],
   "source": [
    "dtrain_X, dtest_X, dtrain_y, dtest_y = \\\n",
    "train_test_split(Xtrain, Ytrain, random_state=1026, test_size=0.2,stratify = Ytrain)\n",
    "print('All features: train shape {}, test shape {}'.format(dtrain_X.shape, dtest_X.shape))"
   ]
  },
  {
   "cell_type": "markdown",
   "metadata": {},
   "source": [
    "## Logistic Regression"
   ]
  },
  {
   "cell_type": "code",
   "execution_count": 83,
   "metadata": {
    "collapsed": true
   },
   "outputs": [],
   "source": [
    "def eval_logit(train_x,train_y,clf, random_state = 0):\n",
    "    kf = StratifiedKFold(train_y, n_folds=4, shuffle=True, random_state=random_state)\n",
    "    pred = np.zeros((train_y.shape[0],nclasses))\n",
    "    for itrain, itest in kf:\n",
    "        Xtr, Xte = train_x[itrain, :], train_x[itest, :]\n",
    "        ytr, yte = train_y[itrain], train_y[itest]\n",
    "        clf.fit(Xtr, ytr)\n",
    "        pred[itest,:] = clf.predict_proba(Xte)\n",
    "        #print(\"{:.5f}\".format(log_loss(yte, pred[itest,:])), end=' ')\n",
    "    #print('')\n",
    "    return log_loss(train_y, pred)\n",
    "\n",
    "\n",
    "def opt_logit_parm(train_x,train_y,random_state = 0, C = 0.02, solver = 'lbfgs', Cs = None, solvers = None):\n",
    "    #C: smaller values specify stronger regularization\n",
    "    #solver: ‘newton-cg’, ‘sag’, and ‘lbfgs’\n",
    "    if list(Cs) and solvers:\n",
    "        try:\n",
    "            for solver in solvers:\n",
    "                res = []\n",
    "                for C in Cs:\n",
    "                    clf = LogisticRegression(C = C, multi_class='multinomial', solver=solver)\n",
    "                    los_score = eval_logit(train_x,train_y,clf,random_state)\n",
    "                    print(\"C = {},solver = {}, log_loss = {}\".format(C,solver,los_score))\n",
    "                    res.append(los_score)\n",
    "                plt.plot(Cs, res,'-o',label = solver)\n",
    "            plt.legend()\n",
    "            #plt.xticks(rotation='vertical')\n",
    "            return \n",
    "        except:\n",
    "            print(\"error\")\n",
    "            return\n",
    "              \n",
    "    try:\n",
    "        res = []\n",
    "        for C in Cs:\n",
    "            print(\"C = {},solver = {}\".format(C,solver))\n",
    "            clf = LogisticRegression(C = C, multi_class='multinomial', solver=solver)\n",
    "            res.append(eval_logit(train_x,train_y,clf,random_state))\n",
    "        plt.semilogx(Cs, res,'-o')\n",
    "        C = Cs[np.array(res).argmin()] #set C with smallest log_loss when test solver\n",
    "    except:\n",
    "        print(\"no 'C' to be evaluated\")\n",
    "    \n",
    "    try:\n",
    "        for solver in solvers:\n",
    "            print(\"C = {},solver = {}\".format(C,solver))\n",
    "            clf = LogisticRegression(C = C, multi_class='multinomial', solver=solver)\n",
    "            los_score = eval_logit(train_x,train_y,clf,random_state)\n",
    "            print(\"Solver {} has a log_loss score of {}\".format(solver,los_score))\n",
    "            print(\"\")\n",
    "    except:\n",
    "        print(\"no 'solver' to be evaluated\")     "
   ]
  },
  {
   "cell_type": "code",
   "execution_count": 93,
   "metadata": {
    "collapsed": false
   },
   "outputs": [
    {
     "name": "stdout",
     "output_type": "stream",
     "text": [
      "C = 0.019,solver = newton-cg, log_loss = 2.285131049894351\n",
      "C = 0.02,solver = newton-cg, log_loss = 2.2851938808814083\n",
      "C = 0.021,solver = newton-cg, log_loss = 2.2852945612994158\n",
      "C = 0.019,solver = lbfgs, log_loss = 2.285139419011792\n",
      "C = 0.02,solver = lbfgs, log_loss = 2.285262415380681\n",
      "C = 0.021,solver = lbfgs, log_loss = 2.2853356523661703\n"
     ]
    },
    {
     "data": {
      "image/png": "[encoded data removed]",
      "text/plain": [
       "<matplotlib.figure.Figure at 0x27826922d68>"
      ]
     },
     "metadata": {},
     "output_type": "display_data"
    }
   ],
   "source": [
    "solvers = [\"newton-cg\",\"lbfgs\"]\n",
    "Cs = np.array([0.016, 0.017, 0.018,0.019]) \n",
    "opt_logit_parm(dtrain_X,dtrain_y,Cs = Cs,solvers=solvers)"
   ]
  },
  {
   "cell_type": "code",
   "execution_count": 84,
   "metadata": {
    "collapsed": false
   },
   "outputs": [],
   "source": [
    "def logistic_reg(train_x,train_y,test_x,C=0.02,solver = 'newton-cg'):\n",
    "    clf = LogisticRegression(C=C, multi_class='multinomial',solver=solver)\n",
    "    clf.fit(train_x, train_y)\n",
    "    pred = clf.predict_proba(test_x)\n",
    "    return pred"
   ]
  },
  {
   "cell_type": "code",
   "execution_count": 106,
   "metadata": {
    "collapsed": false
   },
   "outputs": [
    {
     "data": {
      "text/plain": [
       "2.2829285726670925"
      ]
     },
     "execution_count": 106,
     "metadata": {},
     "output_type": "execute_result"
    }
   ],
   "source": [
    "#check log_loss with validation dataset to compare models\n",
    "pred = logistic_reg(dtrain_X,dtrain_y,dtest_X, C=0.019)\n",
    "log_loss(dtest_y, pred)"
   ]
  },
  {
   "cell_type": "code",
   "execution_count": 108,
   "metadata": {
    "collapsed": false
   },
   "outputs": [
    {
     "data": {
      "text/html": [
       "<div>\n",
       "<style scoped>\n",
       "    .dataframe tbody tr th:only-of-type {\n",
       "        vertical-align: middle;\n",
       "    }\n",
       "\n",
       "    .dataframe tbody tr th {\n",
       "        vertical-align: top;\n",
       "    }\n",
       "\n",
       "    .dataframe thead th {\n",
       "        text-align: right;\n",
       "    }\n",
       "</style>\n",
       "<table border=\"1\" class=\"dataframe\">\n",
       "  <thead>\n",
       "    <tr style=\"text-align: right;\">\n",
       "      <th></th>\n",
       "      <th>F23-</th>\n",
       "      <th>F24-26</th>\n",
       "      <th>F27-28</th>\n",
       "      <th>F29-32</th>\n",
       "      <th>F33-42</th>\n",
       "      <th>F43+</th>\n",
       "      <th>M22-</th>\n",
       "      <th>M23-26</th>\n",
       "      <th>M27-28</th>\n",
       "      <th>M29-31</th>\n",
       "      <th>M32-38</th>\n",
       "      <th>M39+</th>\n",
       "    </tr>\n",
       "    <tr>\n",
       "      <th>device_id</th>\n",
       "      <th></th>\n",
       "      <th></th>\n",
       "      <th></th>\n",
       "      <th></th>\n",
       "      <th></th>\n",
       "      <th></th>\n",
       "      <th></th>\n",
       "      <th></th>\n",
       "      <th></th>\n",
       "      <th></th>\n",
       "      <th></th>\n",
       "      <th></th>\n",
       "    </tr>\n",
       "  </thead>\n",
       "  <tbody>\n",
       "    <tr>\n",
       "      <th>1002079943728939269</th>\n",
       "      <td>0.001482</td>\n",
       "      <td>0.005529</td>\n",
       "      <td>0.012521</td>\n",
       "      <td>0.012509</td>\n",
       "      <td>0.024809</td>\n",
       "      <td>0.042696</td>\n",
       "      <td>0.011823</td>\n",
       "      <td>0.029749</td>\n",
       "      <td>0.069694</td>\n",
       "      <td>0.122506</td>\n",
       "      <td>0.277968</td>\n",
       "      <td>0.388713</td>\n",
       "    </tr>\n",
       "    <tr>\n",
       "      <th>-1547860181818787117</th>\n",
       "      <td>0.008027</td>\n",
       "      <td>0.014165</td>\n",
       "      <td>0.032104</td>\n",
       "      <td>0.077627</td>\n",
       "      <td>0.079252</td>\n",
       "      <td>0.152099</td>\n",
       "      <td>0.006065</td>\n",
       "      <td>0.080311</td>\n",
       "      <td>0.055358</td>\n",
       "      <td>0.074211</td>\n",
       "      <td>0.240094</td>\n",
       "      <td>0.180688</td>\n",
       "    </tr>\n",
       "    <tr>\n",
       "      <th>7374582448058474277</th>\n",
       "      <td>0.023333</td>\n",
       "      <td>0.037215</td>\n",
       "      <td>0.035840</td>\n",
       "      <td>0.162050</td>\n",
       "      <td>0.168198</td>\n",
       "      <td>0.079829</td>\n",
       "      <td>0.012591</td>\n",
       "      <td>0.025323</td>\n",
       "      <td>0.042638</td>\n",
       "      <td>0.100237</td>\n",
       "      <td>0.179764</td>\n",
       "      <td>0.132981</td>\n",
       "    </tr>\n",
       "    <tr>\n",
       "      <th>-6220210354783429585</th>\n",
       "      <td>0.003752</td>\n",
       "      <td>0.026006</td>\n",
       "      <td>0.009516</td>\n",
       "      <td>0.012823</td>\n",
       "      <td>0.057400</td>\n",
       "      <td>0.182901</td>\n",
       "      <td>0.044283</td>\n",
       "      <td>0.111732</td>\n",
       "      <td>0.065694</td>\n",
       "      <td>0.082523</td>\n",
       "      <td>0.174592</td>\n",
       "      <td>0.228778</td>\n",
       "    </tr>\n",
       "    <tr>\n",
       "      <th>-5893464122623104785</th>\n",
       "      <td>0.057745</td>\n",
       "      <td>0.060017</td>\n",
       "      <td>0.045560</td>\n",
       "      <td>0.063811</td>\n",
       "      <td>0.066224</td>\n",
       "      <td>0.049510</td>\n",
       "      <td>0.123961</td>\n",
       "      <td>0.148488</td>\n",
       "      <td>0.082291</td>\n",
       "      <td>0.097863</td>\n",
       "      <td>0.113067</td>\n",
       "      <td>0.091462</td>\n",
       "    </tr>\n",
       "  </tbody>\n",
       "</table>\n",
       "</div>"
      ],
      "text/plain": [
       "                          F23-    F24-26    F27-28    F29-32    F33-42  \\\n",
       "device_id                                                                \n",
       " 1002079943728939269  0.001482  0.005529  0.012521  0.012509  0.024809   \n",
       "-1547860181818787117  0.008027  0.014165  0.032104  0.077627  0.079252   \n",
       " 7374582448058474277  0.023333  0.037215  0.035840  0.162050  0.168198   \n",
       "-6220210354783429585  0.003752  0.026006  0.009516  0.012823  0.057400   \n",
       "-5893464122623104785  0.057745  0.060017  0.045560  0.063811  0.066224   \n",
       "\n",
       "                          F43+      M22-    M23-26    M27-28    M29-31  \\\n",
       "device_id                                                                \n",
       " 1002079943728939269  0.042696  0.011823  0.029749  0.069694  0.122506   \n",
       "-1547860181818787117  0.152099  0.006065  0.080311  0.055358  0.074211   \n",
       " 7374582448058474277  0.079829  0.012591  0.025323  0.042638  0.100237   \n",
       "-6220210354783429585  0.182901  0.044283  0.111732  0.065694  0.082523   \n",
       "-5893464122623104785  0.049510  0.123961  0.148488  0.082291  0.097863   \n",
       "\n",
       "                        M32-38      M39+  \n",
       "device_id                                 \n",
       " 1002079943728939269  0.277968  0.388713  \n",
       "-1547860181818787117  0.240094  0.180688  \n",
       " 7374582448058474277  0.179764  0.132981  \n",
       "-6220210354783429585  0.174592  0.228778  \n",
       "-5893464122623104785  0.113067  0.091462  "
      ]
     },
     "execution_count": 108,
     "metadata": {},
     "output_type": "execute_result"
    }
   ],
   "source": [
    "pred = logistic_reg(Xtrain,Ytrain,Xtest)\n",
    "pred = pd.DataFrame(pred, index = test.index, columns=targetencoder.classes_)\n",
    "pred.head()\n",
    "pred.to_csv('../input/logregtop10_subm.csv',index=True)"
   ]
  },
  {
   "cell_type": "markdown",
   "metadata": {},
   "source": [
    "## XGBoost"
   ]
  },
  {
   "cell_type": "code",
   "execution_count": 102,
   "metadata": {
    "collapsed": true
   },
   "outputs": [],
   "source": [
    "import xgboost as xgb"
   ]
  },
  {
   "cell_type": "code",
   "execution_count": 103,
   "metadata": {
    "collapsed": true
   },
   "outputs": [],
   "source": [
    "def opt_num_boost_round(train_x,train_y,xgb_params):\n",
    "    dtrain = xgb.DMatrix(train_x, train_y)\n",
    "    cv_output = xgb.cv(xgb_params, dtrain, num_boost_round=500, early_stopping_rounds=300,\n",
    "        verbose_eval=50, show_stdv=False)\n",
    "    cv_output[['train-mlogloss-mean', 'test-mlogloss-mean']].plot()\n",
    "    \n",
    "def xgb_model(train_x,train_y,test_x,xgb_params,num_round):\n",
    "    dtrain = xgb.DMatrix(train_x, train_y)\n",
    "    xgb_model = xgb.train(dict(xgb_params, silent=0), dtrain, num_boost_round=num_round)\n",
    "    pred = xgb_model.predict(xgb.DMatrix(test_x))\n",
    "    return pred"
   ]
  },
  {
   "cell_type": "code",
   "execution_count": 135,
   "metadata": {
    "collapsed": false,
    "scrolled": false
   },
   "outputs": [
    {
     "name": "stdout",
     "output_type": "stream",
     "text": [
      "[0]\ttrain-mlogloss:2.48387\ttest-mlogloss:2.48414\n",
      "[50]\ttrain-mlogloss:2.4381\ttest-mlogloss:2.45102\n",
      "[100]\ttrain-mlogloss:2.40095\ttest-mlogloss:2.42544\n",
      "[150]\ttrain-mlogloss:2.36995\ttest-mlogloss:2.40526\n",
      "[200]\ttrain-mlogloss:2.34361\ttest-mlogloss:2.38909\n",
      "[250]\ttrain-mlogloss:2.32088\ttest-mlogloss:2.37596\n",
      "[300]\ttrain-mlogloss:2.3009\ttest-mlogloss:2.36514\n",
      "[350]\ttrain-mlogloss:2.28328\ttest-mlogloss:2.35612\n",
      "[400]\ttrain-mlogloss:2.26751\ttest-mlogloss:2.34853\n",
      "[450]\ttrain-mlogloss:2.25321\ttest-mlogloss:2.34209\n"
     ]
    },
    {
     "data": {
      "image/png": "[encoded data removed]",
      "text/plain": [
       "<matplotlib.figure.Figure at 0x2783c107748>"
      ]
     },
     "metadata": {},
     "output_type": "display_data"
    }
   ],
   "source": [
    "xgb_params = {\n",
    "    'eta': 0.005, #0.05\n",
    "    'max_depth': 8,\n",
    "    'subsample': 0.7,\n",
    "    'colsample_bytree': 0.7,\n",
    "    \"booster\" : \"gbtree\", #or 'gblinear'\n",
    "    'objective': 'multi:softprob',\n",
    "    'num_class': nclasses,\n",
    "    'eval_metric': 'mlogloss',\n",
    "    'lambda': 3,\n",
    "    'alpha': 2,\n",
    "    'silent': 1\n",
    "}\n",
    "\n",
    "opt_num_boost_round(dtrain_X,dtrain_y,xgb_params)"
   ]
  },
  {
   "cell_type": "code",
   "execution_count": 136,
   "metadata": {
    "collapsed": false
   },
   "outputs": [
    {
     "data": {
      "text/plain": [
       "2.3462112432259534"
      ]
     },
     "execution_count": 136,
     "metadata": {},
     "output_type": "execute_result"
    }
   ],
   "source": [
    "#check log_loss with validation dataset to compare models\n",
    "pred = xgb_model(dtrain_X,dtrain_y,dtest_X,xgb_params,400)\n",
    "log_loss(dtest_y, pred)"
   ]
  },
  {
   "cell_type": "code",
   "execution_count": 138,
   "metadata": {
    "collapsed": false
   },
   "outputs": [
    {
     "data": {
      "text/html": [
       "<div>\n",
       "<style scoped>\n",
       "    .dataframe tbody tr th:only-of-type {\n",
       "        vertical-align: middle;\n",
       "    }\n",
       "\n",
       "    .dataframe tbody tr th {\n",
       "        vertical-align: top;\n",
       "    }\n",
       "\n",
       "    .dataframe thead th {\n",
       "        text-align: right;\n",
       "    }\n",
       "</style>\n",
       "<table border=\"1\" class=\"dataframe\">\n",
       "  <thead>\n",
       "    <tr style=\"text-align: right;\">\n",
       "      <th></th>\n",
       "      <th>F23-</th>\n",
       "      <th>F24-26</th>\n",
       "      <th>F27-28</th>\n",
       "      <th>F29-32</th>\n",
       "      <th>F33-42</th>\n",
       "      <th>F43+</th>\n",
       "      <th>M22-</th>\n",
       "      <th>M23-26</th>\n",
       "      <th>M27-28</th>\n",
       "      <th>M29-31</th>\n",
       "      <th>M32-38</th>\n",
       "      <th>M39+</th>\n",
       "    </tr>\n",
       "    <tr>\n",
       "      <th>device_id</th>\n",
       "      <th></th>\n",
       "      <th></th>\n",
       "      <th></th>\n",
       "      <th></th>\n",
       "      <th></th>\n",
       "      <th></th>\n",
       "      <th></th>\n",
       "      <th></th>\n",
       "      <th></th>\n",
       "      <th></th>\n",
       "      <th></th>\n",
       "      <th></th>\n",
       "    </tr>\n",
       "  </thead>\n",
       "  <tbody>\n",
       "    <tr>\n",
       "      <th>1002079943728939269</th>\n",
       "      <td>0.041634</td>\n",
       "      <td>0.044799</td>\n",
       "      <td>0.046042</td>\n",
       "      <td>0.053101</td>\n",
       "      <td>0.063863</td>\n",
       "      <td>0.051873</td>\n",
       "      <td>0.044852</td>\n",
       "      <td>0.075619</td>\n",
       "      <td>0.078671</td>\n",
       "      <td>0.127129</td>\n",
       "      <td>0.181777</td>\n",
       "      <td>0.190643</td>\n",
       "    </tr>\n",
       "    <tr>\n",
       "      <th>-1547860181818787117</th>\n",
       "      <td>0.037893</td>\n",
       "      <td>0.038541</td>\n",
       "      <td>0.041334</td>\n",
       "      <td>0.061078</td>\n",
       "      <td>0.084943</td>\n",
       "      <td>0.104341</td>\n",
       "      <td>0.049158</td>\n",
       "      <td>0.071647</td>\n",
       "      <td>0.059378</td>\n",
       "      <td>0.093504</td>\n",
       "      <td>0.138509</td>\n",
       "      <td>0.219674</td>\n",
       "    </tr>\n",
       "    <tr>\n",
       "      <th>7374582448058474277</th>\n",
       "      <td>0.065047</td>\n",
       "      <td>0.069735</td>\n",
       "      <td>0.058846</td>\n",
       "      <td>0.138860</td>\n",
       "      <td>0.086702</td>\n",
       "      <td>0.068493</td>\n",
       "      <td>0.066434</td>\n",
       "      <td>0.061922</td>\n",
       "      <td>0.066861</td>\n",
       "      <td>0.083385</td>\n",
       "      <td>0.109396</td>\n",
       "      <td>0.124320</td>\n",
       "    </tr>\n",
       "    <tr>\n",
       "      <th>-6220210354783429585</th>\n",
       "      <td>0.043290</td>\n",
       "      <td>0.047491</td>\n",
       "      <td>0.041218</td>\n",
       "      <td>0.055611</td>\n",
       "      <td>0.091379</td>\n",
       "      <td>0.100894</td>\n",
       "      <td>0.044997</td>\n",
       "      <td>0.095273</td>\n",
       "      <td>0.066875</td>\n",
       "      <td>0.091767</td>\n",
       "      <td>0.130971</td>\n",
       "      <td>0.190234</td>\n",
       "    </tr>\n",
       "    <tr>\n",
       "      <th>-5893464122623104785</th>\n",
       "      <td>0.067535</td>\n",
       "      <td>0.066507</td>\n",
       "      <td>0.056853</td>\n",
       "      <td>0.069067</td>\n",
       "      <td>0.073407</td>\n",
       "      <td>0.062650</td>\n",
       "      <td>0.107965</td>\n",
       "      <td>0.123417</td>\n",
       "      <td>0.081075</td>\n",
       "      <td>0.093028</td>\n",
       "      <td>0.106971</td>\n",
       "      <td>0.091527</td>\n",
       "    </tr>\n",
       "  </tbody>\n",
       "</table>\n",
       "</div>"
      ],
      "text/plain": [
       "                          F23-    F24-26    F27-28    F29-32    F33-42  \\\n",
       "device_id                                                                \n",
       " 1002079943728939269  0.041634  0.044799  0.046042  0.053101  0.063863   \n",
       "-1547860181818787117  0.037893  0.038541  0.041334  0.061078  0.084943   \n",
       " 7374582448058474277  0.065047  0.069735  0.058846  0.138860  0.086702   \n",
       "-6220210354783429585  0.043290  0.047491  0.041218  0.055611  0.091379   \n",
       "-5893464122623104785  0.067535  0.066507  0.056853  0.069067  0.073407   \n",
       "\n",
       "                          F43+      M22-    M23-26    M27-28    M29-31  \\\n",
       "device_id                                                                \n",
       " 1002079943728939269  0.051873  0.044852  0.075619  0.078671  0.127129   \n",
       "-1547860181818787117  0.104341  0.049158  0.071647  0.059378  0.093504   \n",
       " 7374582448058474277  0.068493  0.066434  0.061922  0.066861  0.083385   \n",
       "-6220210354783429585  0.100894  0.044997  0.095273  0.066875  0.091767   \n",
       "-5893464122623104785  0.062650  0.107965  0.123417  0.081075  0.093028   \n",
       "\n",
       "                        M32-38      M39+  \n",
       "device_id                                 \n",
       " 1002079943728939269  0.181777  0.190643  \n",
       "-1547860181818787117  0.138509  0.219674  \n",
       " 7374582448058474277  0.109396  0.124320  \n",
       "-6220210354783429585  0.130971  0.190234  \n",
       "-5893464122623104785  0.106971  0.091527  "
      ]
     },
     "execution_count": 138,
     "metadata": {},
     "output_type": "execute_result"
    }
   ],
   "source": [
    "#xgb_model = xgb.train(dict(xgb_params, silent=0), dtrain, num_boost_round=100)\n",
    "pred = xgb_model(Xtrain,Ytrain,Xtest,xgb_params,400)\n",
    "pred = pd.DataFrame(pred, index = test.index, columns=targetencoder.classes_)\n",
    "pred.head()\n",
    "pred.to_csv('../input/xgbtop10_subm.csv',index=True)"
   ]
  }
 ],
 "metadata": {
  "kernelspec": {
   "display_name": "Python 3",
   "language": "python",
   "name": "python3"
  },
  "language_info": {
   "codemirror_mode": {
    "name": "ipython",
    "version": 3
   },
   "file_extension": ".py",
   "mimetype": "text/x-python",
   "name": "python",
   "nbconvert_exporter": "python",
   "pygments_lexer": "ipython3",
   "version": "3.6.0"
  }
 },
 "nbformat": 4,
 "nbformat_minor": 2
}
