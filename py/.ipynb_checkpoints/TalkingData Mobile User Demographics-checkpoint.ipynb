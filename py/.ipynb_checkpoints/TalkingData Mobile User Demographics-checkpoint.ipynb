{
 "cells": [
  {
   "cell_type": "code",
   "execution_count": 1,
   "metadata": {
    "collapsed": true
   },
   "outputs": [],
   "source": [
    "import pandas as pd\n",
    "import numpy as np\n",
    "import matplotlib.pyplot as plt \n",
    "import seaborn as sns\n",
    "%matplotlib inline\n",
    "\n",
    "from IPython.core.interactiveshell import InteractiveShell\n",
    "InteractiveShell.ast_node_interactivity = \"all\"\n",
    "\n",
    "plt.rcParams['font.sans-serif'] = ['SimHei']\n",
    "plt.rcParams['font.serif'] = ['SimHei']\n",
    "sns.set_style(\"darkgrid\",{\"font.sans-serif\":['simhei', 'Arial']})"
   ]
  },
  {
   "cell_type": "code",
   "execution_count": 2,
   "metadata": {
    "collapsed": false
   },
   "outputs": [
    {
     "name": "stderr",
     "output_type": "stream",
     "text": [
      "C:\\Users\\yiqin\\Anaconda3\\lib\\site-packages\\numpy\\lib\\arraysetops.py:466: FutureWarning: elementwise comparison failed; returning scalar instead, but in the future will perform elementwise comparison\n",
      "  mask |= (ar1 == a)\n"
     ]
    }
   ],
   "source": [
    "train = pd.read_csv('../input/gender_age_train.csv',index_col='device_id')\n",
    "test = pd.read_csv('../input/gender_age_test.csv',index_col='device_id')\n",
    "phone = pd.read_csv('../input/phone_brand_device_model.csv',encoding='utf-8')\n",
    "phone = phone.drop_duplicates('device_id',keep='first').set_index('device_id') #drop duplicate phone\n",
    "events = pd.read_csv('../input/events.csv', parse_dates=['timestamp'], index_col='event_id')\n",
    "appevents = pd.read_csv('../input/app_events.csv', usecols=['event_id','app_id','is_active'], dtype={'is_active':bool})\n",
    "applabels = pd.read_csv('../input/app_labels.csv') #one app can have multiple labels\n",
    "labelcat = pd.read_csv('../input/label_categories.csv')"
   ]
  },
  {
   "cell_type": "code",
   "execution_count": 6,
   "metadata": {
    "collapsed": false,
    "scrolled": true
   },
   "outputs": [
    {
     "data": {
      "text/html": [
       "<div>\n",
       "<style scoped>\n",
       "    .dataframe tbody tr th:only-of-type {\n",
       "        vertical-align: middle;\n",
       "    }\n",
       "\n",
       "    .dataframe tbody tr th {\n",
       "        vertical-align: top;\n",
       "    }\n",
       "\n",
       "    .dataframe thead th {\n",
       "        text-align: right;\n",
       "    }\n",
       "</style>\n",
       "<table border=\"1\" class=\"dataframe\">\n",
       "  <thead>\n",
       "    <tr style=\"text-align: right;\">\n",
       "      <th></th>\n",
       "      <th>gender</th>\n",
       "      <th>age</th>\n",
       "      <th>group</th>\n",
       "    </tr>\n",
       "    <tr>\n",
       "      <th>device_id</th>\n",
       "      <th></th>\n",
       "      <th></th>\n",
       "      <th></th>\n",
       "    </tr>\n",
       "  </thead>\n",
       "  <tbody>\n",
       "    <tr>\n",
       "      <th>-8076087639492063270</th>\n",
       "      <td>M</td>\n",
       "      <td>35</td>\n",
       "      <td>M32-38</td>\n",
       "    </tr>\n",
       "    <tr>\n",
       "      <th>-2897161552818060146</th>\n",
       "      <td>M</td>\n",
       "      <td>35</td>\n",
       "      <td>M32-38</td>\n",
       "    </tr>\n",
       "    <tr>\n",
       "      <th>-8260683887967679142</th>\n",
       "      <td>M</td>\n",
       "      <td>35</td>\n",
       "      <td>M32-38</td>\n",
       "    </tr>\n",
       "  </tbody>\n",
       "</table>\n",
       "</div>"
      ],
      "text/plain": [
       "                     gender  age   group\n",
       "device_id                               \n",
       "-8076087639492063270      M   35  M32-38\n",
       "-2897161552818060146      M   35  M32-38\n",
       "-8260683887967679142      M   35  M32-38"
      ]
     },
     "execution_count": 6,
     "metadata": {},
     "output_type": "execute_result"
    },
    {
     "data": {
      "text/html": [
       "<div>\n",
       "<style scoped>\n",
       "    .dataframe tbody tr th:only-of-type {\n",
       "        vertical-align: middle;\n",
       "    }\n",
       "\n",
       "    .dataframe tbody tr th {\n",
       "        vertical-align: top;\n",
       "    }\n",
       "\n",
       "    .dataframe thead th {\n",
       "        text-align: right;\n",
       "    }\n",
       "</style>\n",
       "<table border=\"1\" class=\"dataframe\">\n",
       "  <thead>\n",
       "    <tr style=\"text-align: right;\">\n",
       "      <th></th>\n",
       "      <th>device_id</th>\n",
       "      <th>phone_brand</th>\n",
       "      <th>device_model</th>\n",
       "    </tr>\n",
       "  </thead>\n",
       "  <tbody>\n",
       "    <tr>\n",
       "      <th>0</th>\n",
       "      <td>-8890648629457979026</td>\n",
       "      <td>小米</td>\n",
       "      <td>红米</td>\n",
       "    </tr>\n",
       "    <tr>\n",
       "      <th>1</th>\n",
       "      <td>1277779817574759137</td>\n",
       "      <td>小米</td>\n",
       "      <td>MI 2</td>\n",
       "    </tr>\n",
       "    <tr>\n",
       "      <th>2</th>\n",
       "      <td>5137427614288105724</td>\n",
       "      <td>三星</td>\n",
       "      <td>Galaxy S4</td>\n",
       "    </tr>\n",
       "  </tbody>\n",
       "</table>\n",
       "</div>"
      ],
      "text/plain": [
       "             device_id phone_brand device_model\n",
       "0 -8890648629457979026          小米           红米\n",
       "1  1277779817574759137          小米         MI 2\n",
       "2  5137427614288105724          三星    Galaxy S4"
      ]
     },
     "execution_count": 6,
     "metadata": {},
     "output_type": "execute_result"
    },
    {
     "data": {
      "text/html": [
       "<div>\n",
       "<style scoped>\n",
       "    .dataframe tbody tr th:only-of-type {\n",
       "        vertical-align: middle;\n",
       "    }\n",
       "\n",
       "    .dataframe tbody tr th {\n",
       "        vertical-align: top;\n",
       "    }\n",
       "\n",
       "    .dataframe thead th {\n",
       "        text-align: right;\n",
       "    }\n",
       "</style>\n",
       "<table border=\"1\" class=\"dataframe\">\n",
       "  <thead>\n",
       "    <tr style=\"text-align: right;\">\n",
       "      <th></th>\n",
       "      <th>device_id</th>\n",
       "      <th>timestamp</th>\n",
       "      <th>longitude</th>\n",
       "      <th>latitude</th>\n",
       "    </tr>\n",
       "    <tr>\n",
       "      <th>event_id</th>\n",
       "      <th></th>\n",
       "      <th></th>\n",
       "      <th></th>\n",
       "      <th></th>\n",
       "    </tr>\n",
       "  </thead>\n",
       "  <tbody>\n",
       "    <tr>\n",
       "      <th>1</th>\n",
       "      <td>29182687948017175</td>\n",
       "      <td>2016-05-01 00:55:25</td>\n",
       "      <td>121.38</td>\n",
       "      <td>31.24</td>\n",
       "    </tr>\n",
       "    <tr>\n",
       "      <th>2</th>\n",
       "      <td>-6401643145415154744</td>\n",
       "      <td>2016-05-01 00:54:12</td>\n",
       "      <td>103.65</td>\n",
       "      <td>30.97</td>\n",
       "    </tr>\n",
       "    <tr>\n",
       "      <th>3</th>\n",
       "      <td>-4833982096941402721</td>\n",
       "      <td>2016-05-01 00:08:05</td>\n",
       "      <td>106.60</td>\n",
       "      <td>29.70</td>\n",
       "    </tr>\n",
       "  </tbody>\n",
       "</table>\n",
       "</div>"
      ],
      "text/plain": [
       "                    device_id           timestamp  longitude  latitude\n",
       "event_id                                                              \n",
       "1           29182687948017175 2016-05-01 00:55:25     121.38     31.24\n",
       "2        -6401643145415154744 2016-05-01 00:54:12     103.65     30.97\n",
       "3        -4833982096941402721 2016-05-01 00:08:05     106.60     29.70"
      ]
     },
     "execution_count": 6,
     "metadata": {},
     "output_type": "execute_result"
    },
    {
     "data": {
      "text/html": [
       "<div>\n",
       "<style scoped>\n",
       "    .dataframe tbody tr th:only-of-type {\n",
       "        vertical-align: middle;\n",
       "    }\n",
       "\n",
       "    .dataframe tbody tr th {\n",
       "        vertical-align: top;\n",
       "    }\n",
       "\n",
       "    .dataframe thead th {\n",
       "        text-align: right;\n",
       "    }\n",
       "</style>\n",
       "<table border=\"1\" class=\"dataframe\">\n",
       "  <thead>\n",
       "    <tr style=\"text-align: right;\">\n",
       "      <th></th>\n",
       "      <th>event_id</th>\n",
       "      <th>app_id</th>\n",
       "      <th>is_active</th>\n",
       "    </tr>\n",
       "  </thead>\n",
       "  <tbody>\n",
       "    <tr>\n",
       "      <th>0</th>\n",
       "      <td>2</td>\n",
       "      <td>5927333115845830913</td>\n",
       "      <td>True</td>\n",
       "    </tr>\n",
       "    <tr>\n",
       "      <th>1</th>\n",
       "      <td>2</td>\n",
       "      <td>-5720078949152207372</td>\n",
       "      <td>False</td>\n",
       "    </tr>\n",
       "    <tr>\n",
       "      <th>2</th>\n",
       "      <td>2</td>\n",
       "      <td>-1633887856876571208</td>\n",
       "      <td>False</td>\n",
       "    </tr>\n",
       "  </tbody>\n",
       "</table>\n",
       "</div>"
      ],
      "text/plain": [
       "   event_id               app_id  is_active\n",
       "0         2  5927333115845830913       True\n",
       "1         2 -5720078949152207372      False\n",
       "2         2 -1633887856876571208      False"
      ]
     },
     "execution_count": 6,
     "metadata": {},
     "output_type": "execute_result"
    },
    {
     "data": {
      "text/html": [
       "<div>\n",
       "<style scoped>\n",
       "    .dataframe tbody tr th:only-of-type {\n",
       "        vertical-align: middle;\n",
       "    }\n",
       "\n",
       "    .dataframe tbody tr th {\n",
       "        vertical-align: top;\n",
       "    }\n",
       "\n",
       "    .dataframe thead th {\n",
       "        text-align: right;\n",
       "    }\n",
       "</style>\n",
       "<table border=\"1\" class=\"dataframe\">\n",
       "  <thead>\n",
       "    <tr style=\"text-align: right;\">\n",
       "      <th></th>\n",
       "      <th>app_id</th>\n",
       "      <th>label_id</th>\n",
       "    </tr>\n",
       "  </thead>\n",
       "  <tbody>\n",
       "    <tr>\n",
       "      <th>0</th>\n",
       "      <td>7324884708820027918</td>\n",
       "      <td>251</td>\n",
       "    </tr>\n",
       "    <tr>\n",
       "      <th>1</th>\n",
       "      <td>-4494216993218550286</td>\n",
       "      <td>251</td>\n",
       "    </tr>\n",
       "    <tr>\n",
       "      <th>2</th>\n",
       "      <td>6058196446775239644</td>\n",
       "      <td>406</td>\n",
       "    </tr>\n",
       "  </tbody>\n",
       "</table>\n",
       "</div>"
      ],
      "text/plain": [
       "                app_id  label_id\n",
       "0  7324884708820027918       251\n",
       "1 -4494216993218550286       251\n",
       "2  6058196446775239644       406"
      ]
     },
     "execution_count": 6,
     "metadata": {},
     "output_type": "execute_result"
    },
    {
     "data": {
      "text/html": [
       "<div>\n",
       "<style scoped>\n",
       "    .dataframe tbody tr th:only-of-type {\n",
       "        vertical-align: middle;\n",
       "    }\n",
       "\n",
       "    .dataframe tbody tr th {\n",
       "        vertical-align: top;\n",
       "    }\n",
       "\n",
       "    .dataframe thead th {\n",
       "        text-align: right;\n",
       "    }\n",
       "</style>\n",
       "<table border=\"1\" class=\"dataframe\">\n",
       "  <thead>\n",
       "    <tr style=\"text-align: right;\">\n",
       "      <th></th>\n",
       "      <th>label_id</th>\n",
       "      <th>category</th>\n",
       "    </tr>\n",
       "  </thead>\n",
       "  <tbody>\n",
       "    <tr>\n",
       "      <th>0</th>\n",
       "      <td>1</td>\n",
       "      <td>NaN</td>\n",
       "    </tr>\n",
       "    <tr>\n",
       "      <th>1</th>\n",
       "      <td>2</td>\n",
       "      <td>game-game type</td>\n",
       "    </tr>\n",
       "    <tr>\n",
       "      <th>2</th>\n",
       "      <td>3</td>\n",
       "      <td>game-Game themes</td>\n",
       "    </tr>\n",
       "  </tbody>\n",
       "</table>\n",
       "</div>"
      ],
      "text/plain": [
       "   label_id          category\n",
       "0         1               NaN\n",
       "1         2    game-game type\n",
       "2         3  game-Game themes"
      ]
     },
     "execution_count": 6,
     "metadata": {},
     "output_type": "execute_result"
    }
   ],
   "source": [
    "train.head(3)\n",
    "phone.head(3)\n",
    "events.head(3)\n",
    "appevents.head(3)\n",
    "applabels.head(3)\n",
    "labelcat.head(3)"
   ]
  },
  {
   "cell_type": "code",
   "execution_count": 58,
   "metadata": {
    "collapsed": false
   },
   "outputs": [
    {
     "data": {
      "text/plain": [
       "(74645, 4)"
      ]
     },
     "execution_count": 58,
     "metadata": {},
     "output_type": "execute_result"
    },
    {
     "data": {
      "text/plain": [
       "(112071, 1)"
      ]
     },
     "execution_count": 58,
     "metadata": {},
     "output_type": "execute_result"
    },
    {
     "data": {
      "text/plain": [
       "(186716, 4)"
      ]
     },
     "execution_count": 58,
     "metadata": {},
     "output_type": "execute_result"
    },
    {
     "data": {
      "text/plain": [
       "(3252950, 4)"
      ]
     },
     "execution_count": 58,
     "metadata": {},
     "output_type": "execute_result"
    },
    {
     "data": {
      "text/plain": [
       "(32473067, 4)"
      ]
     },
     "execution_count": 58,
     "metadata": {},
     "output_type": "execute_result"
    },
    {
     "data": {
      "text/plain": [
       "(78204, 5)"
      ]
     },
     "execution_count": 58,
     "metadata": {},
     "output_type": "execute_result"
    },
    {
     "data": {
      "text/plain": [
       "(930, 2)"
      ]
     },
     "execution_count": 58,
     "metadata": {},
     "output_type": "execute_result"
    }
   ],
   "source": [
    "train.shape\n",
    "test.shape\n",
    "phone.shape\n",
    "events.shape\n",
    "appevents.shape\n",
    "applabels.shape\n",
    "labelcat.shape"
   ]
  },
  {
   "cell_type": "code",
   "execution_count": 75,
   "metadata": {
    "collapsed": false
   },
   "outputs": [
    {
     "data": {
      "text/plain": [
       "gender      0\n",
       "age         0\n",
       "group       0\n",
       "trainrow    0\n",
       "dtype: int64"
      ]
     },
     "execution_count": 75,
     "metadata": {},
     "output_type": "execute_result"
    },
    {
     "data": {
      "text/plain": [
       "testrow    0\n",
       "dtype: int64"
      ]
     },
     "execution_count": 75,
     "metadata": {},
     "output_type": "execute_result"
    },
    {
     "data": {
      "text/plain": [
       "phone_brand           0\n",
       "device_model          0\n",
       "eng_phone_brand    1184\n",
       "brand                 0\n",
       "dtype: int64"
      ]
     },
     "execution_count": 75,
     "metadata": {},
     "output_type": "execute_result"
    },
    {
     "data": {
      "text/plain": [
       "device_id    0\n",
       "timestamp    0\n",
       "longitude    0\n",
       "latitude     0\n",
       "dtype: int64"
      ]
     },
     "execution_count": 75,
     "metadata": {},
     "output_type": "execute_result"
    },
    {
     "data": {
      "text/plain": [
       "event_id     0\n",
       "app_id       0\n",
       "is_active    0\n",
       "app          0\n",
       "dtype: int64"
      ]
     },
     "execution_count": 75,
     "metadata": {},
     "output_type": "execute_result"
    },
    {
     "data": {
      "text/plain": [
       "app_id      0\n",
       "label_id    0\n",
       "app         0\n",
       "label       0\n",
       "category    0\n",
       "dtype: int64"
      ]
     },
     "execution_count": 75,
     "metadata": {},
     "output_type": "execute_result"
    },
    {
     "data": {
      "text/plain": [
       "label_id    0\n",
       "category    3\n",
       "dtype: int64"
      ]
     },
     "execution_count": 75,
     "metadata": {},
     "output_type": "execute_result"
    }
   ],
   "source": [
    "train.isnull().sum()\n",
    "test.isnull().sum()\n",
    "phone.isnull().sum()\n",
    "events.isnull().sum()\n",
    "appevents.isnull().sum()\n",
    "applabels.isnull().sum()\n",
    "labelcat.isnull().sum()"
   ]
  },
  {
   "cell_type": "markdown",
   "metadata": {},
   "source": [
    "# EDA"
   ]
  },
  {
   "cell_type": "markdown",
   "metadata": {
    "collapsed": true
   },
   "source": [
    "#### Group and Phone"
   ]
  },
  {
   "cell_type": "code",
   "execution_count": 3,
   "metadata": {
    "collapsed": false,
    "scrolled": true
   },
   "outputs": [
    {
     "data": {
      "text/html": [
       "<div>\n",
       "<style scoped>\n",
       "    .dataframe tbody tr th:only-of-type {\n",
       "        vertical-align: middle;\n",
       "    }\n",
       "\n",
       "    .dataframe tbody tr th {\n",
       "        vertical-align: top;\n",
       "    }\n",
       "\n",
       "    .dataframe thead th {\n",
       "        text-align: right;\n",
       "    }\n",
       "</style>\n",
       "<table border=\"1\" class=\"dataframe\">\n",
       "  <thead>\n",
       "    <tr style=\"text-align: right;\">\n",
       "      <th></th>\n",
       "      <th>eng_phone_brand</th>\n",
       "      <th>phone_brand</th>\n",
       "    </tr>\n",
       "  </thead>\n",
       "  <tbody>\n",
       "    <tr>\n",
       "      <th>0</th>\n",
       "      <td>Sony</td>\n",
       "      <td>索尼</td>\n",
       "    </tr>\n",
       "    <tr>\n",
       "      <th>1</th>\n",
       "      <td>ZTE</td>\n",
       "      <td>中兴</td>\n",
       "    </tr>\n",
       "    <tr>\n",
       "      <th>2</th>\n",
       "      <td>gionee</td>\n",
       "      <td>金立</td>\n",
       "    </tr>\n",
       "    <tr>\n",
       "      <th>3</th>\n",
       "      <td>meizu</td>\n",
       "      <td>魅族</td>\n",
       "    </tr>\n",
       "    <tr>\n",
       "      <th>4</th>\n",
       "      <td>huawei</td>\n",
       "      <td>华为</td>\n",
       "    </tr>\n",
       "  </tbody>\n",
       "</table>\n",
       "</div>"
      ],
      "text/plain": [
       "  eng_phone_brand phone_brand\n",
       "0            Sony          索尼\n",
       "1             ZTE          中兴\n",
       "2          gionee          金立\n",
       "3           meizu          魅族\n",
       "4          huawei          华为"
      ]
     },
     "execution_count": 3,
     "metadata": {},
     "output_type": "execute_result"
    }
   ],
   "source": [
    "phone_brand = list([\"索尼\", \"中兴\", \"金立\", \"魅族\", \"华为\", \"酷派\", \"小米\", \"MIL\", \"PPTV\", \"ZOYE\", \"Lovme\", \"SUGAR\", \"LOGO\", \"TCL\", \"ZUK\", \"LG\", \"HTC\", \"vivo\", \"OPPO\", \"E派\", \"一加\", \"三星\",\"中国移动\",\"乐视\",\"乡米\",\"优米\",\"优购\",\"努比亚\",\"华硕\",\"唯米\",\"基伍\",\"夏新\",\"大可乐\",\"天语\",\"富可视\",\"小杨树\",\"尼比鲁\",\"德赛\",\"摩乐\",\"摩托罗拉\",\"昂达\",\"易派\",\"普耐尔\",\"朵唯\",\"梦米\",\"欧新\",\"欧比\",\"沃普丰\",\"波导\",\"海信\",\"海尔\",\"爱派尔\",\"神舟\",\"米奇\",\"米歌\",\"糖葫芦\",\"糯米\",\"纽曼\",\"维图\",\"美图\",\"聆韵\",\"联想\",\"艾优尼\",\"西米\",\"语信\",\"诺基亚\",\"谷歌\",\"邦华\",\"酷比魔方\",\"酷珀\",\"锤子\",\"青橙\",\"飞秒\",\"黑米\"])\n",
    "eng_phone_brand = list([\"Sony\", \"ZTE\", \"gionee\", \"meizu\", \"huawei\", \"coolpad\", \"MI\", \"MIL\", \"PPTV\", \"ZOYE\", \"Lovme\", \"SUGAR\", \"LOGO\", \"TCL\", \"ZUK\", \"LG\", \"HTC\", \"vivo\", \"OPPO\", \"epai\",\"oneplus\", \"samsung\", \"ccmc\", \"lshi\", \"xiangmi\", \"youmi\", \"yougo\", \"nubia\", \"asus\", \"weimi\", \"kiwu\", \"panosonic\", \"bigcola\", \"Ktouch\", \"fks\", \"smallt\", \"nibilu\", \"desci\", \"mole\", \"moto\", \"ada\", \"epai\", \"pner\", \"dowe\", \"mengmi\", \"ouxin\", \"obi\", \"wpf\", \"bodao\", \"hisense\", \"haier\", \"ipair\", \"hasse\", \"micky\", \"mige\", \"candy\", \"nuomi\", \"newman\", \"weitu\", \"meitu\", \"lingyun\", \"lenovo\", \"aiyouni\", \"ximi\", \"yuxin\", \"nokia\", \"google\", \"banghua\", \"koobee\", \"kupo\", \"hammer\", \"greeno\", \"fs\", \"heymi\"])\n",
    "phone_brand_trans = pd.DataFrame({'phone_brand': phone_brand, 'eng_phone_brand': eng_phone_brand})\n",
    "phone = phone.merge(phone_brand_trans,how = \"left\", on = \"phone_brand\").set_index(phone.index)\n",
    "phone.head(3)"
   ]
  },
  {
   "cell_type": "code",
   "execution_count": 4,
   "metadata": {
    "collapsed": false
   },
   "outputs": [
    {
     "data": {
      "text/html": [
       "<div>\n",
       "<style scoped>\n",
       "    .dataframe tbody tr th:only-of-type {\n",
       "        vertical-align: middle;\n",
       "    }\n",
       "\n",
       "    .dataframe tbody tr th {\n",
       "        vertical-align: top;\n",
       "    }\n",
       "\n",
       "    .dataframe thead th {\n",
       "        text-align: right;\n",
       "    }\n",
       "</style>\n",
       "<table border=\"1\" class=\"dataframe\">\n",
       "  <thead>\n",
       "    <tr style=\"text-align: right;\">\n",
       "      <th></th>\n",
       "      <th>phone_brand</th>\n",
       "      <th>device_model</th>\n",
       "      <th>eng_phone_brand</th>\n",
       "    </tr>\n",
       "    <tr>\n",
       "      <th>device_id</th>\n",
       "      <th></th>\n",
       "      <th></th>\n",
       "      <th></th>\n",
       "    </tr>\n",
       "  </thead>\n",
       "  <tbody>\n",
       "    <tr>\n",
       "      <th>-8890648629457979026</th>\n",
       "      <td>小米</td>\n",
       "      <td>红米</td>\n",
       "      <td>MI</td>\n",
       "    </tr>\n",
       "    <tr>\n",
       "      <th>1277779817574759137</th>\n",
       "      <td>小米</td>\n",
       "      <td>MI 2</td>\n",
       "      <td>MI</td>\n",
       "    </tr>\n",
       "    <tr>\n",
       "      <th>5137427614288105724</th>\n",
       "      <td>三星</td>\n",
       "      <td>Galaxy S4</td>\n",
       "      <td>samsung</td>\n",
       "    </tr>\n",
       "  </tbody>\n",
       "</table>\n",
       "</div>"
      ],
      "text/plain": [
       "                     phone_brand device_model eng_phone_brand\n",
       "device_id                                                    \n",
       "-8890648629457979026          小米           红米              MI\n",
       " 1277779817574759137          小米         MI 2              MI\n",
       " 5137427614288105724          三星    Galaxy S4         samsung"
      ]
     },
     "execution_count": 4,
     "metadata": {},
     "output_type": "execute_result"
    }
   ],
   "source": []
  },
  {
   "cell_type": "code",
   "execution_count": 5,
   "metadata": {
    "collapsed": false
   },
   "outputs": [
    {
     "name": "stderr",
     "output_type": "stream",
     "text": [
      "C:\\Users\\yiqin\\Anaconda3\\lib\\site-packages\\seaborn\\categorical.py:1424: FutureWarning: remove_na is deprecated and is a private function. Do not use.\n",
      "  stat_data = remove_na(group_data)\n"
     ]
    },
    {
     "data": {
      "text/plain": [
       "<matplotlib.axes._subplots.AxesSubplot at 0x26ebf8c5208>"
      ]
     },
     "execution_count": 5,
     "metadata": {},
     "output_type": "execute_result"
    },
    {
     "data": {
      "image/png": "[encoded data removed]",
      "text/plain": [
       "<matplotlib.figure.Figure at 0x26ebf8b0f28>"
      ]
     },
     "metadata": {},
     "output_type": "display_data"
    }
   ],
   "source": [
    "group = train[\"group\"].value_counts().reset_index()\n",
    "sns.barplot(y = group[\"index\"],x = group[\"group\"])"
   ]
  },
  {
   "cell_type": "code",
   "execution_count": 6,
   "metadata": {
    "collapsed": false,
    "scrolled": true
   },
   "outputs": [
    {
     "name": "stderr",
     "output_type": "stream",
     "text": [
      "C:\\Users\\yiqin\\Anaconda3\\lib\\site-packages\\seaborn\\categorical.py:1424: FutureWarning: remove_na is deprecated and is a private function. Do not use.\n",
      "  stat_data = remove_na(group_data)\n"
     ]
    },
    {
     "data": {
      "text/plain": [
       "<matplotlib.axes._subplots.AxesSubplot at 0x26eb62d5828>"
      ]
     },
     "execution_count": 6,
     "metadata": {},
     "output_type": "execute_result"
    },
    {
     "data": {
      "image/png": "[encoded data removed]",
      "text/plain": [
       "<matplotlib.figure.Figure at 0x26ebb41dfd0>"
      ]
     },
     "metadata": {},
     "output_type": "display_data"
    }
   ],
   "source": [
    "device_count = phone[\"device_model\"].value_counts().reset_index().head(10)\n",
    "sns.barplot(y = device_count[\"index\"],x = device_count[\"device_model\"])"
   ]
  },
  {
   "cell_type": "code",
   "execution_count": 7,
   "metadata": {
    "collapsed": false,
    "scrolled": false
   },
   "outputs": [
    {
     "data": {
      "text/plain": [
       "<matplotlib.figure.Figure at 0x26ea6885b38>"
      ]
     },
     "execution_count": 7,
     "metadata": {},
     "output_type": "execute_result"
    },
    {
     "name": "stderr",
     "output_type": "stream",
     "text": [
      "C:\\Users\\yiqin\\Anaconda3\\lib\\site-packages\\seaborn\\categorical.py:1464: FutureWarning: remove_na is deprecated and is a private function. Do not use.\n",
      "  stat_data = remove_na(group_data[hue_mask])\n"
     ]
    },
    {
     "data": {
      "text/plain": [
       "<matplotlib.axes._subplots.AxesSubplot at 0x26ea6885b70>"
      ]
     },
     "execution_count": 7,
     "metadata": {},
     "output_type": "execute_result"
    },
    {
     "data": {
      "image/png": "[encoded data removed]",
      "text/plain": [
       "<matplotlib.figure.Figure at 0x26ea6885b38>"
      ]
     },
     "metadata": {},
     "output_type": "display_data"
    }
   ],
   "source": [
    "train_phone = pd.merge(train,phone,how = \"left\", left_index=True, right_index=True)\n",
    "\n",
    "d1 = train_phone.groupby([\"device_model\",\"group\"])[\"age\"].count().reset_index().sort_values(by = [\"age\"],ascending = False)\n",
    "d2 = d1.groupby('group').apply(lambda dfg: dfg.nlargest(10,'age')).reset_index(drop=True)\n",
    "\n",
    "plt.figure(figsize=(10,30))  \n",
    "sns.barplot(y = d2[\"group\"],x = d2[\"age\"],hue = d2[\"device_model\"],edgecolor=\"black\")"
   ]
  },
  {
   "cell_type": "code",
   "execution_count": 8,
   "metadata": {
    "collapsed": false,
    "scrolled": false
   },
   "outputs": [
    {
     "name": "stderr",
     "output_type": "stream",
     "text": [
      "C:\\Users\\yiqin\\Anaconda3\\lib\\site-packages\\seaborn\\categorical.py:1424: FutureWarning: remove_na is deprecated and is a private function. Do not use.\n",
      "  stat_data = remove_na(group_data)\n"
     ]
    },
    {
     "data": {
      "text/plain": [
       "<matplotlib.axes._subplots.AxesSubplot at 0x26eb62d5e80>"
      ]
     },
     "execution_count": 8,
     "metadata": {},
     "output_type": "execute_result"
    },
    {
     "data": {
      "image/png": "[encoded data removed]",
      "text/plain": [
       "<matplotlib.figure.Figure at 0x26ea68719e8>"
      ]
     },
     "metadata": {},
     "output_type": "display_data"
    }
   ],
   "source": [
    "brand_count = phone[\"eng_phone_brand\"].value_counts().reset_index().head(10)\n",
    "sns.barplot(y = brand_count[\"index\"],x = brand_count[\"eng_phone_brand\"])"
   ]
  },
  {
   "cell_type": "code",
   "execution_count": 9,
   "metadata": {
    "collapsed": false,
    "scrolled": true
   },
   "outputs": [
    {
     "data": {
      "text/plain": [
       "<matplotlib.figure.Figure at 0x26ea749f390>"
      ]
     },
     "execution_count": 9,
     "metadata": {},
     "output_type": "execute_result"
    },
    {
     "name": "stderr",
     "output_type": "stream",
     "text": [
      "C:\\Users\\yiqin\\Anaconda3\\lib\\site-packages\\seaborn\\categorical.py:1464: FutureWarning: remove_na is deprecated and is a private function. Do not use.\n",
      "  stat_data = remove_na(group_data[hue_mask])\n"
     ]
    },
    {
     "data": {
      "text/plain": [
       "<matplotlib.axes._subplots.AxesSubplot at 0x26ea83995c0>"
      ]
     },
     "execution_count": 9,
     "metadata": {},
     "output_type": "execute_result"
    },
    {
     "data": {
      "image/png": "[encoded data removed]",
      "text/plain": [
       "<matplotlib.figure.Figure at 0x26ea749f390>"
      ]
     },
     "metadata": {},
     "output_type": "display_data"
    }
   ],
   "source": [
    "train_phone = pd.merge(train,phone,how = \"left\", left_index=True, right_index=True)\n",
    "\n",
    "d1 = train_phone.groupby([\"eng_phone_brand\",\"group\"])[\"age\"].count().reset_index().sort_values(by = [\"age\"],ascending = False)\n",
    "d2 = d1.groupby('group').apply(lambda dfg: dfg.nlargest(10,'age')).reset_index(drop=True)\n",
    "\n",
    "plt.figure(figsize=(10,30))  \n",
    "sns.barplot(y = d2[\"group\"],x = d2[\"age\"],hue = d2[\"eng_phone_brand\"],edgecolor=\"black\")"
   ]
  },
  {
   "cell_type": "markdown",
   "metadata": {
    "collapsed": false
   },
   "source": [
    "# Data Processing"
   ]
  },
  {
   "cell_type": "code",
   "execution_count": 3,
   "metadata": {
    "collapsed": true
   },
   "outputs": [],
   "source": [
    "from sklearn.preprocessing import LabelEncoder\n",
    "from scipy.sparse import csr_matrix, hstack"
   ]
  },
  {
   "cell_type": "code",
   "execution_count": 4,
   "metadata": {
    "collapsed": false
   },
   "outputs": [],
   "source": [
    "train['trainrow'] = np.arange(train.shape[0])\n",
    "test['testrow'] = np.arange(test.shape[0])"
   ]
  },
  {
   "cell_type": "markdown",
   "metadata": {},
   "source": [
    "#### phone brand"
   ]
  },
  {
   "cell_type": "code",
   "execution_count": 5,
   "metadata": {
    "collapsed": false,
    "scrolled": true
   },
   "outputs": [
    {
     "data": {
      "text/html": [
       "<div>\n",
       "<style scoped>\n",
       "    .dataframe tbody tr th:only-of-type {\n",
       "        vertical-align: middle;\n",
       "    }\n",
       "\n",
       "    .dataframe tbody tr th {\n",
       "        vertical-align: top;\n",
       "    }\n",
       "\n",
       "    .dataframe thead th {\n",
       "        text-align: right;\n",
       "    }\n",
       "</style>\n",
       "<table border=\"1\" class=\"dataframe\">\n",
       "  <thead>\n",
       "    <tr style=\"text-align: right;\">\n",
       "      <th></th>\n",
       "      <th>phone_brand</th>\n",
       "      <th>device_model</th>\n",
       "      <th>eng_phone_brand</th>\n",
       "      <th>brand</th>\n",
       "    </tr>\n",
       "    <tr>\n",
       "      <th>device_id</th>\n",
       "      <th></th>\n",
       "      <th></th>\n",
       "      <th></th>\n",
       "      <th></th>\n",
       "    </tr>\n",
       "  </thead>\n",
       "  <tbody>\n",
       "    <tr>\n",
       "      <th>-8890648629457979026</th>\n",
       "      <td>小米</td>\n",
       "      <td>红米</td>\n",
       "      <td>MI</td>\n",
       "      <td>51</td>\n",
       "    </tr>\n",
       "    <tr>\n",
       "      <th>1277779817574759137</th>\n",
       "      <td>小米</td>\n",
       "      <td>MI 2</td>\n",
       "      <td>MI</td>\n",
       "      <td>51</td>\n",
       "    </tr>\n",
       "    <tr>\n",
       "      <th>5137427614288105724</th>\n",
       "      <td>三星</td>\n",
       "      <td>Galaxy S4</td>\n",
       "      <td>samsung</td>\n",
       "      <td>15</td>\n",
       "    </tr>\n",
       "  </tbody>\n",
       "</table>\n",
       "</div>"
      ],
      "text/plain": [
       "                     phone_brand device_model eng_phone_brand  brand\n",
       "device_id                                                           \n",
       "-8890648629457979026          小米           红米              MI     51\n",
       " 1277779817574759137          小米         MI 2              MI     51\n",
       " 5137427614288105724          三星    Galaxy S4         samsung     15"
      ]
     },
     "execution_count": 5,
     "metadata": {},
     "output_type": "execute_result"
    }
   ],
   "source": [
    "#add english name to phone brand\n",
    "phone_brand = list([\"索尼\", \"中兴\", \"金立\", \"魅族\", \"华为\", \"酷派\", \"小米\", \"MIL\", \"PPTV\", \"ZOYE\", \"Lovme\", \"SUGAR\", \"LOGO\", \"TCL\", \"ZUK\", \"LG\", \"HTC\", \"vivo\", \"OPPO\", \"E派\", \"一加\", \"三星\",\"中国移动\",\"乐视\",\"乡米\",\"优米\",\"优购\",\"努比亚\",\"华硕\",\"唯米\",\"基伍\",\"夏新\",\"大可乐\",\"天语\",\"富可视\",\"小杨树\",\"尼比鲁\",\"德赛\",\"摩乐\",\"摩托罗拉\",\"昂达\",\"易派\",\"普耐尔\",\"朵唯\",\"梦米\",\"欧新\",\"欧比\",\"沃普丰\",\"波导\",\"海信\",\"海尔\",\"爱派尔\",\"神舟\",\"米奇\",\"米歌\",\"糖葫芦\",\"糯米\",\"纽曼\",\"维图\",\"美图\",\"聆韵\",\"联想\",\"艾优尼\",\"西米\",\"语信\",\"诺基亚\",\"谷歌\",\"邦华\",\"酷比魔方\",\"酷珀\",\"锤子\",\"青橙\",\"飞秒\",\"黑米\"])\n",
    "eng_phone_brand = list([\"Sony\", \"ZTE\", \"gionee\", \"meizu\", \"huawei\", \"coolpad\", \"MI\", \"MIL\", \"PPTV\", \"ZOYE\", \"Lovme\", \"SUGAR\", \"LOGO\", \"TCL\", \"ZUK\", \"LG\", \"HTC\", \"vivo\", \"OPPO\", \"epai\",\"oneplus\", \"samsung\", \"ccmc\", \"lshi\", \"xiangmi\", \"youmi\", \"yougo\", \"nubia\", \"asus\", \"weimi\", \"kiwu\", \"panosonic\", \"bigcola\", \"Ktouch\", \"fks\", \"smallt\", \"nibilu\", \"desci\", \"mole\", \"moto\", \"ada\", \"epai\", \"pner\", \"dowe\", \"mengmi\", \"ouxin\", \"obi\", \"wpf\", \"bodao\", \"hisense\", \"haier\", \"ipair\", \"hasse\", \"micky\", \"mige\", \"candy\", \"nuomi\", \"newman\", \"weitu\", \"meitu\", \"lingyun\", \"lenovo\", \"aiyouni\", \"ximi\", \"yuxin\", \"nokia\", \"google\", \"banghua\", \"koobee\", \"kupo\", \"hammer\", \"greeno\", \"fs\", \"heymi\"])\n",
    "phone_brand_trans = pd.DataFrame({'phone_brand': phone_brand, 'eng_phone_brand': eng_phone_brand})\n",
    "phone = phone.merge(phone_brand_trans,how = \"left\", on = \"phone_brand\").set_index(phone.index)\n",
    "\n",
    "#encode brand\n",
    "brandencoder = LabelEncoder().fit(phone.phone_brand)\n",
    "phone['brand'] = brandencoder.transform(phone['phone_brand'])\n",
    "phone.head(3)"
   ]
  },
  {
   "cell_type": "code",
   "execution_count": 6,
   "metadata": {
    "collapsed": false,
    "scrolled": true
   },
   "outputs": [
    {
     "data": {
      "text/html": [
       "<div>\n",
       "<style scoped>\n",
       "    .dataframe tbody tr th:only-of-type {\n",
       "        vertical-align: middle;\n",
       "    }\n",
       "\n",
       "    .dataframe tbody tr th {\n",
       "        vertical-align: top;\n",
       "    }\n",
       "\n",
       "    .dataframe thead th {\n",
       "        text-align: right;\n",
       "    }\n",
       "</style>\n",
       "<table border=\"1\" class=\"dataframe\">\n",
       "  <thead>\n",
       "    <tr style=\"text-align: right;\">\n",
       "      <th></th>\n",
       "      <th>gender</th>\n",
       "      <th>age</th>\n",
       "      <th>group</th>\n",
       "      <th>trainrow</th>\n",
       "      <th>phone_brand</th>\n",
       "      <th>device_model</th>\n",
       "      <th>eng_phone_brand</th>\n",
       "      <th>brand</th>\n",
       "    </tr>\n",
       "    <tr>\n",
       "      <th>device_id</th>\n",
       "      <th></th>\n",
       "      <th></th>\n",
       "      <th></th>\n",
       "      <th></th>\n",
       "      <th></th>\n",
       "      <th></th>\n",
       "      <th></th>\n",
       "      <th></th>\n",
       "    </tr>\n",
       "  </thead>\n",
       "  <tbody>\n",
       "    <tr>\n",
       "      <th>-8076087639492063270</th>\n",
       "      <td>M</td>\n",
       "      <td>35</td>\n",
       "      <td>M32-38</td>\n",
       "      <td>0</td>\n",
       "      <td>小米</td>\n",
       "      <td>MI 2</td>\n",
       "      <td>MI</td>\n",
       "      <td>51</td>\n",
       "    </tr>\n",
       "    <tr>\n",
       "      <th>-2897161552818060146</th>\n",
       "      <td>M</td>\n",
       "      <td>35</td>\n",
       "      <td>M32-38</td>\n",
       "      <td>1</td>\n",
       "      <td>小米</td>\n",
       "      <td>MI 2</td>\n",
       "      <td>MI</td>\n",
       "      <td>51</td>\n",
       "    </tr>\n",
       "    <tr>\n",
       "      <th>-8260683887967679142</th>\n",
       "      <td>M</td>\n",
       "      <td>35</td>\n",
       "      <td>M32-38</td>\n",
       "      <td>2</td>\n",
       "      <td>小米</td>\n",
       "      <td>MI 2</td>\n",
       "      <td>MI</td>\n",
       "      <td>51</td>\n",
       "    </tr>\n",
       "  </tbody>\n",
       "</table>\n",
       "</div>"
      ],
      "text/plain": [
       "                     gender  age   group  trainrow phone_brand device_model  \\\n",
       "device_id                                                                     \n",
       "-8076087639492063270      M   35  M32-38         0          小米         MI 2   \n",
       "-2897161552818060146      M   35  M32-38         1          小米         MI 2   \n",
       "-8260683887967679142      M   35  M32-38         2          小米         MI 2   \n",
       "\n",
       "                     eng_phone_brand  brand  \n",
       "device_id                                    \n",
       "-8076087639492063270              MI     51  \n",
       "-2897161552818060146              MI     51  \n",
       "-8260683887967679142              MI     51  "
      ]
     },
     "execution_count": 6,
     "metadata": {},
     "output_type": "execute_result"
    },
    {
     "data": {
      "text/html": [
       "<div>\n",
       "<style scoped>\n",
       "    .dataframe tbody tr th:only-of-type {\n",
       "        vertical-align: middle;\n",
       "    }\n",
       "\n",
       "    .dataframe tbody tr th {\n",
       "        vertical-align: top;\n",
       "    }\n",
       "\n",
       "    .dataframe thead th {\n",
       "        text-align: right;\n",
       "    }\n",
       "</style>\n",
       "<table border=\"1\" class=\"dataframe\">\n",
       "  <thead>\n",
       "    <tr style=\"text-align: right;\">\n",
       "      <th></th>\n",
       "      <th>testrow</th>\n",
       "      <th>phone_brand</th>\n",
       "      <th>device_model</th>\n",
       "      <th>eng_phone_brand</th>\n",
       "      <th>brand</th>\n",
       "    </tr>\n",
       "    <tr>\n",
       "      <th>device_id</th>\n",
       "      <th></th>\n",
       "      <th></th>\n",
       "      <th></th>\n",
       "      <th></th>\n",
       "      <th></th>\n",
       "    </tr>\n",
       "  </thead>\n",
       "  <tbody>\n",
       "    <tr>\n",
       "      <th>1002079943728939269</th>\n",
       "      <td>0</td>\n",
       "      <td>小米</td>\n",
       "      <td>小米note</td>\n",
       "      <td>MI</td>\n",
       "      <td>51</td>\n",
       "    </tr>\n",
       "    <tr>\n",
       "      <th>-1547860181818787117</th>\n",
       "      <td>1</td>\n",
       "      <td>小米</td>\n",
       "      <td>红米2</td>\n",
       "      <td>MI</td>\n",
       "      <td>51</td>\n",
       "    </tr>\n",
       "    <tr>\n",
       "      <th>7374582448058474277</th>\n",
       "      <td>2</td>\n",
       "      <td>华为</td>\n",
       "      <td>Y523-L176</td>\n",
       "      <td>huawei</td>\n",
       "      <td>31</td>\n",
       "    </tr>\n",
       "  </tbody>\n",
       "</table>\n",
       "</div>"
      ],
      "text/plain": [
       "                      testrow phone_brand device_model eng_phone_brand  brand\n",
       "device_id                                                                    \n",
       " 1002079943728939269        0          小米       小米note              MI     51\n",
       "-1547860181818787117        1          小米          红米2              MI     51\n",
       " 7374582448058474277        2          华为    Y523-L176          huawei     31"
      ]
     },
     "execution_count": 6,
     "metadata": {},
     "output_type": "execute_result"
    }
   ],
   "source": [
    "train_phone = pd.merge(train,phone,how = \"left\", left_index=True, right_index=True)\n",
    "test_phone = pd.merge(test,phone,how = \"left\", left_index=True, right_index=True)\n",
    "train_phone.head(3)\n",
    "test_phone.head(3)"
   ]
  },
  {
   "cell_type": "markdown",
   "metadata": {},
   "source": [
    "10 most popular brands account for more than 90% of devices. "
   ]
  },
  {
   "cell_type": "code",
   "execution_count": 24,
   "metadata": {
    "collapsed": false
   },
   "outputs": [
    {
     "data": {
      "text/plain": [
       "[<matplotlib.lines.Line2D at 0x220021a0c50>]"
      ]
     },
     "execution_count": 24,
     "metadata": {},
     "output_type": "execute_result"
    },
    {
     "data": {
      "text/plain": [
       "(0, 30)"
      ]
     },
     "execution_count": 24,
     "metadata": {},
     "output_type": "execute_result"
    },
    {
     "data": {
      "text/plain": [
       "Text(0.5,0,'N most popular brands')"
      ]
     },
     "execution_count": 24,
     "metadata": {},
     "output_type": "execute_result"
    },
    {
     "data": {
      "text/plain": [
       "Text(0,0.5,'% of devices')"
      ]
     },
     "execution_count": 24,
     "metadata": {},
     "output_type": "execute_result"
    },
    {
     "name": "stderr",
     "output_type": "stream",
     "text": [
      "C:\\Users\\yiqin\\Anaconda3\\lib\\site-packages\\seaborn\\categorical.py:1424: FutureWarning: remove_na is deprecated and is a private function. Do not use.\n",
      "  stat_data = remove_na(group_data)\n"
     ]
    },
    {
     "data": {
      "text/plain": [
       "Text(0.5,0,'count of brand')"
      ]
     },
     "execution_count": 24,
     "metadata": {},
     "output_type": "execute_result"
    },
    {
     "data": {
      "image/png": "[encoded data removed]",
      "text/plain": [
       "<matplotlib.figure.Figure at 0x22002b46630>"
      ]
     },
     "metadata": {},
     "output_type": "display_data"
    }
   ],
   "source": [
    "c = phone.brand.value_counts()\n",
    "s = c.cumsum()/c.sum()\n",
    "fig, (ax1,ax2) = plt.subplots(1,2,sharey=False,figsize=(10,4))\n",
    "ax1.plot(np.arange(s.shape[0])+1, s.values*100)\n",
    "ax1.set_xlim(0,30)\n",
    "ax1.set_xlabel('N most popular brands')\n",
    "ax1.set_ylabel('% of devices')\n",
    "\n",
    "brand_count = phone[\"eng_phone_brand\"].value_counts().reset_index().head(10)\n",
    "ax2 = sns.barplot(y = brand_count[\"index\"],x = brand_count[\"eng_phone_brand\"])\n",
    "ax2.set_xlabel('count of brand')"
   ]
  },
  {
   "cell_type": "markdown",
   "metadata": {},
   "source": [
    "top 10 phone brand in each group"
   ]
  },
  {
   "cell_type": "code",
   "execution_count": 8,
   "metadata": {
    "collapsed": false,
    "scrolled": true
   },
   "outputs": [
    {
     "data": {
      "text/plain": [
       "<matplotlib.figure.Figure at 0x22000e7a3c8>"
      ]
     },
     "execution_count": 8,
     "metadata": {},
     "output_type": "execute_result"
    },
    {
     "name": "stderr",
     "output_type": "stream",
     "text": [
      "C:\\Users\\yiqin\\Anaconda3\\lib\\site-packages\\seaborn\\categorical.py:1464: FutureWarning: remove_na is deprecated and is a private function. Do not use.\n",
      "  stat_data = remove_na(group_data[hue_mask])\n"
     ]
    },
    {
     "data": {
      "text/plain": [
       "<matplotlib.axes._subplots.AxesSubplot at 0x22000ecfe80>"
      ]
     },
     "execution_count": 8,
     "metadata": {},
     "output_type": "execute_result"
    },
    {
     "data": {
      "image/png": "[encoded data removed]",
      "text/plain": [
       "<matplotlib.figure.Figure at 0x22000e7a3c8>"
      ]
     },
     "metadata": {},
     "output_type": "display_data"
    }
   ],
   "source": [
    "d1 = train_phone.groupby([\"eng_phone_brand\",\"group\"])[\"age\"].count().reset_index().sort_values(by = [\"age\"],ascending = False)\n",
    "d2 = d1.groupby('group').apply(lambda dfg: dfg.nlargest(10,'age')).reset_index(drop=True)\n",
    "\n",
    "plt.figure(figsize=(10,30))  \n",
    "sns.barplot(y = d2[\"group\"],x = d2[\"age\"],hue = d2[\"eng_phone_brand\"],edgecolor=\"black\")"
   ]
  },
  {
   "cell_type": "markdown",
   "metadata": {},
   "source": [
    "Median age in top 10 phone brand. User of Samsung, Huawei and lenova are relativly older."
   ]
  },
  {
   "cell_type": "code",
   "execution_count": 9,
   "metadata": {
    "collapsed": false,
    "scrolled": false
   },
   "outputs": [
    {
     "data": {
      "text/plain": [
       "<matplotlib.figure.Figure at 0x220521eb6d8>"
      ]
     },
     "execution_count": 9,
     "metadata": {},
     "output_type": "execute_result"
    },
    {
     "name": "stderr",
     "output_type": "stream",
     "text": [
      "C:\\Users\\yiqin\\Anaconda3\\lib\\site-packages\\seaborn\\categorical.py:478: FutureWarning: remove_na is deprecated and is a private function. Do not use.\n",
      "  box_data = remove_na(group_data[hue_mask])\n"
     ]
    },
    {
     "data": {
      "text/plain": [
       "<matplotlib.axes._subplots.AxesSubplot at 0x22031401cc0>"
      ]
     },
     "execution_count": 9,
     "metadata": {},
     "output_type": "execute_result"
    },
    {
     "data": {
      "text/plain": [
       "<matplotlib.lines.Line2D at 0x22000cbfe80>"
      ]
     },
     "execution_count": 9,
     "metadata": {},
     "output_type": "execute_result"
    },
    {
     "data": {
      "text/plain": [
       "(0, 60)"
      ]
     },
     "execution_count": 9,
     "metadata": {},
     "output_type": "execute_result"
    },
    {
     "data": {
      "image/png": "[encoded data removed]",
      "text/plain": [
       "<matplotlib.figure.Figure at 0x220521eb6d8>"
      ]
     },
     "metadata": {},
     "output_type": "display_data"
    }
   ],
   "source": [
    "plt.figure(figsize=(10,6))\n",
    "sns.boxplot(x = \"eng_phone_brand\", y = \"age\", hue = \"gender\",palette='rainbow',\n",
    "            data=train_phone.loc[train_phone[\"eng_phone_brand\"].isin(list(brand_count[\"index\"]))])\n",
    "plt.axhline(train_phone[\"age\"].median(),color = \"red\")\n",
    "plt.ylim(0,60)"
   ]
  },
  {
   "cell_type": "markdown",
   "metadata": {},
   "source": [
    "OPPO, Samsung, and Vivo are preffered by female than male"
   ]
  },
  {
   "cell_type": "code",
   "execution_count": 53,
   "metadata": {
    "collapsed": false
   },
   "outputs": [
    {
     "data": {
      "text/plain": [
       "<matplotlib.axes._subplots.AxesSubplot at 0x2200ad61470>"
      ]
     },
     "execution_count": 53,
     "metadata": {},
     "output_type": "execute_result"
    },
    {
     "data": {
      "text/plain": [
       "<matplotlib.lines.Line2D at 0x2200ad67908>"
      ]
     },
     "execution_count": 53,
     "metadata": {},
     "output_type": "execute_result"
    },
    {
     "data": {
      "text/plain": [
       "Text(0.5,0,'brand')"
      ]
     },
     "execution_count": 53,
     "metadata": {},
     "output_type": "execute_result"
    },
    {
     "data": {
      "text/plain": [
       "Text(0,0.5,'percentage')"
      ]
     },
     "execution_count": 53,
     "metadata": {},
     "output_type": "execute_result"
    },
    {
     "data": {
      "image/png": "[encoded data removed]",
      "text/plain": [
       "<matplotlib.figure.Figure at 0x2200ac79f98>"
      ]
     },
     "metadata": {},
     "output_type": "display_data"
    }
   ],
   "source": [
    "d1 = train_phone.loc[train_phone[\"eng_phone_brand\"].isin(list(brand_count[\"index\"]))].groupby(\n",
    "    [\"eng_phone_brand\",\"gender\"])[\"age\"].count()\n",
    "d2 = d1.groupby(level=0).apply(lambda x: 100 * x / float(x.sum()))\n",
    "d2.unstack().plot(kind='bar',stacked=True)\n",
    "plt.axhline(d2.unstack()[\"F\"].mean(),color = \"red\")\n",
    "plt.xlabel(\"brand\")\n",
    "plt.ylabel(\"percentage\")"
   ]
  },
  {
   "cell_type": "code",
   "execution_count": 64,
   "metadata": {
    "collapsed": false,
    "scrolled": true
   },
   "outputs": [
    {
     "name": "stdout",
     "output_type": "stream",
     "text": [
      "Brand data: train shape (74645, 131), test shape (112071, 131)\n"
     ]
    },
    {
     "data": {
      "text/plain": [
       "array([[0., 0., 0., ..., 0., 0., 0.],\n",
       "       [0., 0., 0., ..., 0., 0., 0.],\n",
       "       [0., 0., 0., ..., 0., 0., 0.],\n",
       "       ...,\n",
       "       [0., 0., 0., ..., 0., 0., 0.],\n",
       "       [0., 0., 0., ..., 0., 0., 0.],\n",
       "       [0., 0., 0., ..., 0., 0., 0.]])"
      ]
     },
     "execution_count": 64,
     "metadata": {},
     "output_type": "execute_result"
    }
   ],
   "source": [
    "Xtr_brand = csr_matrix((np.ones(train_phone.shape[0]), \n",
    "                       (train_phone.trainrow, train_phone.brand)))\n",
    "Xte_brand = csr_matrix((np.ones(test_phone.shape[0]), \n",
    "                       (test_phone.testrow, test_phone.brand)))\n",
    "print('Brand data: train shape {}, test shape {}'.format(Xtr_brand.shape, Xte_brand.shape))\n",
    "Xtr_brand.toarray()"
   ]
  },
  {
   "cell_type": "markdown",
   "metadata": {},
   "source": [
    "#### APP Count"
   ]
  },
  {
   "cell_type": "code",
   "execution_count": 11,
   "metadata": {
    "collapsed": false
   },
   "outputs": [
    {
     "data": {
      "text/html": [
       "<div>\n",
       "<style scoped>\n",
       "    .dataframe tbody tr th:only-of-type {\n",
       "        vertical-align: middle;\n",
       "    }\n",
       "\n",
       "    .dataframe tbody tr th {\n",
       "        vertical-align: top;\n",
       "    }\n",
       "\n",
       "    .dataframe thead th {\n",
       "        text-align: right;\n",
       "    }\n",
       "</style>\n",
       "<table border=\"1\" class=\"dataframe\">\n",
       "  <thead>\n",
       "    <tr style=\"text-align: right;\">\n",
       "      <th></th>\n",
       "      <th>event_id</th>\n",
       "      <th>app_id</th>\n",
       "      <th>is_active</th>\n",
       "    </tr>\n",
       "  </thead>\n",
       "  <tbody>\n",
       "    <tr>\n",
       "      <th>0</th>\n",
       "      <td>2</td>\n",
       "      <td>5927333115845830913</td>\n",
       "      <td>True</td>\n",
       "    </tr>\n",
       "    <tr>\n",
       "      <th>1</th>\n",
       "      <td>2</td>\n",
       "      <td>-5720078949152207372</td>\n",
       "      <td>False</td>\n",
       "    </tr>\n",
       "    <tr>\n",
       "      <th>2</th>\n",
       "      <td>2</td>\n",
       "      <td>-1633887856876571208</td>\n",
       "      <td>False</td>\n",
       "    </tr>\n",
       "  </tbody>\n",
       "</table>\n",
       "</div>"
      ],
      "text/plain": [
       "   event_id               app_id  is_active\n",
       "0         2  5927333115845830913       True\n",
       "1         2 -5720078949152207372      False\n",
       "2         2 -1633887856876571208      False"
      ]
     },
     "execution_count": 11,
     "metadata": {},
     "output_type": "execute_result"
    }
   ],
   "source": [
    "appevents.head(3)"
   ]
  },
  {
   "cell_type": "code",
   "execution_count": 12,
   "metadata": {
    "collapsed": false,
    "scrolled": false
   },
   "outputs": [
    {
     "data": {
      "text/plain": [
       "\"\\ndeviceapps = (appevents.merge(events[['device_id']], how='left',left_on='event_id',right_index=True)\\n                       .groupby(['device_id','app'])['is_active'].agg(['sum'])\\n                       .merge(train, how='left', left_index=True, right_index=True)\\n                       .merge(test, how='left', left_index=True, right_index=True)\\n                       .reset_index())\\n\""
      ]
     },
     "execution_count": 12,
     "metadata": {},
     "output_type": "execute_result"
    },
    {
     "data": {
      "text/html": [
       "<div>\n",
       "<style scoped>\n",
       "    .dataframe tbody tr th:only-of-type {\n",
       "        vertical-align: middle;\n",
       "    }\n",
       "\n",
       "    .dataframe tbody tr th {\n",
       "        vertical-align: top;\n",
       "    }\n",
       "\n",
       "    .dataframe thead th {\n",
       "        text-align: right;\n",
       "    }\n",
       "</style>\n",
       "<table border=\"1\" class=\"dataframe\">\n",
       "  <thead>\n",
       "    <tr style=\"text-align: right;\">\n",
       "      <th></th>\n",
       "      <th>device_id</th>\n",
       "      <th>app</th>\n",
       "      <th>size</th>\n",
       "      <th>gender</th>\n",
       "      <th>age</th>\n",
       "      <th>group</th>\n",
       "      <th>trainrow</th>\n",
       "      <th>testrow</th>\n",
       "    </tr>\n",
       "  </thead>\n",
       "  <tbody>\n",
       "    <tr>\n",
       "      <th>0</th>\n",
       "      <td>-9222956879900151005</td>\n",
       "      <td>548</td>\n",
       "      <td>18</td>\n",
       "      <td>M</td>\n",
       "      <td>36.0</td>\n",
       "      <td>M32-38</td>\n",
       "      <td>21594.0</td>\n",
       "      <td>NaN</td>\n",
       "    </tr>\n",
       "    <tr>\n",
       "      <th>1</th>\n",
       "      <td>-9222956879900151005</td>\n",
       "      <td>1096</td>\n",
       "      <td>18</td>\n",
       "      <td>M</td>\n",
       "      <td>36.0</td>\n",
       "      <td>M32-38</td>\n",
       "      <td>21594.0</td>\n",
       "      <td>NaN</td>\n",
       "    </tr>\n",
       "    <tr>\n",
       "      <th>2</th>\n",
       "      <td>-9222956879900151005</td>\n",
       "      <td>1248</td>\n",
       "      <td>26</td>\n",
       "      <td>M</td>\n",
       "      <td>36.0</td>\n",
       "      <td>M32-38</td>\n",
       "      <td>21594.0</td>\n",
       "      <td>NaN</td>\n",
       "    </tr>\n",
       "    <tr>\n",
       "      <th>3</th>\n",
       "      <td>-9222956879900151005</td>\n",
       "      <td>1545</td>\n",
       "      <td>12</td>\n",
       "      <td>M</td>\n",
       "      <td>36.0</td>\n",
       "      <td>M32-38</td>\n",
       "      <td>21594.0</td>\n",
       "      <td>NaN</td>\n",
       "    </tr>\n",
       "    <tr>\n",
       "      <th>4</th>\n",
       "      <td>-9222956879900151005</td>\n",
       "      <td>1664</td>\n",
       "      <td>18</td>\n",
       "      <td>M</td>\n",
       "      <td>36.0</td>\n",
       "      <td>M32-38</td>\n",
       "      <td>21594.0</td>\n",
       "      <td>NaN</td>\n",
       "    </tr>\n",
       "  </tbody>\n",
       "</table>\n",
       "</div>"
      ],
      "text/plain": [
       "             device_id   app  size gender   age   group  trainrow  testrow\n",
       "0 -9222956879900151005   548    18      M  36.0  M32-38   21594.0      NaN\n",
       "1 -9222956879900151005  1096    18      M  36.0  M32-38   21594.0      NaN\n",
       "2 -9222956879900151005  1248    26      M  36.0  M32-38   21594.0      NaN\n",
       "3 -9222956879900151005  1545    12      M  36.0  M32-38   21594.0      NaN\n",
       "4 -9222956879900151005  1664    18      M  36.0  M32-38   21594.0      NaN"
      ]
     },
     "execution_count": 12,
     "metadata": {},
     "output_type": "execute_result"
    }
   ],
   "source": [
    "appencoder = LabelEncoder().fit(appevents.app_id)\n",
    "appevents['app'] = appencoder.transform(appevents.app_id)\n",
    "napps = len(appencoder.classes_)\n",
    "deviceapps = (appevents.merge(events[['device_id']], how='left',left_on='event_id',right_index=True)\n",
    "                       .groupby(['device_id','app'])['app'].agg(['size'])\n",
    "                       .merge(train, how='left', left_index=True, right_index=True)\n",
    "                       .merge(test, how='left', left_index=True, right_index=True)\n",
    "                       .reset_index())\n",
    "\"\"\"\n",
    "deviceapps = (appevents.merge(events[['device_id']], how='left',left_on='event_id',right_index=True)\n",
    "                       .groupby(['device_id','app'])['is_active'].agg(['sum'])\n",
    "                       .merge(train, how='left', left_index=True, right_index=True)\n",
    "                       .merge(test, how='left', left_index=True, right_index=True)\n",
    "                       .reset_index())\n",
    "\"\"\"\n",
    "deviceapps.head()"
   ]
  },
  {
   "cell_type": "code",
   "execution_count": null,
   "metadata": {
    "collapsed": true
   },
   "outputs": [],
   "source": [
    "app_count = deviceapps.group_by[\"app\"].value_counts().reset_index().head(10)\n",
    "sns.barplot(y = brand_count[\"index\"],x = brand_count[\"eng_phone_brand\"])"
   ]
  },
  {
   "cell_type": "code",
   "execution_count": 13,
   "metadata": {
    "collapsed": false
   },
   "outputs": [
    {
     "name": "stdout",
     "output_type": "stream",
     "text": [
      "Apps data: train shape (74645, 19237), test shape (112071, 19237)\n"
     ]
    }
   ],
   "source": [
    "d = deviceapps.dropna(subset=['trainrow'])\n",
    "Xtr_app = csr_matrix((np.ones(d.shape[0]), (d.trainrow, d.app)), \n",
    "                      shape=(train.shape[0],napps))\n",
    "d = deviceapps.dropna(subset=['testrow'])\n",
    "Xte_app = csr_matrix((np.ones(d.shape[0]), (d.testrow, d.app)), \n",
    "                      shape=(test.shape[0],napps))\n",
    "print('Apps data: train shape {}, test shape {}'.format(Xtr_app.shape, Xte_app.shape))"
   ]
  },
  {
   "cell_type": "markdown",
   "metadata": {},
   "source": [
    "#### APP Label"
   ]
  },
  {
   "cell_type": "code",
   "execution_count": 14,
   "metadata": {
    "collapsed": false,
    "scrolled": true
   },
   "outputs": [
    {
     "data": {
      "text/html": [
       "<div>\n",
       "<style scoped>\n",
       "    .dataframe tbody tr th:only-of-type {\n",
       "        vertical-align: middle;\n",
       "    }\n",
       "\n",
       "    .dataframe tbody tr th {\n",
       "        vertical-align: top;\n",
       "    }\n",
       "\n",
       "    .dataframe thead th {\n",
       "        text-align: right;\n",
       "    }\n",
       "</style>\n",
       "<table border=\"1\" class=\"dataframe\">\n",
       "  <thead>\n",
       "    <tr style=\"text-align: right;\">\n",
       "      <th></th>\n",
       "      <th>app_id</th>\n",
       "      <th>label_id</th>\n",
       "      <th>app</th>\n",
       "      <th>label</th>\n",
       "      <th>category</th>\n",
       "    </tr>\n",
       "  </thead>\n",
       "  <tbody>\n",
       "    <tr>\n",
       "      <th>0</th>\n",
       "      <td>7324884708820027918</td>\n",
       "      <td>251</td>\n",
       "      <td>17355</td>\n",
       "      <td>207</td>\n",
       "      <td>Finance</td>\n",
       "    </tr>\n",
       "    <tr>\n",
       "      <th>1</th>\n",
       "      <td>-4494216993218550286</td>\n",
       "      <td>251</td>\n",
       "      <td>4618</td>\n",
       "      <td>207</td>\n",
       "      <td>Finance</td>\n",
       "    </tr>\n",
       "    <tr>\n",
       "      <th>2</th>\n",
       "      <td>8756705988821000489</td>\n",
       "      <td>251</td>\n",
       "      <td>18741</td>\n",
       "      <td>207</td>\n",
       "      <td>Finance</td>\n",
       "    </tr>\n",
       "  </tbody>\n",
       "</table>\n",
       "</div>"
      ],
      "text/plain": [
       "                app_id  label_id    app  label category\n",
       "0  7324884708820027918       251  17355    207  Finance\n",
       "1 -4494216993218550286       251   4618    207  Finance\n",
       "2  8756705988821000489       251  18741    207  Finance"
      ]
     },
     "execution_count": 14,
     "metadata": {},
     "output_type": "execute_result"
    }
   ],
   "source": [
    "applabels = applabels.loc[applabels.app_id.isin(appevents.app_id.unique())]\n",
    "applabels['app'] = appencoder.transform(applabels.app_id)\n",
    "labelencoder = LabelEncoder().fit(applabels.label_id)\n",
    "applabels['label'] = labelencoder.transform(applabels.label_id)\n",
    "nlabels = len(labelencoder.classes_)\n",
    "applabels = applabels.merge(labelcat,on=\"label_id\")\n",
    "applabels.head(3)"
   ]
  },
  {
   "cell_type": "code",
   "execution_count": 62,
   "metadata": {
    "collapsed": false
   },
   "outputs": [
    {
     "data": {
      "text/html": [
       "<div>\n",
       "<style scoped>\n",
       "    .dataframe tbody tr th:only-of-type {\n",
       "        vertical-align: middle;\n",
       "    }\n",
       "\n",
       "    .dataframe tbody tr th {\n",
       "        vertical-align: top;\n",
       "    }\n",
       "\n",
       "    .dataframe thead th {\n",
       "        text-align: right;\n",
       "    }\n",
       "</style>\n",
       "<table border=\"1\" class=\"dataframe\">\n",
       "  <thead>\n",
       "    <tr style=\"text-align: right;\">\n",
       "      <th></th>\n",
       "      <th>device_id</th>\n",
       "      <th>label</th>\n",
       "      <th>category</th>\n",
       "      <th>size</th>\n",
       "      <th>gender</th>\n",
       "      <th>age</th>\n",
       "      <th>group</th>\n",
       "      <th>trainrow</th>\n",
       "      <th>testrow</th>\n",
       "    </tr>\n",
       "  </thead>\n",
       "  <tbody>\n",
       "    <tr>\n",
       "      <th>0</th>\n",
       "      <td>-9222956879900151005</td>\n",
       "      <td>117</td>\n",
       "      <td>magazine and journal</td>\n",
       "      <td>1</td>\n",
       "      <td>M</td>\n",
       "      <td>36.0</td>\n",
       "      <td>M32-38</td>\n",
       "      <td>21594.0</td>\n",
       "      <td>NaN</td>\n",
       "    </tr>\n",
       "    <tr>\n",
       "      <th>1</th>\n",
       "      <td>-9222956879900151005</td>\n",
       "      <td>120</td>\n",
       "      <td>reading platform</td>\n",
       "      <td>1</td>\n",
       "      <td>M</td>\n",
       "      <td>36.0</td>\n",
       "      <td>M32-38</td>\n",
       "      <td>21594.0</td>\n",
       "      <td>NaN</td>\n",
       "    </tr>\n",
       "    <tr>\n",
       "      <th>2</th>\n",
       "      <td>-9222956879900151005</td>\n",
       "      <td>126</td>\n",
       "      <td>news</td>\n",
       "      <td>1</td>\n",
       "      <td>M</td>\n",
       "      <td>36.0</td>\n",
       "      <td>M32-38</td>\n",
       "      <td>21594.0</td>\n",
       "      <td>NaN</td>\n",
       "    </tr>\n",
       "    <tr>\n",
       "      <th>3</th>\n",
       "      <td>-9222956879900151005</td>\n",
       "      <td>138</td>\n",
       "      <td>IM</td>\n",
       "      <td>2</td>\n",
       "      <td>M</td>\n",
       "      <td>36.0</td>\n",
       "      <td>M32-38</td>\n",
       "      <td>21594.0</td>\n",
       "      <td>NaN</td>\n",
       "    </tr>\n",
       "    <tr>\n",
       "      <th>4</th>\n",
       "      <td>-9222956879900151005</td>\n",
       "      <td>147</td>\n",
       "      <td>map</td>\n",
       "      <td>2</td>\n",
       "      <td>M</td>\n",
       "      <td>36.0</td>\n",
       "      <td>M32-38</td>\n",
       "      <td>21594.0</td>\n",
       "      <td>NaN</td>\n",
       "    </tr>\n",
       "  </tbody>\n",
       "</table>\n",
       "</div>"
      ],
      "text/plain": [
       "             device_id  label              category  size gender   age  \\\n",
       "0 -9222956879900151005    117  magazine and journal     1      M  36.0   \n",
       "1 -9222956879900151005    120      reading platform     1      M  36.0   \n",
       "2 -9222956879900151005    126                  news     1      M  36.0   \n",
       "3 -9222956879900151005    138                    IM     2      M  36.0   \n",
       "4 -9222956879900151005    147                   map     2      M  36.0   \n",
       "\n",
       "    group  trainrow  testrow  \n",
       "0  M32-38   21594.0      NaN  \n",
       "1  M32-38   21594.0      NaN  \n",
       "2  M32-38   21594.0      NaN  \n",
       "3  M32-38   21594.0      NaN  \n",
       "4  M32-38   21594.0      NaN  "
      ]
     },
     "execution_count": 62,
     "metadata": {},
     "output_type": "execute_result"
    }
   ],
   "source": [
    "devicelabels = (deviceapps[['device_id','app']]\n",
    "                .merge(applabels[['app','label','category']])\n",
    "                .groupby(['device_id','label','category'])['app'].agg(['size'])\n",
    "                .merge(train, how='left', left_index=True, right_index=True)\n",
    "                .merge(test, how='left', left_index=True, right_index=True)\n",
    "                .reset_index())\n",
    "devicelabels.head()"
   ]
  },
  {
   "cell_type": "code",
   "execution_count": 63,
   "metadata": {
    "collapsed": false
   },
   "outputs": [
    {
     "name": "stdout",
     "output_type": "stream",
     "text": [
      "Labels data: train shape (74645, 492), test shape (112071, 492)\n"
     ]
    }
   ],
   "source": [
    "d = devicelabels.dropna(subset=['trainrow'])\n",
    "Xtr_label = csr_matrix((np.ones(d.shape[0]), (d.trainrow, d.label)), \n",
    "                      shape=(train.shape[0],nlabels))\n",
    "d = devicelabels.dropna(subset=['testrow'])\n",
    "Xte_label = csr_matrix((np.ones(d.shape[0]), (d.testrow, d.label)), \n",
    "                      shape=(test.shape[0],nlabels))\n",
    "print('Labels data: train shape {}, test shape {}'.format(Xtr_label.shape, Xte_label.shape))"
   ]
  },
  {
   "cell_type": "markdown",
   "metadata": {},
   "source": [
    "# Modeling"
   ]
  },
  {
   "cell_type": "code",
   "execution_count": 76,
   "metadata": {
    "collapsed": false,
    "scrolled": true
   },
   "outputs": [
    {
     "name": "stderr",
     "output_type": "stream",
     "text": [
      "C:\\Users\\yiqin\\Anaconda3\\lib\\site-packages\\sklearn\\cross_validation.py:44: DeprecationWarning: This module was deprecated in version 0.18 in favor of the model_selection module into which all the refactored classes and functions are moved. Also note that the interface of the new CV iterators are different from that of this module. This module will be removed in 0.20.\n",
      "  \"This module will be removed in 0.20.\", DeprecationWarning)\n"
     ]
    }
   ],
   "source": [
    "from sklearn.model_selection import train_test_split\n",
    "from sklearn.linear_model import LogisticRegression\n",
    "from sklearn.cross_validation import StratifiedKFold\n",
    "from sklearn.metrics import log_loss"
   ]
  },
  {
   "cell_type": "code",
   "execution_count": null,
   "metadata": {
    "collapsed": true
   },
   "outputs": [],
   "source": [
    "targetencoder = LabelEncoder().fit(train.group)\n",
    "Ytrain = targetencoder.transform(train.group)\n",
    "Ytrain\n",
    "nclasses = len(targetencoder.classes_)\n",
    "nclasses"
   ]
  },
  {
   "cell_type": "code",
   "execution_count": 65,
   "metadata": {
    "collapsed": false,
    "scrolled": true
   },
   "outputs": [
    {
     "name": "stdout",
     "output_type": "stream",
     "text": [
      "All features: train shape (74645, 19860), test shape (112071, 19860)\n"
     ]
    }
   ],
   "source": [
    "Xtrain = hstack((Xtr_brand, Xtr_app, Xtr_label), format='csr')\n",
    "Xtest =  hstack((Xte_brand, Xte_app, Xte_label), format='csr')\n",
    "print('All features: train shape {}, test shape {}'.format(Xtrain.shape, Xtest.shape))"
   ]
  },
  {
   "cell_type": "markdown",
   "metadata": {},
   "source": [
    "split train into train and test(validation)"
   ]
  },
  {
   "cell_type": "code",
   "execution_count": 74,
   "metadata": {
    "collapsed": false,
    "scrolled": true
   },
   "outputs": [
    {
     "name": "stdout",
     "output_type": "stream",
     "text": [
      "All features: train shape (59716, 19860), test shape (14929, 19860)\n"
     ]
    }
   ],
   "source": [
    "dtrain_X, dtest_X, dtrain_y, dtest_y = \\\n",
    "train_test_split(Xtrain, Ytrain, random_state=1026, test_size=0.2)\n",
    "print('All features: train shape {}, test shape {}'.format(dtrain_X.shape, dtest_X.shape))"
   ]
  },
  {
   "cell_type": "markdown",
   "metadata": {},
   "source": [
    "## Logistic Regression"
   ]
  },
  {
   "cell_type": "code",
   "execution_count": 197,
   "metadata": {
    "collapsed": true
   },
   "outputs": [],
   "source": [
    "def eval_logit(train_x,train_y,clf, random_state = 0):\n",
    "    kf = StratifiedKFold(train_y, n_folds=4, shuffle=True, random_state=random_state)\n",
    "    pred = np.zeros((train_y.shape[0],nclasses))\n",
    "    for itrain, itest in kf:\n",
    "        Xtr, Xte = train_x[itrain, :], train_x[itest, :]\n",
    "        ytr, yte = train_y[itrain], train_y[itest]\n",
    "        clf.fit(Xtr, ytr)\n",
    "        pred[itest,:] = clf.predict_proba(Xte)\n",
    "        #print(\"{:.5f}\".format(log_loss(yte, pred[itest,:])), end=' ')\n",
    "    #print('')\n",
    "    return log_loss(train_y, pred)\n",
    "\n",
    "\n",
    "def opt_logit_parm(train_x,train_y,random_state = 0, C = 0.02, solver = 'lbfgs', Cs = None, solvers = None):\n",
    "    #C: smaller values specify stronger regularization\n",
    "    #solver: ‘newton-cg’, ‘sag’, and ‘lbfgs’\n",
    "    if list(Cs) and solvers:\n",
    "        try:\n",
    "            for solver in solvers:\n",
    "                res = []\n",
    "                for C in Cs:\n",
    "                    clf = LogisticRegression(C = C, multi_class='multinomial', solver=solver)\n",
    "                    los_score = eval_logit(train_x,train_y,clf,random_state)\n",
    "                    print(\"C = {},solver = {}, log_loss = {}\".format(C,solver,los_score))\n",
    "                    res.append(los_score)\n",
    "                plt.plot(Cs, res,'-o',label = solver)\n",
    "            plt.legend()\n",
    "            #plt.xticks(rotation='vertical')\n",
    "            return \n",
    "        except:\n",
    "            print(\"error\")\n",
    "            return\n",
    "              \n",
    "    try:\n",
    "        res = []\n",
    "        for C in Cs:\n",
    "            print(\"C = {},solver = {}\".format(C,solver))\n",
    "            clf = LogisticRegression(C = C, multi_class='multinomial', solver=solver)\n",
    "            res.append(eval_logit(train_x,train_y,clf,random_state))\n",
    "        plt.semilogx(Cs, res,'-o')\n",
    "        C = Cs[np.array(res).argmin()] #set C with smallest log_loss when test solver\n",
    "    except:\n",
    "        print(\"no 'C' to be evaluated\")\n",
    "    \n",
    "    try:\n",
    "        for solver in solvers:\n",
    "            print(\"C = {},solver = {}\".format(C,solver))\n",
    "            clf = LogisticRegression(C = C, multi_class='multinomial', solver=solver)\n",
    "            los_score = eval_logit(train_x,train_y,clf,random_state)\n",
    "            print(\"Solver {} has a log_loss score of {}\".format(solver,los_score))\n",
    "            print(\"\")\n",
    "    except:\n",
    "        print(\"no 'solver' to be evaluated\")     "
   ]
  },
  {
   "cell_type": "code",
   "execution_count": 198,
   "metadata": {
    "collapsed": false
   },
   "outputs": [
    {
     "name": "stdout",
     "output_type": "stream",
     "text": [
      "C = 0.019,solver = newton-cg, log_loss = 2.285148162822099\n",
      "C = 0.02,solver = newton-cg, log_loss = 2.285177905434287\n",
      "C = 0.021,solver = newton-cg, log_loss = 2.2852465971630966\n",
      "C = 0.019,solver = lbfgs, log_loss = 2.2851733419441893\n",
      "C = 0.02,solver = lbfgs, log_loss = 2.2851870989026923\n",
      "C = 0.021,solver = lbfgs, log_loss = 2.2853291334894634\n",
      "error\n"
     ]
    },
    {
     "data": {
      "image/png": "[encoded data removed]",
      "text/plain": [
       "<matplotlib.figure.Figure at 0x2200c17fcc0>"
      ]
     },
     "metadata": {},
     "output_type": "display_data"
    }
   ],
   "source": [
    "solvers = [\"newton-cg\",\"lbfgs\"]\n",
    "Cs = np.array([0.019, 0.02, 0.021]) \n",
    "opt_logit_parm(dtrain_X,dtrain_y,Cs = Cs,solvers=solvers)"
   ]
  },
  {
   "cell_type": "code",
   "execution_count": 145,
   "metadata": {
    "collapsed": false
   },
   "outputs": [],
   "source": [
    "def logistic_reg(train_x,train_y,test_x,C=0.02,solver = 'lbfgs'):\n",
    "    clf = LogisticRegression(C=C, multi_class='multinomial',solver=solver)\n",
    "    clf.fit(train_x, train_y)\n",
    "    pred = clf.predict_proba(test_x)\n",
    "    return pred"
   ]
  },
  {
   "cell_type": "code",
   "execution_count": 149,
   "metadata": {
    "collapsed": false
   },
   "outputs": [
    {
     "data": {
      "text/plain": [
       "2.2790108786398795"
      ]
     },
     "execution_count": 149,
     "metadata": {},
     "output_type": "execute_result"
    }
   ],
   "source": [
    "pred = logistic_reg(dtrain_X,dtrain_y,dtest_X)\n",
    "log_loss(dtest_y, pred)"
   ]
  },
  {
   "cell_type": "code",
   "execution_count": 150,
   "metadata": {
    "collapsed": false
   },
   "outputs": [
    {
     "data": {
      "text/html": [
       "<div>\n",
       "<style scoped>\n",
       "    .dataframe tbody tr th:only-of-type {\n",
       "        vertical-align: middle;\n",
       "    }\n",
       "\n",
       "    .dataframe tbody tr th {\n",
       "        vertical-align: top;\n",
       "    }\n",
       "\n",
       "    .dataframe thead th {\n",
       "        text-align: right;\n",
       "    }\n",
       "</style>\n",
       "<table border=\"1\" class=\"dataframe\">\n",
       "  <thead>\n",
       "    <tr style=\"text-align: right;\">\n",
       "      <th></th>\n",
       "      <th>F23-</th>\n",
       "      <th>F24-26</th>\n",
       "      <th>F27-28</th>\n",
       "      <th>F29-32</th>\n",
       "      <th>F33-42</th>\n",
       "      <th>F43+</th>\n",
       "      <th>M22-</th>\n",
       "      <th>M23-26</th>\n",
       "      <th>M27-28</th>\n",
       "      <th>M29-31</th>\n",
       "      <th>M32-38</th>\n",
       "      <th>M39+</th>\n",
       "    </tr>\n",
       "    <tr>\n",
       "      <th>device_id</th>\n",
       "      <th></th>\n",
       "      <th></th>\n",
       "      <th></th>\n",
       "      <th></th>\n",
       "      <th></th>\n",
       "      <th></th>\n",
       "      <th></th>\n",
       "      <th></th>\n",
       "      <th></th>\n",
       "      <th></th>\n",
       "      <th></th>\n",
       "      <th></th>\n",
       "    </tr>\n",
       "  </thead>\n",
       "  <tbody>\n",
       "    <tr>\n",
       "      <th>1002079943728939269</th>\n",
       "      <td>0.002135</td>\n",
       "      <td>0.006673</td>\n",
       "      <td>0.013851</td>\n",
       "      <td>0.016982</td>\n",
       "      <td>0.027740</td>\n",
       "      <td>0.046255</td>\n",
       "      <td>0.013682</td>\n",
       "      <td>0.035040</td>\n",
       "      <td>0.071646</td>\n",
       "      <td>0.122932</td>\n",
       "      <td>0.251512</td>\n",
       "      <td>0.391554</td>\n",
       "    </tr>\n",
       "    <tr>\n",
       "      <th>-1547860181818787117</th>\n",
       "      <td>0.007577</td>\n",
       "      <td>0.015893</td>\n",
       "      <td>0.028318</td>\n",
       "      <td>0.067511</td>\n",
       "      <td>0.084191</td>\n",
       "      <td>0.144316</td>\n",
       "      <td>0.008343</td>\n",
       "      <td>0.076744</td>\n",
       "      <td>0.051568</td>\n",
       "      <td>0.081195</td>\n",
       "      <td>0.222904</td>\n",
       "      <td>0.211442</td>\n",
       "    </tr>\n",
       "    <tr>\n",
       "      <th>7374582448058474277</th>\n",
       "      <td>0.026266</td>\n",
       "      <td>0.040086</td>\n",
       "      <td>0.040218</td>\n",
       "      <td>0.153815</td>\n",
       "      <td>0.167866</td>\n",
       "      <td>0.082985</td>\n",
       "      <td>0.014786</td>\n",
       "      <td>0.029372</td>\n",
       "      <td>0.041580</td>\n",
       "      <td>0.097658</td>\n",
       "      <td>0.171933</td>\n",
       "      <td>0.133435</td>\n",
       "    </tr>\n",
       "    <tr>\n",
       "      <th>-6220210354783429585</th>\n",
       "      <td>0.005472</td>\n",
       "      <td>0.023529</td>\n",
       "      <td>0.011652</td>\n",
       "      <td>0.016008</td>\n",
       "      <td>0.060901</td>\n",
       "      <td>0.167219</td>\n",
       "      <td>0.041659</td>\n",
       "      <td>0.105891</td>\n",
       "      <td>0.058384</td>\n",
       "      <td>0.086792</td>\n",
       "      <td>0.181924</td>\n",
       "      <td>0.240569</td>\n",
       "    </tr>\n",
       "    <tr>\n",
       "      <th>-5893464122623104785</th>\n",
       "      <td>0.058713</td>\n",
       "      <td>0.059837</td>\n",
       "      <td>0.045241</td>\n",
       "      <td>0.063485</td>\n",
       "      <td>0.065774</td>\n",
       "      <td>0.050260</td>\n",
       "      <td>0.123269</td>\n",
       "      <td>0.147654</td>\n",
       "      <td>0.081403</td>\n",
       "      <td>0.097935</td>\n",
       "      <td>0.113851</td>\n",
       "      <td>0.092577</td>\n",
       "    </tr>\n",
       "  </tbody>\n",
       "</table>\n",
       "</div>"
      ],
      "text/plain": [
       "                          F23-    F24-26    F27-28    F29-32    F33-42  \\\n",
       "device_id                                                                \n",
       " 1002079943728939269  0.002135  0.006673  0.013851  0.016982  0.027740   \n",
       "-1547860181818787117  0.007577  0.015893  0.028318  0.067511  0.084191   \n",
       " 7374582448058474277  0.026266  0.040086  0.040218  0.153815  0.167866   \n",
       "-6220210354783429585  0.005472  0.023529  0.011652  0.016008  0.060901   \n",
       "-5893464122623104785  0.058713  0.059837  0.045241  0.063485  0.065774   \n",
       "\n",
       "                          F43+      M22-    M23-26    M27-28    M29-31  \\\n",
       "device_id                                                                \n",
       " 1002079943728939269  0.046255  0.013682  0.035040  0.071646  0.122932   \n",
       "-1547860181818787117  0.144316  0.008343  0.076744  0.051568  0.081195   \n",
       " 7374582448058474277  0.082985  0.014786  0.029372  0.041580  0.097658   \n",
       "-6220210354783429585  0.167219  0.041659  0.105891  0.058384  0.086792   \n",
       "-5893464122623104785  0.050260  0.123269  0.147654  0.081403  0.097935   \n",
       "\n",
       "                        M32-38      M39+  \n",
       "device_id                                 \n",
       " 1002079943728939269  0.251512  0.391554  \n",
       "-1547860181818787117  0.222904  0.211442  \n",
       " 7374582448058474277  0.171933  0.133435  \n",
       "-6220210354783429585  0.181924  0.240569  \n",
       "-5893464122623104785  0.113851  0.092577  "
      ]
     },
     "execution_count": 150,
     "metadata": {},
     "output_type": "execute_result"
    }
   ],
   "source": [
    "pred = logistic_reg(Xtrain,Ytrain,Xtest)\n",
    "pred = pd.DataFrame(pred, index = test.index, columns=targetencoder.classes_)\n",
    "pred.head()\n",
    "pred.to_csv('../input/logreg_subm.csv',index=True)"
   ]
  },
  {
   "cell_type": "markdown",
   "metadata": {},
   "source": [
    "## XGBoost"
   ]
  },
  {
   "cell_type": "code",
   "execution_count": 87,
   "metadata": {
    "collapsed": true
   },
   "outputs": [],
   "source": [
    "import xgboost as xgb"
   ]
  },
  {
   "cell_type": "code",
   "execution_count": 106,
   "metadata": {
    "collapsed": true
   },
   "outputs": [],
   "source": [
    "def opt_num_boost_round(train_x,train_y,xgb_params):\n",
    "    dtrain = xgb.DMatrix(train_x, train_y)\n",
    "    cv_output = xgb.cv(xgb_params, dtrain, num_boost_round=500, early_stopping_rounds=300,\n",
    "        verbose_eval=50, show_stdv=False)\n",
    "    cv_output[['train-mlogloss-mean', 'test-mlogloss-mean']].plot()\n",
    "    \n",
    "def xgb_model(train_x,train_y,test_x,xgb_params,num_round):\n",
    "    dtrain = xgb.DMatrix(train_x, train_y)\n",
    "    xgb_model = xgb.train(dict(xgb_params, silent=0), dtrain, num_boost_round=num_round)\n",
    "    pred = xgb_model.predict(xgb.DMatrix(test_x))\n",
    "    return pred"
   ]
  },
  {
   "cell_type": "code",
   "execution_count": 107,
   "metadata": {
    "collapsed": false,
    "scrolled": false
   },
   "outputs": [
    {
     "name": "stdout",
     "output_type": "stream",
     "text": [
      "[0]\ttrain-mlogloss:2.48389\ttest-mlogloss:2.48416\n",
      "[50]\ttrain-mlogloss:2.4383\ttest-mlogloss:2.45105\n",
      "[100]\ttrain-mlogloss:2.40126\ttest-mlogloss:2.42549\n",
      "[150]\ttrain-mlogloss:2.37038\ttest-mlogloss:2.40541\n",
      "[200]\ttrain-mlogloss:2.34409\ttest-mlogloss:2.38925\n",
      "[250]\ttrain-mlogloss:2.32125\ttest-mlogloss:2.37609\n",
      "[300]\ttrain-mlogloss:2.30125\ttest-mlogloss:2.36526\n",
      "[350]\ttrain-mlogloss:2.28355\ttest-mlogloss:2.35623\n",
      "[400]\ttrain-mlogloss:2.26776\ttest-mlogloss:2.34864\n",
      "[450]\ttrain-mlogloss:2.25347\ttest-mlogloss:2.34218\n"
     ]
    },
    {
     "data": {
      "image/png": "[encoded data removed]",
      "text/plain": [
       "<matplotlib.figure.Figure at 0x2200aec9908>"
      ]
     },
     "metadata": {},
     "output_type": "display_data"
    }
   ],
   "source": [
    "xgb_params = {\n",
    "    'eta': 0.005, #0.05\n",
    "    'max_depth': 8,\n",
    "    'subsample': 0.7,\n",
    "    'colsample_bytree': 0.7,\n",
    "    \"booster\" : \"gbtree\", #or 'gblinear'\n",
    "    'objective': 'multi:softprob',\n",
    "    'num_class': nclasses,\n",
    "    'eval_metric': 'mlogloss',\n",
    "    'lambda': 3,\n",
    "    'alpha': 2,\n",
    "    'silent': 1\n",
    "}\n",
    "\n",
    "opt_num_boost_round(dtrain_X,dtrain_y,xgb_params)"
   ]
  },
  {
   "cell_type": "code",
   "execution_count": 105,
   "metadata": {
    "collapsed": false
   },
   "outputs": [
    {
     "data": {
      "text/plain": [
       "2.30496732446835"
      ]
     },
     "execution_count": 105,
     "metadata": {},
     "output_type": "execute_result"
    }
   ],
   "source": [
    "pred = xgb_model(dtrain_X,dtrain_y,dtest_X,xgb_params,300)\n",
    "log_loss(dtest_y, pred)"
   ]
  },
  {
   "cell_type": "code",
   "execution_count": 99,
   "metadata": {
    "collapsed": false
   },
   "outputs": [],
   "source": [
    "xgb_model = xgb.train(dict(xgb_params, silent=0), dtrain, num_boost_round=100)\n",
    "pred = xgb_model.predict(xgb.DMatrix(Xtest))"
   ]
  },
  {
   "cell_type": "code",
   "execution_count": 102,
   "metadata": {
    "collapsed": false
   },
   "outputs": [
    {
     "data": {
      "text/html": [
       "<div>\n",
       "<style scoped>\n",
       "    .dataframe tbody tr th:only-of-type {\n",
       "        vertical-align: middle;\n",
       "    }\n",
       "\n",
       "    .dataframe tbody tr th {\n",
       "        vertical-align: top;\n",
       "    }\n",
       "\n",
       "    .dataframe thead th {\n",
       "        text-align: right;\n",
       "    }\n",
       "</style>\n",
       "<table border=\"1\" class=\"dataframe\">\n",
       "  <thead>\n",
       "    <tr style=\"text-align: right;\">\n",
       "      <th></th>\n",
       "      <th>F23-</th>\n",
       "      <th>F24-26</th>\n",
       "      <th>F27-28</th>\n",
       "      <th>F29-32</th>\n",
       "      <th>F33-42</th>\n",
       "      <th>F43+</th>\n",
       "      <th>M22-</th>\n",
       "      <th>M23-26</th>\n",
       "      <th>M27-28</th>\n",
       "      <th>M29-31</th>\n",
       "      <th>M32-38</th>\n",
       "      <th>M39+</th>\n",
       "    </tr>\n",
       "    <tr>\n",
       "      <th>device_id</th>\n",
       "      <th></th>\n",
       "      <th></th>\n",
       "      <th></th>\n",
       "      <th></th>\n",
       "      <th></th>\n",
       "      <th></th>\n",
       "      <th></th>\n",
       "      <th></th>\n",
       "      <th></th>\n",
       "      <th></th>\n",
       "      <th></th>\n",
       "      <th></th>\n",
       "    </tr>\n",
       "  </thead>\n",
       "  <tbody>\n",
       "    <tr>\n",
       "      <th>1002079943728939269</th>\n",
       "      <td>0.020356</td>\n",
       "      <td>0.023972</td>\n",
       "      <td>0.027767</td>\n",
       "      <td>0.039740</td>\n",
       "      <td>0.062159</td>\n",
       "      <td>0.035723</td>\n",
       "      <td>0.020136</td>\n",
       "      <td>0.078256</td>\n",
       "      <td>0.102438</td>\n",
       "      <td>0.128514</td>\n",
       "      <td>0.192075</td>\n",
       "      <td>0.268864</td>\n",
       "    </tr>\n",
       "    <tr>\n",
       "      <th>-1547860181818787117</th>\n",
       "      <td>0.018284</td>\n",
       "      <td>0.022587</td>\n",
       "      <td>0.026807</td>\n",
       "      <td>0.054173</td>\n",
       "      <td>0.083987</td>\n",
       "      <td>0.116486</td>\n",
       "      <td>0.027733</td>\n",
       "      <td>0.065304</td>\n",
       "      <td>0.053067</td>\n",
       "      <td>0.119469</td>\n",
       "      <td>0.145895</td>\n",
       "      <td>0.266210</td>\n",
       "    </tr>\n",
       "    <tr>\n",
       "      <th>7374582448058474277</th>\n",
       "      <td>0.060965</td>\n",
       "      <td>0.057471</td>\n",
       "      <td>0.045250</td>\n",
       "      <td>0.132771</td>\n",
       "      <td>0.122005</td>\n",
       "      <td>0.070145</td>\n",
       "      <td>0.047743</td>\n",
       "      <td>0.047213</td>\n",
       "      <td>0.059929</td>\n",
       "      <td>0.091321</td>\n",
       "      <td>0.138754</td>\n",
       "      <td>0.126433</td>\n",
       "    </tr>\n",
       "    <tr>\n",
       "      <th>-6220210354783429585</th>\n",
       "      <td>0.019856</td>\n",
       "      <td>0.031435</td>\n",
       "      <td>0.018849</td>\n",
       "      <td>0.031528</td>\n",
       "      <td>0.101011</td>\n",
       "      <td>0.095204</td>\n",
       "      <td>0.022868</td>\n",
       "      <td>0.104557</td>\n",
       "      <td>0.061463</td>\n",
       "      <td>0.098732</td>\n",
       "      <td>0.158400</td>\n",
       "      <td>0.256096</td>\n",
       "    </tr>\n",
       "    <tr>\n",
       "      <th>-5893464122623104785</th>\n",
       "      <td>0.061490</td>\n",
       "      <td>0.058969</td>\n",
       "      <td>0.045441</td>\n",
       "      <td>0.063337</td>\n",
       "      <td>0.070501</td>\n",
       "      <td>0.055015</td>\n",
       "      <td>0.117777</td>\n",
       "      <td>0.139203</td>\n",
       "      <td>0.077900</td>\n",
       "      <td>0.096837</td>\n",
       "      <td>0.117411</td>\n",
       "      <td>0.096120</td>\n",
       "    </tr>\n",
       "  </tbody>\n",
       "</table>\n",
       "</div>"
      ],
      "text/plain": [
       "                          F23-    F24-26    F27-28    F29-32    F33-42  \\\n",
       "device_id                                                                \n",
       " 1002079943728939269  0.020356  0.023972  0.027767  0.039740  0.062159   \n",
       "-1547860181818787117  0.018284  0.022587  0.026807  0.054173  0.083987   \n",
       " 7374582448058474277  0.060965  0.057471  0.045250  0.132771  0.122005   \n",
       "-6220210354783429585  0.019856  0.031435  0.018849  0.031528  0.101011   \n",
       "-5893464122623104785  0.061490  0.058969  0.045441  0.063337  0.070501   \n",
       "\n",
       "                          F43+      M22-    M23-26    M27-28    M29-31  \\\n",
       "device_id                                                                \n",
       " 1002079943728939269  0.035723  0.020136  0.078256  0.102438  0.128514   \n",
       "-1547860181818787117  0.116486  0.027733  0.065304  0.053067  0.119469   \n",
       " 7374582448058474277  0.070145  0.047743  0.047213  0.059929  0.091321   \n",
       "-6220210354783429585  0.095204  0.022868  0.104557  0.061463  0.098732   \n",
       "-5893464122623104785  0.055015  0.117777  0.139203  0.077900  0.096837   \n",
       "\n",
       "                        M32-38      M39+  \n",
       "device_id                                 \n",
       " 1002079943728939269  0.192075  0.268864  \n",
       "-1547860181818787117  0.145895  0.266210  \n",
       " 7374582448058474277  0.138754  0.126433  \n",
       "-6220210354783429585  0.158400  0.256096  \n",
       "-5893464122623104785  0.117411  0.096120  "
      ]
     },
     "execution_count": 102,
     "metadata": {},
     "output_type": "execute_result"
    }
   ],
   "source": [
    "pred = pd.DataFrame(pred, index = test.index, columns=targetencoder.classes_)\n",
    "pred.head()\n",
    "pred.to_csv('../input/xgb_subm.csv',index=True)"
   ]
  }
 ],
 "metadata": {
  "kernelspec": {
   "display_name": "Python 3",
   "language": "python",
   "name": "python3"
  },
  "language_info": {
   "codemirror_mode": {
    "name": "ipython",
    "version": 3
   },
   "file_extension": ".py",
   "mimetype": "text/x-python",
   "name": "python",
   "nbconvert_exporter": "python",
   "pygments_lexer": "ipython3",
   "version": "3.6.0"
  }
 },
 "nbformat": 4,
 "nbformat_minor": 2
}
